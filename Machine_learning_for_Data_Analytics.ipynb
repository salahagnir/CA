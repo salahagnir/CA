{
  "nbformat": 4,
  "nbformat_minor": 0,
  "metadata": {
    "colab": {
      "provenance": [],
      "mount_file_id": "127cBfFwcXXaLH4oX4jl-J22A47oTGXAR",
      "authorship_tag": "ABX9TyNIOyrEXQN1Rpa1/YnoLmAA",
      "include_colab_link": true
    },
    "kernelspec": {
      "name": "python3",
      "display_name": "Python 3"
    },
    "language_info": {
      "name": "python"
    }
  },
  "cells": [
    {
      "cell_type": "markdown",
      "metadata": {
        "id": "view-in-github",
        "colab_type": "text"
      },
      "source": [
        "<a href=\"https://colab.research.google.com/github/salahagnir/CA/blob/main/Machine_learning_for_Data_Analytics.ipynb\" target=\"_parent\"><img src=\"https://colab.research.google.com/assets/colab-badge.svg\" alt=\"Open In Colab\"/></a>"
      ]
    },
    {
      "cell_type": "code",
      "source": [
        "import numpy as np\n",
        "import matplotlib.pyplot as plt\n",
        "import pandas as pd\n",
        "import seaborn as sns\n",
        "\n",
        "from sklearn.model_selection import train_test_split\n",
        "from sklearn.ensemble import RandomForestClassifier\n",
        "from sklearn.cluster import KMeans\n",
        "\n",
        "\n",
        "from sklearn.model_selection import train_test_split, GridSearchCV\n",
        "from sklearn.linear_model import LinearRegression\n",
        "from sklearn.ensemble import RandomForestRegressor\n",
        "from sklearn.svm import SVR\n",
        "from sklearn.preprocessing import StandardScaler\n",
        "from sklearn.ensemble import RandomForestRegressor, GradientBoostingRegressor\n",
        "from sklearn.metrics import mean_absolute_error, mean_squared_error, r2_score"
      ],
      "metadata": {
        "id": "6q44tEDpCaNG"
      },
      "execution_count": null,
      "outputs": []
    },
    {
      "cell_type": "code",
      "source": [
        "df = pd.read_csv('/content/drive/MyDrive/CA MSc/Estimated Migration.csv')\n",
        "\n",
        "df.head(5)"
      ],
      "metadata": {
        "colab": {
          "base_uri": "https://localhost:8080/",
          "height": 206
        },
        "id": "jHs8jRSVZ45v",
        "outputId": "00dda7e6-c55a-41e3-ce6d-e040b2c13e03"
      },
      "execution_count": null,
      "outputs": [
        {
          "output_type": "execute_result",
          "data": {
            "text/plain": [
              "                          STATISTIC Label  Year Age Group         Sex  \\\n",
              "0  Estimated Migration (Persons in April)  1987  All ages  Both sexes   \n",
              "1  Estimated Migration (Persons in April)  1987  All ages  Both sexes   \n",
              "2  Estimated Migration (Persons in April)  1987  All ages  Both sexes   \n",
              "3  Estimated Migration (Persons in April)  1987  All ages        Male   \n",
              "4  Estimated Migration (Persons in April)  1987  All ages        Male   \n",
              "\n",
              "        Inward or Outward Flow      UNIT  VALUE  \n",
              "0                Net migration  Thousand  -23.0  \n",
              "1  Emigrants: All destinations  Thousand   40.2  \n",
              "2      Immigrants: All origins  Thousand   17.2  \n",
              "3                Net migration  Thousand    NaN  \n",
              "4  Emigrants: All destinations  Thousand    NaN  "
            ],
            "text/html": [
              "\n",
              "  <div id=\"df-5ae60ae3-8dcb-4c42-84f8-d642e23614d9\" class=\"colab-df-container\">\n",
              "    <div>\n",
              "<style scoped>\n",
              "    .dataframe tbody tr th:only-of-type {\n",
              "        vertical-align: middle;\n",
              "    }\n",
              "\n",
              "    .dataframe tbody tr th {\n",
              "        vertical-align: top;\n",
              "    }\n",
              "\n",
              "    .dataframe thead th {\n",
              "        text-align: right;\n",
              "    }\n",
              "</style>\n",
              "<table border=\"1\" class=\"dataframe\">\n",
              "  <thead>\n",
              "    <tr style=\"text-align: right;\">\n",
              "      <th></th>\n",
              "      <th>STATISTIC Label</th>\n",
              "      <th>Year</th>\n",
              "      <th>Age Group</th>\n",
              "      <th>Sex</th>\n",
              "      <th>Inward or Outward Flow</th>\n",
              "      <th>UNIT</th>\n",
              "      <th>VALUE</th>\n",
              "    </tr>\n",
              "  </thead>\n",
              "  <tbody>\n",
              "    <tr>\n",
              "      <th>0</th>\n",
              "      <td>Estimated Migration (Persons in April)</td>\n",
              "      <td>1987</td>\n",
              "      <td>All ages</td>\n",
              "      <td>Both sexes</td>\n",
              "      <td>Net migration</td>\n",
              "      <td>Thousand</td>\n",
              "      <td>-23.0</td>\n",
              "    </tr>\n",
              "    <tr>\n",
              "      <th>1</th>\n",
              "      <td>Estimated Migration (Persons in April)</td>\n",
              "      <td>1987</td>\n",
              "      <td>All ages</td>\n",
              "      <td>Both sexes</td>\n",
              "      <td>Emigrants: All destinations</td>\n",
              "      <td>Thousand</td>\n",
              "      <td>40.2</td>\n",
              "    </tr>\n",
              "    <tr>\n",
              "      <th>2</th>\n",
              "      <td>Estimated Migration (Persons in April)</td>\n",
              "      <td>1987</td>\n",
              "      <td>All ages</td>\n",
              "      <td>Both sexes</td>\n",
              "      <td>Immigrants: All origins</td>\n",
              "      <td>Thousand</td>\n",
              "      <td>17.2</td>\n",
              "    </tr>\n",
              "    <tr>\n",
              "      <th>3</th>\n",
              "      <td>Estimated Migration (Persons in April)</td>\n",
              "      <td>1987</td>\n",
              "      <td>All ages</td>\n",
              "      <td>Male</td>\n",
              "      <td>Net migration</td>\n",
              "      <td>Thousand</td>\n",
              "      <td>NaN</td>\n",
              "    </tr>\n",
              "    <tr>\n",
              "      <th>4</th>\n",
              "      <td>Estimated Migration (Persons in April)</td>\n",
              "      <td>1987</td>\n",
              "      <td>All ages</td>\n",
              "      <td>Male</td>\n",
              "      <td>Emigrants: All destinations</td>\n",
              "      <td>Thousand</td>\n",
              "      <td>NaN</td>\n",
              "    </tr>\n",
              "  </tbody>\n",
              "</table>\n",
              "</div>\n",
              "    <div class=\"colab-df-buttons\">\n",
              "\n",
              "  <div class=\"colab-df-container\">\n",
              "    <button class=\"colab-df-convert\" onclick=\"convertToInteractive('df-5ae60ae3-8dcb-4c42-84f8-d642e23614d9')\"\n",
              "            title=\"Convert this dataframe to an interactive table.\"\n",
              "            style=\"display:none;\">\n",
              "\n",
              "  <svg xmlns=\"http://www.w3.org/2000/svg\" height=\"24px\" viewBox=\"0 -960 960 960\">\n",
              "    <path d=\"M120-120v-720h720v720H120Zm60-500h600v-160H180v160Zm220 220h160v-160H400v160Zm0 220h160v-160H400v160ZM180-400h160v-160H180v160Zm440 0h160v-160H620v160ZM180-180h160v-160H180v160Zm440 0h160v-160H620v160Z\"/>\n",
              "  </svg>\n",
              "    </button>\n",
              "\n",
              "  <style>\n",
              "    .colab-df-container {\n",
              "      display:flex;\n",
              "      gap: 12px;\n",
              "    }\n",
              "\n",
              "    .colab-df-convert {\n",
              "      background-color: #E8F0FE;\n",
              "      border: none;\n",
              "      border-radius: 50%;\n",
              "      cursor: pointer;\n",
              "      display: none;\n",
              "      fill: #1967D2;\n",
              "      height: 32px;\n",
              "      padding: 0 0 0 0;\n",
              "      width: 32px;\n",
              "    }\n",
              "\n",
              "    .colab-df-convert:hover {\n",
              "      background-color: #E2EBFA;\n",
              "      box-shadow: 0px 1px 2px rgba(60, 64, 67, 0.3), 0px 1px 3px 1px rgba(60, 64, 67, 0.15);\n",
              "      fill: #174EA6;\n",
              "    }\n",
              "\n",
              "    .colab-df-buttons div {\n",
              "      margin-bottom: 4px;\n",
              "    }\n",
              "\n",
              "    [theme=dark] .colab-df-convert {\n",
              "      background-color: #3B4455;\n",
              "      fill: #D2E3FC;\n",
              "    }\n",
              "\n",
              "    [theme=dark] .colab-df-convert:hover {\n",
              "      background-color: #434B5C;\n",
              "      box-shadow: 0px 1px 3px 1px rgba(0, 0, 0, 0.15);\n",
              "      filter: drop-shadow(0px 1px 2px rgba(0, 0, 0, 0.3));\n",
              "      fill: #FFFFFF;\n",
              "    }\n",
              "  </style>\n",
              "\n",
              "    <script>\n",
              "      const buttonEl =\n",
              "        document.querySelector('#df-5ae60ae3-8dcb-4c42-84f8-d642e23614d9 button.colab-df-convert');\n",
              "      buttonEl.style.display =\n",
              "        google.colab.kernel.accessAllowed ? 'block' : 'none';\n",
              "\n",
              "      async function convertToInteractive(key) {\n",
              "        const element = document.querySelector('#df-5ae60ae3-8dcb-4c42-84f8-d642e23614d9');\n",
              "        const dataTable =\n",
              "          await google.colab.kernel.invokeFunction('convertToInteractive',\n",
              "                                                    [key], {});\n",
              "        if (!dataTable) return;\n",
              "\n",
              "        const docLinkHtml = 'Like what you see? Visit the ' +\n",
              "          '<a target=\"_blank\" href=https://colab.research.google.com/notebooks/data_table.ipynb>data table notebook</a>'\n",
              "          + ' to learn more about interactive tables.';\n",
              "        element.innerHTML = '';\n",
              "        dataTable['output_type'] = 'display_data';\n",
              "        await google.colab.output.renderOutput(dataTable, element);\n",
              "        const docLink = document.createElement('div');\n",
              "        docLink.innerHTML = docLinkHtml;\n",
              "        element.appendChild(docLink);\n",
              "      }\n",
              "    </script>\n",
              "  </div>\n",
              "\n",
              "\n",
              "<div id=\"df-a2c1ec22-2609-4616-8ce6-a84a289fe96d\">\n",
              "  <button class=\"colab-df-quickchart\" onclick=\"quickchart('df-a2c1ec22-2609-4616-8ce6-a84a289fe96d')\"\n",
              "            title=\"Suggest charts.\"\n",
              "            style=\"display:none;\">\n",
              "\n",
              "<svg xmlns=\"http://www.w3.org/2000/svg\" height=\"24px\"viewBox=\"0 0 24 24\"\n",
              "     width=\"24px\">\n",
              "    <g>\n",
              "        <path d=\"M19 3H5c-1.1 0-2 .9-2 2v14c0 1.1.9 2 2 2h14c1.1 0 2-.9 2-2V5c0-1.1-.9-2-2-2zM9 17H7v-7h2v7zm4 0h-2V7h2v10zm4 0h-2v-4h2v4z\"/>\n",
              "    </g>\n",
              "</svg>\n",
              "  </button>\n",
              "\n",
              "<style>\n",
              "  .colab-df-quickchart {\n",
              "      --bg-color: #E8F0FE;\n",
              "      --fill-color: #1967D2;\n",
              "      --hover-bg-color: #E2EBFA;\n",
              "      --hover-fill-color: #174EA6;\n",
              "      --disabled-fill-color: #AAA;\n",
              "      --disabled-bg-color: #DDD;\n",
              "  }\n",
              "\n",
              "  [theme=dark] .colab-df-quickchart {\n",
              "      --bg-color: #3B4455;\n",
              "      --fill-color: #D2E3FC;\n",
              "      --hover-bg-color: #434B5C;\n",
              "      --hover-fill-color: #FFFFFF;\n",
              "      --disabled-bg-color: #3B4455;\n",
              "      --disabled-fill-color: #666;\n",
              "  }\n",
              "\n",
              "  .colab-df-quickchart {\n",
              "    background-color: var(--bg-color);\n",
              "    border: none;\n",
              "    border-radius: 50%;\n",
              "    cursor: pointer;\n",
              "    display: none;\n",
              "    fill: var(--fill-color);\n",
              "    height: 32px;\n",
              "    padding: 0;\n",
              "    width: 32px;\n",
              "  }\n",
              "\n",
              "  .colab-df-quickchart:hover {\n",
              "    background-color: var(--hover-bg-color);\n",
              "    box-shadow: 0 1px 2px rgba(60, 64, 67, 0.3), 0 1px 3px 1px rgba(60, 64, 67, 0.15);\n",
              "    fill: var(--button-hover-fill-color);\n",
              "  }\n",
              "\n",
              "  .colab-df-quickchart-complete:disabled,\n",
              "  .colab-df-quickchart-complete:disabled:hover {\n",
              "    background-color: var(--disabled-bg-color);\n",
              "    fill: var(--disabled-fill-color);\n",
              "    box-shadow: none;\n",
              "  }\n",
              "\n",
              "  .colab-df-spinner {\n",
              "    border: 2px solid var(--fill-color);\n",
              "    border-color: transparent;\n",
              "    border-bottom-color: var(--fill-color);\n",
              "    animation:\n",
              "      spin 1s steps(1) infinite;\n",
              "  }\n",
              "\n",
              "  @keyframes spin {\n",
              "    0% {\n",
              "      border-color: transparent;\n",
              "      border-bottom-color: var(--fill-color);\n",
              "      border-left-color: var(--fill-color);\n",
              "    }\n",
              "    20% {\n",
              "      border-color: transparent;\n",
              "      border-left-color: var(--fill-color);\n",
              "      border-top-color: var(--fill-color);\n",
              "    }\n",
              "    30% {\n",
              "      border-color: transparent;\n",
              "      border-left-color: var(--fill-color);\n",
              "      border-top-color: var(--fill-color);\n",
              "      border-right-color: var(--fill-color);\n",
              "    }\n",
              "    40% {\n",
              "      border-color: transparent;\n",
              "      border-right-color: var(--fill-color);\n",
              "      border-top-color: var(--fill-color);\n",
              "    }\n",
              "    60% {\n",
              "      border-color: transparent;\n",
              "      border-right-color: var(--fill-color);\n",
              "    }\n",
              "    80% {\n",
              "      border-color: transparent;\n",
              "      border-right-color: var(--fill-color);\n",
              "      border-bottom-color: var(--fill-color);\n",
              "    }\n",
              "    90% {\n",
              "      border-color: transparent;\n",
              "      border-bottom-color: var(--fill-color);\n",
              "    }\n",
              "  }\n",
              "</style>\n",
              "\n",
              "  <script>\n",
              "    async function quickchart(key) {\n",
              "      const quickchartButtonEl =\n",
              "        document.querySelector('#' + key + ' button');\n",
              "      quickchartButtonEl.disabled = true;  // To prevent multiple clicks.\n",
              "      quickchartButtonEl.classList.add('colab-df-spinner');\n",
              "      try {\n",
              "        const charts = await google.colab.kernel.invokeFunction(\n",
              "            'suggestCharts', [key], {});\n",
              "      } catch (error) {\n",
              "        console.error('Error during call to suggestCharts:', error);\n",
              "      }\n",
              "      quickchartButtonEl.classList.remove('colab-df-spinner');\n",
              "      quickchartButtonEl.classList.add('colab-df-quickchart-complete');\n",
              "    }\n",
              "    (() => {\n",
              "      let quickchartButtonEl =\n",
              "        document.querySelector('#df-a2c1ec22-2609-4616-8ce6-a84a289fe96d button');\n",
              "      quickchartButtonEl.style.display =\n",
              "        google.colab.kernel.accessAllowed ? 'block' : 'none';\n",
              "    })();\n",
              "  </script>\n",
              "</div>\n",
              "    </div>\n",
              "  </div>\n"
            ]
          },
          "metadata": {},
          "execution_count": 110
        }
      ]
    },
    {
      "cell_type": "code",
      "source": [
        "df.head(5)"
      ],
      "metadata": {
        "colab": {
          "base_uri": "https://localhost:8080/",
          "height": 206
        },
        "id": "PdkMjXNjGZF5",
        "outputId": "2de8855d-9463-495c-f112-7aeadc2943ce"
      },
      "execution_count": null,
      "outputs": [
        {
          "output_type": "execute_result",
          "data": {
            "text/plain": [
              "                          STATISTIC Label  Year Age Group         Sex  \\\n",
              "0  Estimated Migration (Persons in April)  1987  All ages  Both sexes   \n",
              "1  Estimated Migration (Persons in April)  1987  All ages  Both sexes   \n",
              "2  Estimated Migration (Persons in April)  1987  All ages  Both sexes   \n",
              "3  Estimated Migration (Persons in April)  1987  All ages        Male   \n",
              "4  Estimated Migration (Persons in April)  1987  All ages        Male   \n",
              "\n",
              "        Inward or Outward Flow      UNIT  VALUE  \n",
              "0                Net migration  Thousand  -23.0  \n",
              "1  Emigrants: All destinations  Thousand   40.2  \n",
              "2      Immigrants: All origins  Thousand   17.2  \n",
              "3                Net migration  Thousand    NaN  \n",
              "4  Emigrants: All destinations  Thousand    NaN  "
            ],
            "text/html": [
              "\n",
              "  <div id=\"df-710306f4-9aa1-4a2a-807a-6bcdea276445\" class=\"colab-df-container\">\n",
              "    <div>\n",
              "<style scoped>\n",
              "    .dataframe tbody tr th:only-of-type {\n",
              "        vertical-align: middle;\n",
              "    }\n",
              "\n",
              "    .dataframe tbody tr th {\n",
              "        vertical-align: top;\n",
              "    }\n",
              "\n",
              "    .dataframe thead th {\n",
              "        text-align: right;\n",
              "    }\n",
              "</style>\n",
              "<table border=\"1\" class=\"dataframe\">\n",
              "  <thead>\n",
              "    <tr style=\"text-align: right;\">\n",
              "      <th></th>\n",
              "      <th>STATISTIC Label</th>\n",
              "      <th>Year</th>\n",
              "      <th>Age Group</th>\n",
              "      <th>Sex</th>\n",
              "      <th>Inward or Outward Flow</th>\n",
              "      <th>UNIT</th>\n",
              "      <th>VALUE</th>\n",
              "    </tr>\n",
              "  </thead>\n",
              "  <tbody>\n",
              "    <tr>\n",
              "      <th>0</th>\n",
              "      <td>Estimated Migration (Persons in April)</td>\n",
              "      <td>1987</td>\n",
              "      <td>All ages</td>\n",
              "      <td>Both sexes</td>\n",
              "      <td>Net migration</td>\n",
              "      <td>Thousand</td>\n",
              "      <td>-23.0</td>\n",
              "    </tr>\n",
              "    <tr>\n",
              "      <th>1</th>\n",
              "      <td>Estimated Migration (Persons in April)</td>\n",
              "      <td>1987</td>\n",
              "      <td>All ages</td>\n",
              "      <td>Both sexes</td>\n",
              "      <td>Emigrants: All destinations</td>\n",
              "      <td>Thousand</td>\n",
              "      <td>40.2</td>\n",
              "    </tr>\n",
              "    <tr>\n",
              "      <th>2</th>\n",
              "      <td>Estimated Migration (Persons in April)</td>\n",
              "      <td>1987</td>\n",
              "      <td>All ages</td>\n",
              "      <td>Both sexes</td>\n",
              "      <td>Immigrants: All origins</td>\n",
              "      <td>Thousand</td>\n",
              "      <td>17.2</td>\n",
              "    </tr>\n",
              "    <tr>\n",
              "      <th>3</th>\n",
              "      <td>Estimated Migration (Persons in April)</td>\n",
              "      <td>1987</td>\n",
              "      <td>All ages</td>\n",
              "      <td>Male</td>\n",
              "      <td>Net migration</td>\n",
              "      <td>Thousand</td>\n",
              "      <td>NaN</td>\n",
              "    </tr>\n",
              "    <tr>\n",
              "      <th>4</th>\n",
              "      <td>Estimated Migration (Persons in April)</td>\n",
              "      <td>1987</td>\n",
              "      <td>All ages</td>\n",
              "      <td>Male</td>\n",
              "      <td>Emigrants: All destinations</td>\n",
              "      <td>Thousand</td>\n",
              "      <td>NaN</td>\n",
              "    </tr>\n",
              "  </tbody>\n",
              "</table>\n",
              "</div>\n",
              "    <div class=\"colab-df-buttons\">\n",
              "\n",
              "  <div class=\"colab-df-container\">\n",
              "    <button class=\"colab-df-convert\" onclick=\"convertToInteractive('df-710306f4-9aa1-4a2a-807a-6bcdea276445')\"\n",
              "            title=\"Convert this dataframe to an interactive table.\"\n",
              "            style=\"display:none;\">\n",
              "\n",
              "  <svg xmlns=\"http://www.w3.org/2000/svg\" height=\"24px\" viewBox=\"0 -960 960 960\">\n",
              "    <path d=\"M120-120v-720h720v720H120Zm60-500h600v-160H180v160Zm220 220h160v-160H400v160Zm0 220h160v-160H400v160ZM180-400h160v-160H180v160Zm440 0h160v-160H620v160ZM180-180h160v-160H180v160Zm440 0h160v-160H620v160Z\"/>\n",
              "  </svg>\n",
              "    </button>\n",
              "\n",
              "  <style>\n",
              "    .colab-df-container {\n",
              "      display:flex;\n",
              "      gap: 12px;\n",
              "    }\n",
              "\n",
              "    .colab-df-convert {\n",
              "      background-color: #E8F0FE;\n",
              "      border: none;\n",
              "      border-radius: 50%;\n",
              "      cursor: pointer;\n",
              "      display: none;\n",
              "      fill: #1967D2;\n",
              "      height: 32px;\n",
              "      padding: 0 0 0 0;\n",
              "      width: 32px;\n",
              "    }\n",
              "\n",
              "    .colab-df-convert:hover {\n",
              "      background-color: #E2EBFA;\n",
              "      box-shadow: 0px 1px 2px rgba(60, 64, 67, 0.3), 0px 1px 3px 1px rgba(60, 64, 67, 0.15);\n",
              "      fill: #174EA6;\n",
              "    }\n",
              "\n",
              "    .colab-df-buttons div {\n",
              "      margin-bottom: 4px;\n",
              "    }\n",
              "\n",
              "    [theme=dark] .colab-df-convert {\n",
              "      background-color: #3B4455;\n",
              "      fill: #D2E3FC;\n",
              "    }\n",
              "\n",
              "    [theme=dark] .colab-df-convert:hover {\n",
              "      background-color: #434B5C;\n",
              "      box-shadow: 0px 1px 3px 1px rgba(0, 0, 0, 0.15);\n",
              "      filter: drop-shadow(0px 1px 2px rgba(0, 0, 0, 0.3));\n",
              "      fill: #FFFFFF;\n",
              "    }\n",
              "  </style>\n",
              "\n",
              "    <script>\n",
              "      const buttonEl =\n",
              "        document.querySelector('#df-710306f4-9aa1-4a2a-807a-6bcdea276445 button.colab-df-convert');\n",
              "      buttonEl.style.display =\n",
              "        google.colab.kernel.accessAllowed ? 'block' : 'none';\n",
              "\n",
              "      async function convertToInteractive(key) {\n",
              "        const element = document.querySelector('#df-710306f4-9aa1-4a2a-807a-6bcdea276445');\n",
              "        const dataTable =\n",
              "          await google.colab.kernel.invokeFunction('convertToInteractive',\n",
              "                                                    [key], {});\n",
              "        if (!dataTable) return;\n",
              "\n",
              "        const docLinkHtml = 'Like what you see? Visit the ' +\n",
              "          '<a target=\"_blank\" href=https://colab.research.google.com/notebooks/data_table.ipynb>data table notebook</a>'\n",
              "          + ' to learn more about interactive tables.';\n",
              "        element.innerHTML = '';\n",
              "        dataTable['output_type'] = 'display_data';\n",
              "        await google.colab.output.renderOutput(dataTable, element);\n",
              "        const docLink = document.createElement('div');\n",
              "        docLink.innerHTML = docLinkHtml;\n",
              "        element.appendChild(docLink);\n",
              "      }\n",
              "    </script>\n",
              "  </div>\n",
              "\n",
              "\n",
              "<div id=\"df-ad5d12b1-1250-4d40-97f7-566da4b4866b\">\n",
              "  <button class=\"colab-df-quickchart\" onclick=\"quickchart('df-ad5d12b1-1250-4d40-97f7-566da4b4866b')\"\n",
              "            title=\"Suggest charts.\"\n",
              "            style=\"display:none;\">\n",
              "\n",
              "<svg xmlns=\"http://www.w3.org/2000/svg\" height=\"24px\"viewBox=\"0 0 24 24\"\n",
              "     width=\"24px\">\n",
              "    <g>\n",
              "        <path d=\"M19 3H5c-1.1 0-2 .9-2 2v14c0 1.1.9 2 2 2h14c1.1 0 2-.9 2-2V5c0-1.1-.9-2-2-2zM9 17H7v-7h2v7zm4 0h-2V7h2v10zm4 0h-2v-4h2v4z\"/>\n",
              "    </g>\n",
              "</svg>\n",
              "  </button>\n",
              "\n",
              "<style>\n",
              "  .colab-df-quickchart {\n",
              "      --bg-color: #E8F0FE;\n",
              "      --fill-color: #1967D2;\n",
              "      --hover-bg-color: #E2EBFA;\n",
              "      --hover-fill-color: #174EA6;\n",
              "      --disabled-fill-color: #AAA;\n",
              "      --disabled-bg-color: #DDD;\n",
              "  }\n",
              "\n",
              "  [theme=dark] .colab-df-quickchart {\n",
              "      --bg-color: #3B4455;\n",
              "      --fill-color: #D2E3FC;\n",
              "      --hover-bg-color: #434B5C;\n",
              "      --hover-fill-color: #FFFFFF;\n",
              "      --disabled-bg-color: #3B4455;\n",
              "      --disabled-fill-color: #666;\n",
              "  }\n",
              "\n",
              "  .colab-df-quickchart {\n",
              "    background-color: var(--bg-color);\n",
              "    border: none;\n",
              "    border-radius: 50%;\n",
              "    cursor: pointer;\n",
              "    display: none;\n",
              "    fill: var(--fill-color);\n",
              "    height: 32px;\n",
              "    padding: 0;\n",
              "    width: 32px;\n",
              "  }\n",
              "\n",
              "  .colab-df-quickchart:hover {\n",
              "    background-color: var(--hover-bg-color);\n",
              "    box-shadow: 0 1px 2px rgba(60, 64, 67, 0.3), 0 1px 3px 1px rgba(60, 64, 67, 0.15);\n",
              "    fill: var(--button-hover-fill-color);\n",
              "  }\n",
              "\n",
              "  .colab-df-quickchart-complete:disabled,\n",
              "  .colab-df-quickchart-complete:disabled:hover {\n",
              "    background-color: var(--disabled-bg-color);\n",
              "    fill: var(--disabled-fill-color);\n",
              "    box-shadow: none;\n",
              "  }\n",
              "\n",
              "  .colab-df-spinner {\n",
              "    border: 2px solid var(--fill-color);\n",
              "    border-color: transparent;\n",
              "    border-bottom-color: var(--fill-color);\n",
              "    animation:\n",
              "      spin 1s steps(1) infinite;\n",
              "  }\n",
              "\n",
              "  @keyframes spin {\n",
              "    0% {\n",
              "      border-color: transparent;\n",
              "      border-bottom-color: var(--fill-color);\n",
              "      border-left-color: var(--fill-color);\n",
              "    }\n",
              "    20% {\n",
              "      border-color: transparent;\n",
              "      border-left-color: var(--fill-color);\n",
              "      border-top-color: var(--fill-color);\n",
              "    }\n",
              "    30% {\n",
              "      border-color: transparent;\n",
              "      border-left-color: var(--fill-color);\n",
              "      border-top-color: var(--fill-color);\n",
              "      border-right-color: var(--fill-color);\n",
              "    }\n",
              "    40% {\n",
              "      border-color: transparent;\n",
              "      border-right-color: var(--fill-color);\n",
              "      border-top-color: var(--fill-color);\n",
              "    }\n",
              "    60% {\n",
              "      border-color: transparent;\n",
              "      border-right-color: var(--fill-color);\n",
              "    }\n",
              "    80% {\n",
              "      border-color: transparent;\n",
              "      border-right-color: var(--fill-color);\n",
              "      border-bottom-color: var(--fill-color);\n",
              "    }\n",
              "    90% {\n",
              "      border-color: transparent;\n",
              "      border-bottom-color: var(--fill-color);\n",
              "    }\n",
              "  }\n",
              "</style>\n",
              "\n",
              "  <script>\n",
              "    async function quickchart(key) {\n",
              "      const quickchartButtonEl =\n",
              "        document.querySelector('#' + key + ' button');\n",
              "      quickchartButtonEl.disabled = true;  // To prevent multiple clicks.\n",
              "      quickchartButtonEl.classList.add('colab-df-spinner');\n",
              "      try {\n",
              "        const charts = await google.colab.kernel.invokeFunction(\n",
              "            'suggestCharts', [key], {});\n",
              "      } catch (error) {\n",
              "        console.error('Error during call to suggestCharts:', error);\n",
              "      }\n",
              "      quickchartButtonEl.classList.remove('colab-df-spinner');\n",
              "      quickchartButtonEl.classList.add('colab-df-quickchart-complete');\n",
              "    }\n",
              "    (() => {\n",
              "      let quickchartButtonEl =\n",
              "        document.querySelector('#df-ad5d12b1-1250-4d40-97f7-566da4b4866b button');\n",
              "      quickchartButtonEl.style.display =\n",
              "        google.colab.kernel.accessAllowed ? 'block' : 'none';\n",
              "    })();\n",
              "  </script>\n",
              "</div>\n",
              "    </div>\n",
              "  </div>\n"
            ]
          },
          "metadata": {},
          "execution_count": 57
        }
      ]
    },
    {
      "cell_type": "code",
      "source": [
        "# Heatmap constructed to visualise correlation of numerical features.\n",
        "plt.figure(figsize=(20,10))\n",
        "c= df.corr()\n",
        "sns.heatmap(c,cmap=\"BrBG\",annot=True, linewidth=1)\n",
        "plt.title('Correlations', fontsize=15)\n",
        "c"
      ],
      "metadata": {
        "colab": {
          "base_uri": "https://localhost:8080/",
          "height": 845
        },
        "id": "G3DCaMzQHr2o",
        "outputId": "05407edb-409f-45b4-a404-fc86997f98ac"
      },
      "execution_count": null,
      "outputs": [
        {
          "output_type": "stream",
          "name": "stderr",
          "text": [
            "<ipython-input-58-0ad262a5efbf>:3: FutureWarning: The default value of numeric_only in DataFrame.corr is deprecated. In a future version, it will default to False. Select only valid columns or specify the value of numeric_only to silence this warning.\n",
            "  c= df.corr()\n"
          ]
        },
        {
          "output_type": "execute_result",
          "data": {
            "text/plain": [
              "           Year     VALUE\n",
              "Year   1.000000  0.162118\n",
              "VALUE  0.162118  1.000000"
            ],
            "text/html": [
              "\n",
              "  <div id=\"df-566dfda9-c8aa-4c13-85aa-d8e41f2c74e0\" class=\"colab-df-container\">\n",
              "    <div>\n",
              "<style scoped>\n",
              "    .dataframe tbody tr th:only-of-type {\n",
              "        vertical-align: middle;\n",
              "    }\n",
              "\n",
              "    .dataframe tbody tr th {\n",
              "        vertical-align: top;\n",
              "    }\n",
              "\n",
              "    .dataframe thead th {\n",
              "        text-align: right;\n",
              "    }\n",
              "</style>\n",
              "<table border=\"1\" class=\"dataframe\">\n",
              "  <thead>\n",
              "    <tr style=\"text-align: right;\">\n",
              "      <th></th>\n",
              "      <th>Year</th>\n",
              "      <th>VALUE</th>\n",
              "    </tr>\n",
              "  </thead>\n",
              "  <tbody>\n",
              "    <tr>\n",
              "      <th>Year</th>\n",
              "      <td>1.000000</td>\n",
              "      <td>0.162118</td>\n",
              "    </tr>\n",
              "    <tr>\n",
              "      <th>VALUE</th>\n",
              "      <td>0.162118</td>\n",
              "      <td>1.000000</td>\n",
              "    </tr>\n",
              "  </tbody>\n",
              "</table>\n",
              "</div>\n",
              "    <div class=\"colab-df-buttons\">\n",
              "\n",
              "  <div class=\"colab-df-container\">\n",
              "    <button class=\"colab-df-convert\" onclick=\"convertToInteractive('df-566dfda9-c8aa-4c13-85aa-d8e41f2c74e0')\"\n",
              "            title=\"Convert this dataframe to an interactive table.\"\n",
              "            style=\"display:none;\">\n",
              "\n",
              "  <svg xmlns=\"http://www.w3.org/2000/svg\" height=\"24px\" viewBox=\"0 -960 960 960\">\n",
              "    <path d=\"M120-120v-720h720v720H120Zm60-500h600v-160H180v160Zm220 220h160v-160H400v160Zm0 220h160v-160H400v160ZM180-400h160v-160H180v160Zm440 0h160v-160H620v160ZM180-180h160v-160H180v160Zm440 0h160v-160H620v160Z\"/>\n",
              "  </svg>\n",
              "    </button>\n",
              "\n",
              "  <style>\n",
              "    .colab-df-container {\n",
              "      display:flex;\n",
              "      gap: 12px;\n",
              "    }\n",
              "\n",
              "    .colab-df-convert {\n",
              "      background-color: #E8F0FE;\n",
              "      border: none;\n",
              "      border-radius: 50%;\n",
              "      cursor: pointer;\n",
              "      display: none;\n",
              "      fill: #1967D2;\n",
              "      height: 32px;\n",
              "      padding: 0 0 0 0;\n",
              "      width: 32px;\n",
              "    }\n",
              "\n",
              "    .colab-df-convert:hover {\n",
              "      background-color: #E2EBFA;\n",
              "      box-shadow: 0px 1px 2px rgba(60, 64, 67, 0.3), 0px 1px 3px 1px rgba(60, 64, 67, 0.15);\n",
              "      fill: #174EA6;\n",
              "    }\n",
              "\n",
              "    .colab-df-buttons div {\n",
              "      margin-bottom: 4px;\n",
              "    }\n",
              "\n",
              "    [theme=dark] .colab-df-convert {\n",
              "      background-color: #3B4455;\n",
              "      fill: #D2E3FC;\n",
              "    }\n",
              "\n",
              "    [theme=dark] .colab-df-convert:hover {\n",
              "      background-color: #434B5C;\n",
              "      box-shadow: 0px 1px 3px 1px rgba(0, 0, 0, 0.15);\n",
              "      filter: drop-shadow(0px 1px 2px rgba(0, 0, 0, 0.3));\n",
              "      fill: #FFFFFF;\n",
              "    }\n",
              "  </style>\n",
              "\n",
              "    <script>\n",
              "      const buttonEl =\n",
              "        document.querySelector('#df-566dfda9-c8aa-4c13-85aa-d8e41f2c74e0 button.colab-df-convert');\n",
              "      buttonEl.style.display =\n",
              "        google.colab.kernel.accessAllowed ? 'block' : 'none';\n",
              "\n",
              "      async function convertToInteractive(key) {\n",
              "        const element = document.querySelector('#df-566dfda9-c8aa-4c13-85aa-d8e41f2c74e0');\n",
              "        const dataTable =\n",
              "          await google.colab.kernel.invokeFunction('convertToInteractive',\n",
              "                                                    [key], {});\n",
              "        if (!dataTable) return;\n",
              "\n",
              "        const docLinkHtml = 'Like what you see? Visit the ' +\n",
              "          '<a target=\"_blank\" href=https://colab.research.google.com/notebooks/data_table.ipynb>data table notebook</a>'\n",
              "          + ' to learn more about interactive tables.';\n",
              "        element.innerHTML = '';\n",
              "        dataTable['output_type'] = 'display_data';\n",
              "        await google.colab.output.renderOutput(dataTable, element);\n",
              "        const docLink = document.createElement('div');\n",
              "        docLink.innerHTML = docLinkHtml;\n",
              "        element.appendChild(docLink);\n",
              "      }\n",
              "    </script>\n",
              "  </div>\n",
              "\n",
              "\n",
              "<div id=\"df-de39f270-3b6b-481a-9dcd-cc9f9ccf97b2\">\n",
              "  <button class=\"colab-df-quickchart\" onclick=\"quickchart('df-de39f270-3b6b-481a-9dcd-cc9f9ccf97b2')\"\n",
              "            title=\"Suggest charts.\"\n",
              "            style=\"display:none;\">\n",
              "\n",
              "<svg xmlns=\"http://www.w3.org/2000/svg\" height=\"24px\"viewBox=\"0 0 24 24\"\n",
              "     width=\"24px\">\n",
              "    <g>\n",
              "        <path d=\"M19 3H5c-1.1 0-2 .9-2 2v14c0 1.1.9 2 2 2h14c1.1 0 2-.9 2-2V5c0-1.1-.9-2-2-2zM9 17H7v-7h2v7zm4 0h-2V7h2v10zm4 0h-2v-4h2v4z\"/>\n",
              "    </g>\n",
              "</svg>\n",
              "  </button>\n",
              "\n",
              "<style>\n",
              "  .colab-df-quickchart {\n",
              "      --bg-color: #E8F0FE;\n",
              "      --fill-color: #1967D2;\n",
              "      --hover-bg-color: #E2EBFA;\n",
              "      --hover-fill-color: #174EA6;\n",
              "      --disabled-fill-color: #AAA;\n",
              "      --disabled-bg-color: #DDD;\n",
              "  }\n",
              "\n",
              "  [theme=dark] .colab-df-quickchart {\n",
              "      --bg-color: #3B4455;\n",
              "      --fill-color: #D2E3FC;\n",
              "      --hover-bg-color: #434B5C;\n",
              "      --hover-fill-color: #FFFFFF;\n",
              "      --disabled-bg-color: #3B4455;\n",
              "      --disabled-fill-color: #666;\n",
              "  }\n",
              "\n",
              "  .colab-df-quickchart {\n",
              "    background-color: var(--bg-color);\n",
              "    border: none;\n",
              "    border-radius: 50%;\n",
              "    cursor: pointer;\n",
              "    display: none;\n",
              "    fill: var(--fill-color);\n",
              "    height: 32px;\n",
              "    padding: 0;\n",
              "    width: 32px;\n",
              "  }\n",
              "\n",
              "  .colab-df-quickchart:hover {\n",
              "    background-color: var(--hover-bg-color);\n",
              "    box-shadow: 0 1px 2px rgba(60, 64, 67, 0.3), 0 1px 3px 1px rgba(60, 64, 67, 0.15);\n",
              "    fill: var(--button-hover-fill-color);\n",
              "  }\n",
              "\n",
              "  .colab-df-quickchart-complete:disabled,\n",
              "  .colab-df-quickchart-complete:disabled:hover {\n",
              "    background-color: var(--disabled-bg-color);\n",
              "    fill: var(--disabled-fill-color);\n",
              "    box-shadow: none;\n",
              "  }\n",
              "\n",
              "  .colab-df-spinner {\n",
              "    border: 2px solid var(--fill-color);\n",
              "    border-color: transparent;\n",
              "    border-bottom-color: var(--fill-color);\n",
              "    animation:\n",
              "      spin 1s steps(1) infinite;\n",
              "  }\n",
              "\n",
              "  @keyframes spin {\n",
              "    0% {\n",
              "      border-color: transparent;\n",
              "      border-bottom-color: var(--fill-color);\n",
              "      border-left-color: var(--fill-color);\n",
              "    }\n",
              "    20% {\n",
              "      border-color: transparent;\n",
              "      border-left-color: var(--fill-color);\n",
              "      border-top-color: var(--fill-color);\n",
              "    }\n",
              "    30% {\n",
              "      border-color: transparent;\n",
              "      border-left-color: var(--fill-color);\n",
              "      border-top-color: var(--fill-color);\n",
              "      border-right-color: var(--fill-color);\n",
              "    }\n",
              "    40% {\n",
              "      border-color: transparent;\n",
              "      border-right-color: var(--fill-color);\n",
              "      border-top-color: var(--fill-color);\n",
              "    }\n",
              "    60% {\n",
              "      border-color: transparent;\n",
              "      border-right-color: var(--fill-color);\n",
              "    }\n",
              "    80% {\n",
              "      border-color: transparent;\n",
              "      border-right-color: var(--fill-color);\n",
              "      border-bottom-color: var(--fill-color);\n",
              "    }\n",
              "    90% {\n",
              "      border-color: transparent;\n",
              "      border-bottom-color: var(--fill-color);\n",
              "    }\n",
              "  }\n",
              "</style>\n",
              "\n",
              "  <script>\n",
              "    async function quickchart(key) {\n",
              "      const quickchartButtonEl =\n",
              "        document.querySelector('#' + key + ' button');\n",
              "      quickchartButtonEl.disabled = true;  // To prevent multiple clicks.\n",
              "      quickchartButtonEl.classList.add('colab-df-spinner');\n",
              "      try {\n",
              "        const charts = await google.colab.kernel.invokeFunction(\n",
              "            'suggestCharts', [key], {});\n",
              "      } catch (error) {\n",
              "        console.error('Error during call to suggestCharts:', error);\n",
              "      }\n",
              "      quickchartButtonEl.classList.remove('colab-df-spinner');\n",
              "      quickchartButtonEl.classList.add('colab-df-quickchart-complete');\n",
              "    }\n",
              "    (() => {\n",
              "      let quickchartButtonEl =\n",
              "        document.querySelector('#df-de39f270-3b6b-481a-9dcd-cc9f9ccf97b2 button');\n",
              "      quickchartButtonEl.style.display =\n",
              "        google.colab.kernel.accessAllowed ? 'block' : 'none';\n",
              "    })();\n",
              "  </script>\n",
              "</div>\n",
              "    </div>\n",
              "  </div>\n"
            ]
          },
          "metadata": {},
          "execution_count": 58
        },
        {
          "output_type": "display_data",
          "data": {
            "text/plain": [
              "<Figure size 2000x1000 with 2 Axes>"
            ],
            "image/png": "[encoded data removed]"
          },
          "metadata": {}
        }
      ]
    },
    {
      "cell_type": "code",
      "source": [
        "df = df.fillna(0)"
      ],
      "metadata": {
        "id": "1iWYWXzyZ49M"
      },
      "execution_count": null,
      "outputs": []
    },
    {
      "cell_type": "code",
      "source": [
        "#df['VALUE'] = np.maximum(df['VALUE'], 0)"
      ],
      "metadata": {
        "id": "dGtl9JEyZ4_Y"
      },
      "execution_count": null,
      "outputs": []
    },
    {
      "cell_type": "code",
      "source": [],
      "metadata": {
        "id": "BHJeDXDC2DfD"
      },
      "execution_count": null,
      "outputs": []
    },
    {
      "cell_type": "code",
      "source": [
        "df=df.drop([\"STATISTIC Label\",\"UNIT\"],axis=1)"
      ],
      "metadata": {
        "id": "Ya0qyAnUvmFx"
      },
      "execution_count": null,
      "outputs": []
    },
    {
      "cell_type": "code",
      "source": [
        "# Encode categorical variables\n",
        "df = pd.get_dummies(df, columns=['Age Group', 'Sex', 'Inward or Outward Flow'])"
      ],
      "metadata": {
        "id": "35E5i4mlZ5Bj"
      },
      "execution_count": null,
      "outputs": []
    },
    {
      "cell_type": "code",
      "source": [
        "df.head(5)\n"
      ],
      "metadata": {
        "colab": {
          "base_uri": "https://localhost:8080/",
          "height": 556
        },
        "id": "MORe8_CrcWjh",
        "outputId": "1a1a1926-92f6-4039-d5b5-228bbc1c48d8"
      },
      "execution_count": null,
      "outputs": [
        {
          "output_type": "execute_result",
          "data": {
            "text/plain": [
              "                          STATISTIC Label  Year      UNIT  VALUE  \\\n",
              "0  Estimated Migration (Persons in April)  1987  Thousand  -23.0   \n",
              "1  Estimated Migration (Persons in April)  1987  Thousand   40.2   \n",
              "2  Estimated Migration (Persons in April)  1987  Thousand   17.2   \n",
              "3  Estimated Migration (Persons in April)  1987  Thousand    NaN   \n",
              "4  Estimated Migration (Persons in April)  1987  Thousand    NaN   \n",
              "\n",
              "   Age Group_0 - 14 years  Age Group_15 - 24 years  Age Group_25 - 44 years  \\\n",
              "0                       0                        0                        0   \n",
              "1                       0                        0                        0   \n",
              "2                       0                        0                        0   \n",
              "3                       0                        0                        0   \n",
              "4                       0                        0                        0   \n",
              "\n",
              "   Age Group_45 - 64 years  Age Group_65 years and over  Age Group_All ages  \\\n",
              "0                        0                            0                   1   \n",
              "1                        0                            0                   1   \n",
              "2                        0                            0                   1   \n",
              "3                        0                            0                   1   \n",
              "4                        0                            0                   1   \n",
              "\n",
              "   Sex_Both sexes  Sex_Female  Sex_Male  \\\n",
              "0               1           0         0   \n",
              "1               1           0         0   \n",
              "2               1           0         0   \n",
              "3               0           0         1   \n",
              "4               0           0         1   \n",
              "\n",
              "   Inward or Outward Flow_Emigrants: All destinations  \\\n",
              "0                                                  0    \n",
              "1                                                  1    \n",
              "2                                                  0    \n",
              "3                                                  0    \n",
              "4                                                  1    \n",
              "\n",
              "   Inward or Outward Flow_Immigrants: All origins  \\\n",
              "0                                               0   \n",
              "1                                               0   \n",
              "2                                               1   \n",
              "3                                               0   \n",
              "4                                               0   \n",
              "\n",
              "   Inward or Outward Flow_Net migration  \n",
              "0                                     1  \n",
              "1                                     0  \n",
              "2                                     0  \n",
              "3                                     1  \n",
              "4                                     0  "
            ],
            "text/html": [
              "\n",
              "  <div id=\"df-4a22ace0-add3-48b2-95b7-a914c19e7ed8\" class=\"colab-df-container\">\n",
              "    <div>\n",
              "<style scoped>\n",
              "    .dataframe tbody tr th:only-of-type {\n",
              "        vertical-align: middle;\n",
              "    }\n",
              "\n",
              "    .dataframe tbody tr th {\n",
              "        vertical-align: top;\n",
              "    }\n",
              "\n",
              "    .dataframe thead th {\n",
              "        text-align: right;\n",
              "    }\n",
              "</style>\n",
              "<table border=\"1\" class=\"dataframe\">\n",
              "  <thead>\n",
              "    <tr style=\"text-align: right;\">\n",
              "      <th></th>\n",
              "      <th>STATISTIC Label</th>\n",
              "      <th>Year</th>\n",
              "      <th>UNIT</th>\n",
              "      <th>VALUE</th>\n",
              "      <th>Age Group_0 - 14 years</th>\n",
              "      <th>Age Group_15 - 24 years</th>\n",
              "      <th>Age Group_25 - 44 years</th>\n",
              "      <th>Age Group_45 - 64 years</th>\n",
              "      <th>Age Group_65 years and over</th>\n",
              "      <th>Age Group_All ages</th>\n",
              "      <th>Sex_Both sexes</th>\n",
              "      <th>Sex_Female</th>\n",
              "      <th>Sex_Male</th>\n",
              "      <th>Inward or Outward Flow_Emigrants: All destinations</th>\n",
              "      <th>Inward or Outward Flow_Immigrants: All origins</th>\n",
              "      <th>Inward or Outward Flow_Net migration</th>\n",
              "    </tr>\n",
              "  </thead>\n",
              "  <tbody>\n",
              "    <tr>\n",
              "      <th>0</th>\n",
              "      <td>Estimated Migration (Persons in April)</td>\n",
              "      <td>1987</td>\n",
              "      <td>Thousand</td>\n",
              "      <td>-23.0</td>\n",
              "      <td>0</td>\n",
              "      <td>0</td>\n",
              "      <td>0</td>\n",
              "      <td>0</td>\n",
              "      <td>0</td>\n",
              "      <td>1</td>\n",
              "      <td>1</td>\n",
              "      <td>0</td>\n",
              "      <td>0</td>\n",
              "      <td>0</td>\n",
              "      <td>0</td>\n",
              "      <td>1</td>\n",
              "    </tr>\n",
              "    <tr>\n",
              "      <th>1</th>\n",
              "      <td>Estimated Migration (Persons in April)</td>\n",
              "      <td>1987</td>\n",
              "      <td>Thousand</td>\n",
              "      <td>40.2</td>\n",
              "      <td>0</td>\n",
              "      <td>0</td>\n",
              "      <td>0</td>\n",
              "      <td>0</td>\n",
              "      <td>0</td>\n",
              "      <td>1</td>\n",
              "      <td>1</td>\n",
              "      <td>0</td>\n",
              "      <td>0</td>\n",
              "      <td>1</td>\n",
              "      <td>0</td>\n",
              "      <td>0</td>\n",
              "    </tr>\n",
              "    <tr>\n",
              "      <th>2</th>\n",
              "      <td>Estimated Migration (Persons in April)</td>\n",
              "      <td>1987</td>\n",
              "      <td>Thousand</td>\n",
              "      <td>17.2</td>\n",
              "      <td>0</td>\n",
              "      <td>0</td>\n",
              "      <td>0</td>\n",
              "      <td>0</td>\n",
              "      <td>0</td>\n",
              "      <td>1</td>\n",
              "      <td>1</td>\n",
              "      <td>0</td>\n",
              "      <td>0</td>\n",
              "      <td>0</td>\n",
              "      <td>1</td>\n",
              "      <td>0</td>\n",
              "    </tr>\n",
              "    <tr>\n",
              "      <th>3</th>\n",
              "      <td>Estimated Migration (Persons in April)</td>\n",
              "      <td>1987</td>\n",
              "      <td>Thousand</td>\n",
              "      <td>NaN</td>\n",
              "      <td>0</td>\n",
              "      <td>0</td>\n",
              "      <td>0</td>\n",
              "      <td>0</td>\n",
              "      <td>0</td>\n",
              "      <td>1</td>\n",
              "      <td>0</td>\n",
              "      <td>0</td>\n",
              "      <td>1</td>\n",
              "      <td>0</td>\n",
              "      <td>0</td>\n",
              "      <td>1</td>\n",
              "    </tr>\n",
              "    <tr>\n",
              "      <th>4</th>\n",
              "      <td>Estimated Migration (Persons in April)</td>\n",
              "      <td>1987</td>\n",
              "      <td>Thousand</td>\n",
              "      <td>NaN</td>\n",
              "      <td>0</td>\n",
              "      <td>0</td>\n",
              "      <td>0</td>\n",
              "      <td>0</td>\n",
              "      <td>0</td>\n",
              "      <td>1</td>\n",
              "      <td>0</td>\n",
              "      <td>0</td>\n",
              "      <td>1</td>\n",
              "      <td>1</td>\n",
              "      <td>0</td>\n",
              "      <td>0</td>\n",
              "    </tr>\n",
              "  </tbody>\n",
              "</table>\n",
              "</div>\n",
              "    <div class=\"colab-df-buttons\">\n",
              "\n",
              "  <div class=\"colab-df-container\">\n",
              "    <button class=\"colab-df-convert\" onclick=\"convertToInteractive('df-4a22ace0-add3-48b2-95b7-a914c19e7ed8')\"\n",
              "            title=\"Convert this dataframe to an interactive table.\"\n",
              "            style=\"display:none;\">\n",
              "\n",
              "  <svg xmlns=\"http://www.w3.org/2000/svg\" height=\"24px\" viewBox=\"0 -960 960 960\">\n",
              "    <path d=\"M120-120v-720h720v720H120Zm60-500h600v-160H180v160Zm220 220h160v-160H400v160Zm0 220h160v-160H400v160ZM180-400h160v-160H180v160Zm440 0h160v-160H620v160ZM180-180h160v-160H180v160Zm440 0h160v-160H620v160Z\"/>\n",
              "  </svg>\n",
              "    </button>\n",
              "\n",
              "  <style>\n",
              "    .colab-df-container {\n",
              "      display:flex;\n",
              "      gap: 12px;\n",
              "    }\n",
              "\n",
              "    .colab-df-convert {\n",
              "      background-color: #E8F0FE;\n",
              "      border: none;\n",
              "      border-radius: 50%;\n",
              "      cursor: pointer;\n",
              "      display: none;\n",
              "      fill: #1967D2;\n",
              "      height: 32px;\n",
              "      padding: 0 0 0 0;\n",
              "      width: 32px;\n",
              "    }\n",
              "\n",
              "    .colab-df-convert:hover {\n",
              "      background-color: #E2EBFA;\n",
              "      box-shadow: 0px 1px 2px rgba(60, 64, 67, 0.3), 0px 1px 3px 1px rgba(60, 64, 67, 0.15);\n",
              "      fill: #174EA6;\n",
              "    }\n",
              "\n",
              "    .colab-df-buttons div {\n",
              "      margin-bottom: 4px;\n",
              "    }\n",
              "\n",
              "    [theme=dark] .colab-df-convert {\n",
              "      background-color: #3B4455;\n",
              "      fill: #D2E3FC;\n",
              "    }\n",
              "\n",
              "    [theme=dark] .colab-df-convert:hover {\n",
              "      background-color: #434B5C;\n",
              "      box-shadow: 0px 1px 3px 1px rgba(0, 0, 0, 0.15);\n",
              "      filter: drop-shadow(0px 1px 2px rgba(0, 0, 0, 0.3));\n",
              "      fill: #FFFFFF;\n",
              "    }\n",
              "  </style>\n",
              "\n",
              "    <script>\n",
              "      const buttonEl =\n",
              "        document.querySelector('#df-4a22ace0-add3-48b2-95b7-a914c19e7ed8 button.colab-df-convert');\n",
              "      buttonEl.style.display =\n",
              "        google.colab.kernel.accessAllowed ? 'block' : 'none';\n",
              "\n",
              "      async function convertToInteractive(key) {\n",
              "        const element = document.querySelector('#df-4a22ace0-add3-48b2-95b7-a914c19e7ed8');\n",
              "        const dataTable =\n",
              "          await google.colab.kernel.invokeFunction('convertToInteractive',\n",
              "                                                    [key], {});\n",
              "        if (!dataTable) return;\n",
              "\n",
              "        const docLinkHtml = 'Like what you see? Visit the ' +\n",
              "          '<a target=\"_blank\" href=https://colab.research.google.com/notebooks/data_table.ipynb>data table notebook</a>'\n",
              "          + ' to learn more about interactive tables.';\n",
              "        element.innerHTML = '';\n",
              "        dataTable['output_type'] = 'display_data';\n",
              "        await google.colab.output.renderOutput(dataTable, element);\n",
              "        const docLink = document.createElement('div');\n",
              "        docLink.innerHTML = docLinkHtml;\n",
              "        element.appendChild(docLink);\n",
              "      }\n",
              "    </script>\n",
              "  </div>\n",
              "\n",
              "\n",
              "<div id=\"df-6a8de4b6-4883-4495-9286-ba753317b620\">\n",
              "  <button class=\"colab-df-quickchart\" onclick=\"quickchart('df-6a8de4b6-4883-4495-9286-ba753317b620')\"\n",
              "            title=\"Suggest charts.\"\n",
              "            style=\"display:none;\">\n",
              "\n",
              "<svg xmlns=\"http://www.w3.org/2000/svg\" height=\"24px\"viewBox=\"0 0 24 24\"\n",
              "     width=\"24px\">\n",
              "    <g>\n",
              "        <path d=\"M19 3H5c-1.1 0-2 .9-2 2v14c0 1.1.9 2 2 2h14c1.1 0 2-.9 2-2V5c0-1.1-.9-2-2-2zM9 17H7v-7h2v7zm4 0h-2V7h2v10zm4 0h-2v-4h2v4z\"/>\n",
              "    </g>\n",
              "</svg>\n",
              "  </button>\n",
              "\n",
              "<style>\n",
              "  .colab-df-quickchart {\n",
              "      --bg-color: #E8F0FE;\n",
              "      --fill-color: #1967D2;\n",
              "      --hover-bg-color: #E2EBFA;\n",
              "      --hover-fill-color: #174EA6;\n",
              "      --disabled-fill-color: #AAA;\n",
              "      --disabled-bg-color: #DDD;\n",
              "  }\n",
              "\n",
              "  [theme=dark] .colab-df-quickchart {\n",
              "      --bg-color: #3B4455;\n",
              "      --fill-color: #D2E3FC;\n",
              "      --hover-bg-color: #434B5C;\n",
              "      --hover-fill-color: #FFFFFF;\n",
              "      --disabled-bg-color: #3B4455;\n",
              "      --disabled-fill-color: #666;\n",
              "  }\n",
              "\n",
              "  .colab-df-quickchart {\n",
              "    background-color: var(--bg-color);\n",
              "    border: none;\n",
              "    border-radius: 50%;\n",
              "    cursor: pointer;\n",
              "    display: none;\n",
              "    fill: var(--fill-color);\n",
              "    height: 32px;\n",
              "    padding: 0;\n",
              "    width: 32px;\n",
              "  }\n",
              "\n",
              "  .colab-df-quickchart:hover {\n",
              "    background-color: var(--hover-bg-color);\n",
              "    box-shadow: 0 1px 2px rgba(60, 64, 67, 0.3), 0 1px 3px 1px rgba(60, 64, 67, 0.15);\n",
              "    fill: var(--button-hover-fill-color);\n",
              "  }\n",
              "\n",
              "  .colab-df-quickchart-complete:disabled,\n",
              "  .colab-df-quickchart-complete:disabled:hover {\n",
              "    background-color: var(--disabled-bg-color);\n",
              "    fill: var(--disabled-fill-color);\n",
              "    box-shadow: none;\n",
              "  }\n",
              "\n",
              "  .colab-df-spinner {\n",
              "    border: 2px solid var(--fill-color);\n",
              "    border-color: transparent;\n",
              "    border-bottom-color: var(--fill-color);\n",
              "    animation:\n",
              "      spin 1s steps(1) infinite;\n",
              "  }\n",
              "\n",
              "  @keyframes spin {\n",
              "    0% {\n",
              "      border-color: transparent;\n",
              "      border-bottom-color: var(--fill-color);\n",
              "      border-left-color: var(--fill-color);\n",
              "    }\n",
              "    20% {\n",
              "      border-color: transparent;\n",
              "      border-left-color: var(--fill-color);\n",
              "      border-top-color: var(--fill-color);\n",
              "    }\n",
              "    30% {\n",
              "      border-color: transparent;\n",
              "      border-left-color: var(--fill-color);\n",
              "      border-top-color: var(--fill-color);\n",
              "      border-right-color: var(--fill-color);\n",
              "    }\n",
              "    40% {\n",
              "      border-color: transparent;\n",
              "      border-right-color: var(--fill-color);\n",
              "      border-top-color: var(--fill-color);\n",
              "    }\n",
              "    60% {\n",
              "      border-color: transparent;\n",
              "      border-right-color: var(--fill-color);\n",
              "    }\n",
              "    80% {\n",
              "      border-color: transparent;\n",
              "      border-right-color: var(--fill-color);\n",
              "      border-bottom-color: var(--fill-color);\n",
              "    }\n",
              "    90% {\n",
              "      border-color: transparent;\n",
              "      border-bottom-color: var(--fill-color);\n",
              "    }\n",
              "  }\n",
              "</style>\n",
              "\n",
              "  <script>\n",
              "    async function quickchart(key) {\n",
              "      const quickchartButtonEl =\n",
              "        document.querySelector('#' + key + ' button');\n",
              "      quickchartButtonEl.disabled = true;  // To prevent multiple clicks.\n",
              "      quickchartButtonEl.classList.add('colab-df-spinner');\n",
              "      try {\n",
              "        const charts = await google.colab.kernel.invokeFunction(\n",
              "            'suggestCharts', [key], {});\n",
              "      } catch (error) {\n",
              "        console.error('Error during call to suggestCharts:', error);\n",
              "      }\n",
              "      quickchartButtonEl.classList.remove('colab-df-spinner');\n",
              "      quickchartButtonEl.classList.add('colab-df-quickchart-complete');\n",
              "    }\n",
              "    (() => {\n",
              "      let quickchartButtonEl =\n",
              "        document.querySelector('#df-6a8de4b6-4883-4495-9286-ba753317b620 button');\n",
              "      quickchartButtonEl.style.display =\n",
              "        google.colab.kernel.accessAllowed ? 'block' : 'none';\n",
              "    })();\n",
              "  </script>\n",
              "</div>\n",
              "    </div>\n",
              "  </div>\n"
            ]
          },
          "metadata": {},
          "execution_count": 113
        }
      ]
    },
    {
      "cell_type": "code",
      "source": [
        "# Split the data into features (X) and target (y)\n",
        "X = df.drop('VALUE', axis=1)\n",
        "y = df['VALUE']"
      ],
      "metadata": {
        "id": "clEFK_r-bZKh"
      },
      "execution_count": null,
      "outputs": []
    },
    {
      "cell_type": "code",
      "source": [
        "# Split the data set into Training and Testing parts\n",
        "X_train, X_test, y_train, y_test = train_test_split(X, y, test_size = 0.25, random_state = 0)\n"
      ],
      "metadata": {
        "id": "LuuXKxVoaa1v"
      },
      "execution_count": null,
      "outputs": []
    },
    {
      "cell_type": "code",
      "source": [
        "# Model 1: Linear Regression\n"
      ],
      "metadata": {
        "id": "DMwZexrIhrbZ"
      },
      "execution_count": null,
      "outputs": []
    },
    {
      "cell_type": "code",
      "source": [
        "# Create and train a Linear Regression model\n",
        "model = LinearRegression()\n",
        "model.fit(X_train, y_train)"
      ],
      "metadata": {
        "colab": {
          "base_uri": "https://localhost:8080/",
          "height": 74
        },
        "id": "hvXq5WxuGlcn",
        "outputId": "b5715d24-c81a-4759-a5ce-640cf90fcf98"
      },
      "execution_count": null,
      "outputs": [
        {
          "output_type": "execute_result",
          "data": {
            "text/plain": [
              "LinearRegression()"
            ],
            "text/html": [
              "<style>#sk-container-id-5 {color: black;background-color: white;}#sk-container-id-5 pre{padding: 0;}#sk-container-id-5 div.sk-toggleable {background-color: white;}#sk-container-id-5 label.sk-toggleable__label {cursor: pointer;display: block;width: 100%;margin-bottom: 0;padding: 0.3em;box-sizing: border-box;text-align: center;}#sk-container-id-5 label.sk-toggleable__label-arrow:before {content: \"▸\";float: left;margin-right: 0.25em;color: #696969;}#sk-container-id-5 label.sk-toggleable__label-arrow:hover:before {color: black;}#sk-container-id-5 div.sk-estimator:hover label.sk-toggleable__label-arrow:before {color: black;}#sk-container-id-5 div.sk-toggleable__content {max-height: 0;max-width: 0;overflow: hidden;text-align: left;background-color: #f0f8ff;}#sk-container-id-5 div.sk-toggleable__content pre {margin: 0.2em;color: black;border-radius: 0.25em;background-color: #f0f8ff;}#sk-container-id-5 input.sk-toggleable__control:checked~div.sk-toggleable__content {max-height: 200px;max-width: 100%;overflow: auto;}#sk-container-id-5 input.sk-toggleable__control:checked~label.sk-toggleable__label-arrow:before {content: \"▾\";}#sk-container-id-5 div.sk-estimator input.sk-toggleable__control:checked~label.sk-toggleable__label {background-color: #d4ebff;}#sk-container-id-5 div.sk-label input.sk-toggleable__control:checked~label.sk-toggleable__label {background-color: #d4ebff;}#sk-container-id-5 input.sk-hidden--visually {border: 0;clip: rect(1px 1px 1px 1px);clip: rect(1px, 1px, 1px, 1px);height: 1px;margin: -1px;overflow: hidden;padding: 0;position: absolute;width: 1px;}#sk-container-id-5 div.sk-estimator {font-family: monospace;background-color: #f0f8ff;border: 1px dotted black;border-radius: 0.25em;box-sizing: border-box;margin-bottom: 0.5em;}#sk-container-id-5 div.sk-estimator:hover {background-color: #d4ebff;}#sk-container-id-5 div.sk-parallel-item::after {content: \"\";width: 100%;border-bottom: 1px solid gray;flex-grow: 1;}#sk-container-id-5 div.sk-label:hover label.sk-toggleable__label {background-color: #d4ebff;}#sk-container-id-5 div.sk-serial::before {content: \"\";position: absolute;border-left: 1px solid gray;box-sizing: border-box;top: 0;bottom: 0;left: 50%;z-index: 0;}#sk-container-id-5 div.sk-serial {display: flex;flex-direction: column;align-items: center;background-color: white;padding-right: 0.2em;padding-left: 0.2em;position: relative;}#sk-container-id-5 div.sk-item {position: relative;z-index: 1;}#sk-container-id-5 div.sk-parallel {display: flex;align-items: stretch;justify-content: center;background-color: white;position: relative;}#sk-container-id-5 div.sk-item::before, #sk-container-id-5 div.sk-parallel-item::before {content: \"\";position: absolute;border-left: 1px solid gray;box-sizing: border-box;top: 0;bottom: 0;left: 50%;z-index: -1;}#sk-container-id-5 div.sk-parallel-item {display: flex;flex-direction: column;z-index: 1;position: relative;background-color: white;}#sk-container-id-5 div.sk-parallel-item:first-child::after {align-self: flex-end;width: 50%;}#sk-container-id-5 div.sk-parallel-item:last-child::after {align-self: flex-start;width: 50%;}#sk-container-id-5 div.sk-parallel-item:only-child::after {width: 0;}#sk-container-id-5 div.sk-dashed-wrapped {border: 1px dashed gray;margin: 0 0.4em 0.5em 0.4em;box-sizing: border-box;padding-bottom: 0.4em;background-color: white;}#sk-container-id-5 div.sk-label label {font-family: monospace;font-weight: bold;display: inline-block;line-height: 1.2em;}#sk-container-id-5 div.sk-label-container {text-align: center;}#sk-container-id-5 div.sk-container {/* jupyter's `normalize.less` sets `[hidden] { display: none; }` but bootstrap.min.css set `[hidden] { display: none !important; }` so we also need the `!important` here to be able to override the default hidden behavior on the sphinx rendered scikit-learn.org. See: https://github.com/scikit-learn/scikit-learn/issues/21755 */display: inline-block !important;position: relative;}#sk-container-id-5 div.sk-text-repr-fallback {display: none;}</style><div id=\"sk-container-id-5\" class=\"sk-top-container\"><div class=\"sk-text-repr-fallback\"><pre>LinearRegression()</pre><b>In a Jupyter environment, please rerun this cell to show the HTML representation or trust the notebook. <br />On GitHub, the HTML representation is unable to render, please try loading this page with nbviewer.org.</b></div><div class=\"sk-container\" hidden><div class=\"sk-item\"><div class=\"sk-estimator sk-toggleable\"><input class=\"sk-toggleable__control sk-hidden--visually\" id=\"sk-estimator-id-7\" type=\"checkbox\" checked><label for=\"sk-estimator-id-7\" class=\"sk-toggleable__label sk-toggleable__label-arrow\">LinearRegression</label><div class=\"sk-toggleable__content\"><pre>LinearRegression()</pre></div></div></div></div></div>"
            ]
          },
          "metadata": {},
          "execution_count": 67
        }
      ]
    },
    {
      "cell_type": "code",
      "source": [
        "# Make predictions on the testing set\n",
        "y_test_pred = model.predict(X_test)"
      ],
      "metadata": {
        "id": "3ZP-Hec1Glg6"
      },
      "execution_count": null,
      "outputs": []
    },
    {
      "cell_type": "code",
      "source": [
        "# Create a DataFrame to compare actual and predicted values\n",
        "results = pd.DataFrame({'Actual': y_test, 'Predicted': y_test_pred})"
      ],
      "metadata": {
        "id": "MZyOHN71GlpZ"
      },
      "execution_count": null,
      "outputs": []
    },
    {
      "cell_type": "code",
      "source": [
        "# Print the combined DataFrame\n",
        "print(results)"
      ],
      "metadata": {
        "colab": {
          "base_uri": "https://localhost:8080/"
        },
        "id": "SZ_IRQ_qGlst",
        "outputId": "102b13cb-cea6-4ecb-90e9-b338e0a6193b"
      },
      "execution_count": null,
      "outputs": [
        {
          "output_type": "stream",
          "name": "stdout",
          "text": [
            "      Actual  Predicted\n",
            "405      0.0   9.891411\n",
            "1189    72.0  34.152000\n",
            "674      9.2   9.123920\n",
            "1358    29.7  31.241340\n",
            "810     41.3  26.203014\n",
            "...      ...        ...\n",
            "1898    58.6  35.087243\n",
            "1522    11.4  13.046518\n",
            "1413    -3.5   7.020483\n",
            "1222    15.5  12.373516\n",
            "1765     3.4  13.627939\n",
            "\n",
            "[500 rows x 2 columns]\n"
          ]
        }
      ]
    },
    {
      "cell_type": "code",
      "source": [
        "# Create a scatter plot to visualize the results\n",
        "plt.scatter(y_test, y_test_pred, color='blue')\n",
        "plt.xlabel('True Values')\n",
        "plt.ylabel('Predictions')\n",
        "plt.title('Linear Regression: True Values vs. Predicted Values')\n",
        "\n",
        "# Add a diagonal line for reference\n",
        "plt.plot([y.min(), y.max()], [y.min(), y.max()], 'k--', lw=2)\n",
        "\n",
        "plt.show()"
      ],
      "metadata": {
        "colab": {
          "base_uri": "https://localhost:8080/",
          "height": 472
        },
        "id": "Jc7fomMVGlvi",
        "outputId": "46f6e605-ad51-42f3-8a08-4d4ef4a1dbcc"
      },
      "execution_count": null,
      "outputs": [
        {
          "output_type": "display_data",
          "data": {
            "text/plain": [
              "<Figure size 640x480 with 1 Axes>"
            ],
            "image/png": "[encoded data removed]"
          },
          "metadata": {}
        }
      ]
    },
    {
      "cell_type": "code",
      "source": [],
      "metadata": {
        "id": "RjxVSNp1Glyt"
      },
      "execution_count": null,
      "outputs": []
    },
    {
      "cell_type": "code",
      "source": [
        "#Model 2 : Random Forest Regression\n",
        "# Create and train a RandomForestRegressor\n",
        "model = RandomForestRegressor()\n",
        "model.fit(X_train, y_train)"
      ],
      "metadata": {
        "colab": {
          "base_uri": "https://localhost:8080/",
          "height": 74
        },
        "id": "DUugplgSabAd",
        "outputId": "c7e68279-c1ad-49f4-8dd6-18f1dd2f8a36"
      },
      "execution_count": null,
      "outputs": [
        {
          "output_type": "execute_result",
          "data": {
            "text/plain": [
              "RandomForestRegressor()"
            ],
            "text/html": [
              "<style>#sk-container-id-6 {color: black;background-color: white;}#sk-container-id-6 pre{padding: 0;}#sk-container-id-6 div.sk-toggleable {background-color: white;}#sk-container-id-6 label.sk-toggleable__label {cursor: pointer;display: block;width: 100%;margin-bottom: 0;padding: 0.3em;box-sizing: border-box;text-align: center;}#sk-container-id-6 label.sk-toggleable__label-arrow:before {content: \"▸\";float: left;margin-right: 0.25em;color: #696969;}#sk-container-id-6 label.sk-toggleable__label-arrow:hover:before {color: black;}#sk-container-id-6 div.sk-estimator:hover label.sk-toggleable__label-arrow:before {color: black;}#sk-container-id-6 div.sk-toggleable__content {max-height: 0;max-width: 0;overflow: hidden;text-align: left;background-color: #f0f8ff;}#sk-container-id-6 div.sk-toggleable__content pre {margin: 0.2em;color: black;border-radius: 0.25em;background-color: #f0f8ff;}#sk-container-id-6 input.sk-toggleable__control:checked~div.sk-toggleable__content {max-height: 200px;max-width: 100%;overflow: auto;}#sk-container-id-6 input.sk-toggleable__control:checked~label.sk-toggleable__label-arrow:before {content: \"▾\";}#sk-container-id-6 div.sk-estimator input.sk-toggleable__control:checked~label.sk-toggleable__label {background-color: #d4ebff;}#sk-container-id-6 div.sk-label input.sk-toggleable__control:checked~label.sk-toggleable__label {background-color: #d4ebff;}#sk-container-id-6 input.sk-hidden--visually {border: 0;clip: rect(1px 1px 1px 1px);clip: rect(1px, 1px, 1px, 1px);height: 1px;margin: -1px;overflow: hidden;padding: 0;position: absolute;width: 1px;}#sk-container-id-6 div.sk-estimator {font-family: monospace;background-color: #f0f8ff;border: 1px dotted black;border-radius: 0.25em;box-sizing: border-box;margin-bottom: 0.5em;}#sk-container-id-6 div.sk-estimator:hover {background-color: #d4ebff;}#sk-container-id-6 div.sk-parallel-item::after {content: \"\";width: 100%;border-bottom: 1px solid gray;flex-grow: 1;}#sk-container-id-6 div.sk-label:hover label.sk-toggleable__label {background-color: #d4ebff;}#sk-container-id-6 div.sk-serial::before {content: \"\";position: absolute;border-left: 1px solid gray;box-sizing: border-box;top: 0;bottom: 0;left: 50%;z-index: 0;}#sk-container-id-6 div.sk-serial {display: flex;flex-direction: column;align-items: center;background-color: white;padding-right: 0.2em;padding-left: 0.2em;position: relative;}#sk-container-id-6 div.sk-item {position: relative;z-index: 1;}#sk-container-id-6 div.sk-parallel {display: flex;align-items: stretch;justify-content: center;background-color: white;position: relative;}#sk-container-id-6 div.sk-item::before, #sk-container-id-6 div.sk-parallel-item::before {content: \"\";position: absolute;border-left: 1px solid gray;box-sizing: border-box;top: 0;bottom: 0;left: 50%;z-index: -1;}#sk-container-id-6 div.sk-parallel-item {display: flex;flex-direction: column;z-index: 1;position: relative;background-color: white;}#sk-container-id-6 div.sk-parallel-item:first-child::after {align-self: flex-end;width: 50%;}#sk-container-id-6 div.sk-parallel-item:last-child::after {align-self: flex-start;width: 50%;}#sk-container-id-6 div.sk-parallel-item:only-child::after {width: 0;}#sk-container-id-6 div.sk-dashed-wrapped {border: 1px dashed gray;margin: 0 0.4em 0.5em 0.4em;box-sizing: border-box;padding-bottom: 0.4em;background-color: white;}#sk-container-id-6 div.sk-label label {font-family: monospace;font-weight: bold;display: inline-block;line-height: 1.2em;}#sk-container-id-6 div.sk-label-container {text-align: center;}#sk-container-id-6 div.sk-container {/* jupyter's `normalize.less` sets `[hidden] { display: none; }` but bootstrap.min.css set `[hidden] { display: none !important; }` so we also need the `!important` here to be able to override the default hidden behavior on the sphinx rendered scikit-learn.org. See: https://github.com/scikit-learn/scikit-learn/issues/21755 */display: inline-block !important;position: relative;}#sk-container-id-6 div.sk-text-repr-fallback {display: none;}</style><div id=\"sk-container-id-6\" class=\"sk-top-container\"><div class=\"sk-text-repr-fallback\"><pre>RandomForestRegressor()</pre><b>In a Jupyter environment, please rerun this cell to show the HTML representation or trust the notebook. <br />On GitHub, the HTML representation is unable to render, please try loading this page with nbviewer.org.</b></div><div class=\"sk-container\" hidden><div class=\"sk-item\"><div class=\"sk-estimator sk-toggleable\"><input class=\"sk-toggleable__control sk-hidden--visually\" id=\"sk-estimator-id-8\" type=\"checkbox\" checked><label for=\"sk-estimator-id-8\" class=\"sk-toggleable__label sk-toggleable__label-arrow\">RandomForestRegressor</label><div class=\"sk-toggleable__content\"><pre>RandomForestRegressor()</pre></div></div></div></div></div>"
            ]
          },
          "metadata": {},
          "execution_count": 72
        }
      ]
    },
    {
      "cell_type": "code",
      "source": [
        "# Make predictions on the training and testing sets\n",
        "y_train_pred = model.predict(X_train)\n",
        "y_test_pred = model.predict(X_test)"
      ],
      "metadata": {
        "id": "hAjYRCSRabCr"
      },
      "execution_count": null,
      "outputs": []
    },
    {
      "cell_type": "code",
      "source": [
        "# Make predictions on the testing set\n",
        "y_test_pred = model.predict(X_test)"
      ],
      "metadata": {
        "id": "mm8fYZi8d4MZ"
      },
      "execution_count": null,
      "outputs": []
    },
    {
      "cell_type": "code",
      "source": [
        "# Combine actual and predicted values into a DataFrame\n",
        "results = pd.DataFrame({'Actual': y_test, 'Predicted': y_test_pred})"
      ],
      "metadata": {
        "id": "NDQYmfvmd6IQ"
      },
      "execution_count": null,
      "outputs": []
    },
    {
      "cell_type": "code",
      "source": [
        "# Print the combined DataFrame\n",
        "print(results)"
      ],
      "metadata": {
        "colab": {
          "base_uri": "https://localhost:8080/"
        },
        "id": "kUCJPuYweQf7",
        "outputId": "58e24723-222b-489f-9e70-8ffe73385d69"
      },
      "execution_count": null,
      "outputs": [
        {
          "output_type": "stream",
          "name": "stdout",
          "text": [
            "      Actual  Predicted\n",
            "405      0.0      0.000\n",
            "1189    72.0     63.686\n",
            "674      9.2      7.902\n",
            "1358    29.7     27.869\n",
            "810     41.3     33.942\n",
            "...      ...        ...\n",
            "1898    58.6     43.607\n",
            "1522    11.4      7.612\n",
            "1413    -3.5     -0.065\n",
            "1222    15.5     14.058\n",
            "1765     3.4      3.934\n",
            "\n",
            "[500 rows x 2 columns]\n"
          ]
        }
      ]
    },
    {
      "cell_type": "code",
      "source": [
        "# Make predictions on the testing set\n",
        "y_test_pred = model.predict(X_test)\n",
        "\n",
        "# Create a scatter plot to visualize the results\n",
        "plt.scatter(y_test, y_test_pred, color='blue')\n",
        "plt.xlabel('True Values')\n",
        "plt.ylabel('Predictions')\n",
        "plt.title('Random Forest Regression: True Values vs. Predicted Values')\n",
        "\n",
        "# Add a diagonal line for reference\n",
        "plt.plot([y.min(), y.max()], [y.min(), y.max()], 'k--', lw=2)\n",
        "\n",
        "plt.show()"
      ],
      "metadata": {
        "colab": {
          "base_uri": "https://localhost:8080/",
          "height": 472
        },
        "id": "F64OdxrgipLX",
        "outputId": "12fe0ccf-6d88-44e3-cb56-841e49e340dd"
      },
      "execution_count": null,
      "outputs": [
        {
          "output_type": "display_data",
          "data": {
            "text/plain": [
              "<Figure size 640x480 with 1 Axes>"
            ],
            "image/png": "[encoded data removed]"
          },
          "metadata": {}
        }
      ]
    },
    {
      "cell_type": "code",
      "source": [
        "# Model 3: Gradient Boosting Regression\n",
        "# Create and train a Gradient Boosting Regression model\n",
        "model = GradientBoostingRegressor()\n",
        "model.fit(X_train, y_train)"
      ],
      "metadata": {
        "colab": {
          "base_uri": "https://localhost:8080/",
          "height": 74
        },
        "id": "0M3rpyppey5A",
        "outputId": "b0d031e3-6771-4f36-ec45-7400e016e93b"
      },
      "execution_count": null,
      "outputs": [
        {
          "output_type": "execute_result",
          "data": {
            "text/plain": [
              "GradientBoostingRegressor()"
            ],
            "text/html": [
              "<style>#sk-container-id-7 {color: black;background-color: white;}#sk-container-id-7 pre{padding: 0;}#sk-container-id-7 div.sk-toggleable {background-color: white;}#sk-container-id-7 label.sk-toggleable__label {cursor: pointer;display: block;width: 100%;margin-bottom: 0;padding: 0.3em;box-sizing: border-box;text-align: center;}#sk-container-id-7 label.sk-toggleable__label-arrow:before {content: \"▸\";float: left;margin-right: 0.25em;color: #696969;}#sk-container-id-7 label.sk-toggleable__label-arrow:hover:before {color: black;}#sk-container-id-7 div.sk-estimator:hover label.sk-toggleable__label-arrow:before {color: black;}#sk-container-id-7 div.sk-toggleable__content {max-height: 0;max-width: 0;overflow: hidden;text-align: left;background-color: #f0f8ff;}#sk-container-id-7 div.sk-toggleable__content pre {margin: 0.2em;color: black;border-radius: 0.25em;background-color: #f0f8ff;}#sk-container-id-7 input.sk-toggleable__control:checked~div.sk-toggleable__content {max-height: 200px;max-width: 100%;overflow: auto;}#sk-container-id-7 input.sk-toggleable__control:checked~label.sk-toggleable__label-arrow:before {content: \"▾\";}#sk-container-id-7 div.sk-estimator input.sk-toggleable__control:checked~label.sk-toggleable__label {background-color: #d4ebff;}#sk-container-id-7 div.sk-label input.sk-toggleable__control:checked~label.sk-toggleable__label {background-color: #d4ebff;}#sk-container-id-7 input.sk-hidden--visually {border: 0;clip: rect(1px 1px 1px 1px);clip: rect(1px, 1px, 1px, 1px);height: 1px;margin: -1px;overflow: hidden;padding: 0;position: absolute;width: 1px;}#sk-container-id-7 div.sk-estimator {font-family: monospace;background-color: #f0f8ff;border: 1px dotted black;border-radius: 0.25em;box-sizing: border-box;margin-bottom: 0.5em;}#sk-container-id-7 div.sk-estimator:hover {background-color: #d4ebff;}#sk-container-id-7 div.sk-parallel-item::after {content: \"\";width: 100%;border-bottom: 1px solid gray;flex-grow: 1;}#sk-container-id-7 div.sk-label:hover label.sk-toggleable__label {background-color: #d4ebff;}#sk-container-id-7 div.sk-serial::before {content: \"\";position: absolute;border-left: 1px solid gray;box-sizing: border-box;top: 0;bottom: 0;left: 50%;z-index: 0;}#sk-container-id-7 div.sk-serial {display: flex;flex-direction: column;align-items: center;background-color: white;padding-right: 0.2em;padding-left: 0.2em;position: relative;}#sk-container-id-7 div.sk-item {position: relative;z-index: 1;}#sk-container-id-7 div.sk-parallel {display: flex;align-items: stretch;justify-content: center;background-color: white;position: relative;}#sk-container-id-7 div.sk-item::before, #sk-container-id-7 div.sk-parallel-item::before {content: \"\";position: absolute;border-left: 1px solid gray;box-sizing: border-box;top: 0;bottom: 0;left: 50%;z-index: -1;}#sk-container-id-7 div.sk-parallel-item {display: flex;flex-direction: column;z-index: 1;position: relative;background-color: white;}#sk-container-id-7 div.sk-parallel-item:first-child::after {align-self: flex-end;width: 50%;}#sk-container-id-7 div.sk-parallel-item:last-child::after {align-self: flex-start;width: 50%;}#sk-container-id-7 div.sk-parallel-item:only-child::after {width: 0;}#sk-container-id-7 div.sk-dashed-wrapped {border: 1px dashed gray;margin: 0 0.4em 0.5em 0.4em;box-sizing: border-box;padding-bottom: 0.4em;background-color: white;}#sk-container-id-7 div.sk-label label {font-family: monospace;font-weight: bold;display: inline-block;line-height: 1.2em;}#sk-container-id-7 div.sk-label-container {text-align: center;}#sk-container-id-7 div.sk-container {/* jupyter's `normalize.less` sets `[hidden] { display: none; }` but bootstrap.min.css set `[hidden] { display: none !important; }` so we also need the `!important` here to be able to override the default hidden behavior on the sphinx rendered scikit-learn.org. See: https://github.com/scikit-learn/scikit-learn/issues/21755 */display: inline-block !important;position: relative;}#sk-container-id-7 div.sk-text-repr-fallback {display: none;}</style><div id=\"sk-container-id-7\" class=\"sk-top-container\"><div class=\"sk-text-repr-fallback\"><pre>GradientBoostingRegressor()</pre><b>In a Jupyter environment, please rerun this cell to show the HTML representation or trust the notebook. <br />On GitHub, the HTML representation is unable to render, please try loading this page with nbviewer.org.</b></div><div class=\"sk-container\" hidden><div class=\"sk-item\"><div class=\"sk-estimator sk-toggleable\"><input class=\"sk-toggleable__control sk-hidden--visually\" id=\"sk-estimator-id-9\" type=\"checkbox\" checked><label for=\"sk-estimator-id-9\" class=\"sk-toggleable__label sk-toggleable__label-arrow\">GradientBoostingRegressor</label><div class=\"sk-toggleable__content\"><pre>GradientBoostingRegressor()</pre></div></div></div></div></div>"
            ]
          },
          "metadata": {},
          "execution_count": 78
        }
      ]
    },
    {
      "cell_type": "code",
      "source": [
        "\n",
        "# Make predictions on the testing set\n",
        "y_test_pred = model.predict(X_test)"
      ],
      "metadata": {
        "id": "A1-vW0NNfTWx"
      },
      "execution_count": null,
      "outputs": []
    },
    {
      "cell_type": "code",
      "source": [
        "# Make predictions on the testing set\n",
        "y_test_pred = model.predict(X_test)"
      ],
      "metadata": {
        "id": "MJX3JULjfjdl"
      },
      "execution_count": null,
      "outputs": []
    },
    {
      "cell_type": "code",
      "source": [
        "\n",
        "# Create a DataFrame to compare actual and predicted values\n",
        "results = pd.DataFrame({'Actual': y_test, 'Predicted': y_test_pred})"
      ],
      "metadata": {
        "id": "5TMLL5ldfmit"
      },
      "execution_count": null,
      "outputs": []
    },
    {
      "cell_type": "code",
      "source": [
        "# Print the combined DataFrame\n",
        "print(results)"
      ],
      "metadata": {
        "colab": {
          "base_uri": "https://localhost:8080/"
        },
        "id": "mRGer6gagQA2",
        "outputId": "74be6508-bfdd-45b8-c5c1-89627b4825c6"
      },
      "execution_count": null,
      "outputs": [
        {
          "output_type": "stream",
          "name": "stdout",
          "text": [
            "      Actual  Predicted\n",
            "405      0.0   2.760876\n",
            "1189    72.0  56.605417\n",
            "674      9.2   8.235756\n",
            "1358    29.7  35.055649\n",
            "810     41.3  21.411981\n",
            "...      ...        ...\n",
            "1898    58.6  54.440741\n",
            "1522    11.4   9.857647\n",
            "1413    -3.5  -3.488049\n",
            "1222    15.5  13.926488\n",
            "1765     3.4   6.272759\n",
            "\n",
            "[500 rows x 2 columns]\n"
          ]
        }
      ]
    },
    {
      "cell_type": "code",
      "source": [
        "# Create a scatter plot to visualize the results\n",
        "plt.scatter(y_test, y_test_pred, color='green')\n",
        "plt.xlabel('True Values')\n",
        "plt.ylabel('Predictions')\n",
        "plt.title('Gradient Boosting Regression: True Values vs. Predicted Values')\n",
        "\n",
        "# Add a diagonal line for reference\n",
        "plt.plot([y.min(), y.max()], [y.min(), y.max()], 'k--', lw=2)\n",
        "\n",
        "plt.show()"
      ],
      "metadata": {
        "colab": {
          "base_uri": "https://localhost:8080/",
          "height": 472
        },
        "id": "bc0uZwwLfTZx",
        "outputId": "d272d2b3-9c33-40d1-831e-f63cdb8e4360"
      },
      "execution_count": null,
      "outputs": [
        {
          "output_type": "display_data",
          "data": {
            "text/plain": [
              "<Figure size 640x480 with 1 Axes>"
            ],
            "image/png": "[encoded data removed]"
          },
          "metadata": {}
        }
      ]
    },
    {
      "cell_type": "code",
      "source": [
        "# Model 1: Linear Regression\n",
        "lr = LinearRegression()\n",
        "lr.fit(X_train, y_train)\n",
        "lr_pred = lr.predict(X_test)"
      ],
      "metadata": {
        "id": "pzJfHbTcfThi"
      },
      "execution_count": null,
      "outputs": []
    },
    {
      "cell_type": "code",
      "source": [
        "# Model 2: Random Forest Regression\n",
        "rf = RandomForestRegressor()\n",
        "rf.fit(X_train, y_train)\n",
        "rf_pred = rf.predict(X_test)"
      ],
      "metadata": {
        "id": "F0qumhd6HjvQ"
      },
      "execution_count": null,
      "outputs": []
    },
    {
      "cell_type": "code",
      "source": [
        "# Model 3: Gradient Boosting Regression\n",
        "gb = GradientBoostingRegressor()\n",
        "gb.fit(X_train, y_train)\n",
        "gb_pred = gb.predict(X_test)"
      ],
      "metadata": {
        "id": "7ptJDcdeHjyC"
      },
      "execution_count": null,
      "outputs": []
    },
    {
      "cell_type": "code",
      "source": [
        "# Evaluate the models\n",
        "mae_lr = mean_absolute_error(y_test, lr_pred)\n",
        "mse_lr = mean_squared_error(y_test, lr_pred)\n",
        "r2_lr = r2_score(y_test, lr_pred)\n",
        "\n",
        "mae_rf = mean_absolute_error(y_test, rf_pred)\n",
        "mse_rf = mean_squared_error(y_test, rf_pred)\n",
        "r2_rf = r2_score(y_test, rf_pred)\n",
        "\n",
        "mae_gb = mean_absolute_error(y_test, gb_pred)\n",
        "mse_gb = mean_squared_error(y_test, gb_pred)\n",
        "r2_gb = r2_score(y_test, gb_pred)"
      ],
      "metadata": {
        "id": "7lLPnLnKHj0c"
      },
      "execution_count": null,
      "outputs": []
    },
    {
      "cell_type": "code",
      "source": [
        "# Create a bar chart to compare model performances\n",
        "metrics = ['MAE', 'MSE', 'R-squared']\n",
        "lr_metrics = [mae_lr, mse_lr, r2_lr]\n",
        "rf_metrics = [mae_rf, mse_rf, r2_rf]\n",
        "gb_metrics = [mae_gb, mse_gb, r2_gb]\n",
        "\n",
        "x = np.arange(len(metrics))\n",
        "width = 0.2"
      ],
      "metadata": {
        "id": "Ye83-goLHj8g"
      },
      "execution_count": null,
      "outputs": []
    },
    {
      "cell_type": "code",
      "source": [
        "\n",
        "# Create a DataFrame to store the metrics for each model\n",
        "results_df = pd.DataFrame({\n",
        "    'Metric': metrics,\n",
        "    'Linear Regression': lr_metrics,\n",
        "    'Random Forest Regression': rf_metrics,\n",
        "    'Gradient Boosting Regression': gb_metrics\n",
        "})\n",
        "\n",
        "# Print the results\n",
        "print(results_df)"
      ],
      "metadata": {
        "colab": {
          "base_uri": "https://localhost:8080/"
        },
        "id": "p4QLyjRG-ehj",
        "outputId": "e665fd9e-b2ef-401c-f501-330c2e778613"
      },
      "execution_count": null,
      "outputs": [
        {
          "output_type": "stream",
          "name": "stdout",
          "text": [
            "      Metric  Linear Regression  Random Forest Regression  \\\n",
            "0        MAE           7.599749                  1.909654   \n",
            "1        MSE         124.036900                 17.208845   \n",
            "2  R-squared           0.439977                  0.922303   \n",
            "\n",
            "   Gradient Boosting Regression  \n",
            "0                      3.787707  \n",
            "1                     46.630096  \n",
            "2                      0.789466  \n"
          ]
        }
      ]
    },
    {
      "cell_type": "code",
      "source": [
        "plt.bar(x - width, lr_metrics, width, label='Linear Regression')\n",
        "plt.bar(x, rf_metrics, width, label='Random Forest')\n",
        "plt.bar(x + width, gb_metrics, width, label='Gradient Boosting')\n",
        "\n",
        "plt.xlabel('Metrics')\n",
        "plt.ylabel('Values')\n",
        "plt.title('Model Comparison')\n",
        "plt.xticks(x, metrics)\n",
        "plt.legend()\n",
        "\n",
        "plt.show()"
      ],
      "metadata": {
        "colab": {
          "base_uri": "https://localhost:8080/",
          "height": 472
        },
        "id": "cs1ugkn4Hj-Z",
        "outputId": "a06e136a-7fa5-4c8c-a3a4-e50428943ca0"
      },
      "execution_count": null,
      "outputs": [
        {
          "output_type": "display_data",
          "data": {
            "text/plain": [
              "<Figure size 640x480 with 1 Axes>"
            ],
            "image/png": "[encoded data removed]"
          },
          "metadata": {}
        }
      ]
    },
    {
      "cell_type": "code",
      "source": [
        "# Define hyperparameter grids\n",
        "param_grid_linear = {\n",
        "    'fit_intercept': [True, False]\n",
        "}"
      ],
      "metadata": {
        "id": "VSINM28NHkD3"
      },
      "execution_count": null,
      "outputs": []
    },
    {
      "cell_type": "code",
      "source": [
        "param_grid_rf = {\n",
        "    'n_estimators': [10, 50, 100, 200, 500],\n",
        "    'max_depth': [5, 10, 15, 20],\n",
        "    'min_samples_split': [2, 5, 10]\n",
        "}"
      ],
      "metadata": {
        "id": "ETZxmxgBIH5-"
      },
      "execution_count": null,
      "outputs": []
    },
    {
      "cell_type": "code",
      "source": [
        "param_grid_gb = {\n",
        "    'n_estimators': [10, 50, 100, 200, 500],\n",
        "    'learning_rate': [0.01, 0.1, 0.2],\n",
        "    'max_depth': [3, 5, 7]\n",
        "}"
      ],
      "metadata": {
        "id": "FEjRdi0TIIEv"
      },
      "execution_count": null,
      "outputs": []
    },
    {
      "cell_type": "code",
      "source": [
        "# Initialize models\n",
        "linear_reg = LinearRegression()\n",
        "rf_reg = RandomForestRegressor()\n",
        "gb_reg = GradientBoostingRegressor()"
      ],
      "metadata": {
        "id": "sOSAx8stIIHu"
      },
      "execution_count": null,
      "outputs": []
    },
    {
      "cell_type": "code",
      "source": [
        "# Create GridSearchCV instances for each model\n",
        "grid_linear = GridSearchCV(linear_reg, param_grid_linear, scoring='neg_mean_squared_error', cv=5)\n",
        "grid_rf = GridSearchCV(rf_reg, param_grid_rf, scoring='neg_mean_squared_error', cv=5)\n",
        "grid_gb = GridSearchCV(gb_reg, param_grid_gb, scoring='neg_mean_squared_error', cv=5)"
      ],
      "metadata": {
        "id": "6mwpiAv8IILO"
      },
      "execution_count": null,
      "outputs": []
    },
    {
      "cell_type": "code",
      "source": [
        "# Fit GridSearchCV on the data\n",
        "grid_linear.fit(X_train, y_train)\n",
        "grid_rf.fit(X_train, y_train)\n",
        "grid_gb.fit(X_train, y_train)"
      ],
      "metadata": {
        "colab": {
          "base_uri": "https://localhost:8080/",
          "height": 116
        },
        "id": "MyiNqgjtIINn",
        "outputId": "d41dbeff-1bf2-49b7-83d4-475fa8baa276"
      },
      "execution_count": null,
      "outputs": [
        {
          "output_type": "execute_result",
          "data": {
            "text/plain": [
              "GridSearchCV(cv=5, estimator=GradientBoostingRegressor(),\n",
              "             param_grid={'learning_rate': [0.01, 0.1, 0.2],\n",
              "                         'max_depth': [3, 5, 7],\n",
              "                         'n_estimators': [10, 50, 100, 200, 500]},\n",
              "             scoring='neg_mean_squared_error')"
            ],
            "text/html": [
              "<style>#sk-container-id-8 {color: black;background-color: white;}#sk-container-id-8 pre{padding: 0;}#sk-container-id-8 div.sk-toggleable {background-color: white;}#sk-container-id-8 label.sk-toggleable__label {cursor: pointer;display: block;width: 100%;margin-bottom: 0;padding: 0.3em;box-sizing: border-box;text-align: center;}#sk-container-id-8 label.sk-toggleable__label-arrow:before {content: \"▸\";float: left;margin-right: 0.25em;color: #696969;}#sk-container-id-8 label.sk-toggleable__label-arrow:hover:before {color: black;}#sk-container-id-8 div.sk-estimator:hover label.sk-toggleable__label-arrow:before {color: black;}#sk-container-id-8 div.sk-toggleable__content {max-height: 0;max-width: 0;overflow: hidden;text-align: left;background-color: #f0f8ff;}#sk-container-id-8 div.sk-toggleable__content pre {margin: 0.2em;color: black;border-radius: 0.25em;background-color: #f0f8ff;}#sk-container-id-8 input.sk-toggleable__control:checked~div.sk-toggleable__content {max-height: 200px;max-width: 100%;overflow: auto;}#sk-container-id-8 input.sk-toggleable__control:checked~label.sk-toggleable__label-arrow:before {content: \"▾\";}#sk-container-id-8 div.sk-estimator input.sk-toggleable__control:checked~label.sk-toggleable__label {background-color: #d4ebff;}#sk-container-id-8 div.sk-label input.sk-toggleable__control:checked~label.sk-toggleable__label {background-color: #d4ebff;}#sk-container-id-8 input.sk-hidden--visually {border: 0;clip: rect(1px 1px 1px 1px);clip: rect(1px, 1px, 1px, 1px);height: 1px;margin: -1px;overflow: hidden;padding: 0;position: absolute;width: 1px;}#sk-container-id-8 div.sk-estimator {font-family: monospace;background-color: #f0f8ff;border: 1px dotted black;border-radius: 0.25em;box-sizing: border-box;margin-bottom: 0.5em;}#sk-container-id-8 div.sk-estimator:hover {background-color: #d4ebff;}#sk-container-id-8 div.sk-parallel-item::after {content: \"\";width: 100%;border-bottom: 1px solid gray;flex-grow: 1;}#sk-container-id-8 div.sk-label:hover label.sk-toggleable__label {background-color: #d4ebff;}#sk-container-id-8 div.sk-serial::before {content: \"\";position: absolute;border-left: 1px solid gray;box-sizing: border-box;top: 0;bottom: 0;left: 50%;z-index: 0;}#sk-container-id-8 div.sk-serial {display: flex;flex-direction: column;align-items: center;background-color: white;padding-right: 0.2em;padding-left: 0.2em;position: relative;}#sk-container-id-8 div.sk-item {position: relative;z-index: 1;}#sk-container-id-8 div.sk-parallel {display: flex;align-items: stretch;justify-content: center;background-color: white;position: relative;}#sk-container-id-8 div.sk-item::before, #sk-container-id-8 div.sk-parallel-item::before {content: \"\";position: absolute;border-left: 1px solid gray;box-sizing: border-box;top: 0;bottom: 0;left: 50%;z-index: -1;}#sk-container-id-8 div.sk-parallel-item {display: flex;flex-direction: column;z-index: 1;position: relative;background-color: white;}#sk-container-id-8 div.sk-parallel-item:first-child::after {align-self: flex-end;width: 50%;}#sk-container-id-8 div.sk-parallel-item:last-child::after {align-self: flex-start;width: 50%;}#sk-container-id-8 div.sk-parallel-item:only-child::after {width: 0;}#sk-container-id-8 div.sk-dashed-wrapped {border: 1px dashed gray;margin: 0 0.4em 0.5em 0.4em;box-sizing: border-box;padding-bottom: 0.4em;background-color: white;}#sk-container-id-8 div.sk-label label {font-family: monospace;font-weight: bold;display: inline-block;line-height: 1.2em;}#sk-container-id-8 div.sk-label-container {text-align: center;}#sk-container-id-8 div.sk-container {/* jupyter's `normalize.less` sets `[hidden] { display: none; }` but bootstrap.min.css set `[hidden] { display: none !important; }` so we also need the `!important` here to be able to override the default hidden behavior on the sphinx rendered scikit-learn.org. See: https://github.com/scikit-learn/scikit-learn/issues/21755 */display: inline-block !important;position: relative;}#sk-container-id-8 div.sk-text-repr-fallback {display: none;}</style><div id=\"sk-container-id-8\" class=\"sk-top-container\"><div class=\"sk-text-repr-fallback\"><pre>GridSearchCV(cv=5, estimator=GradientBoostingRegressor(),\n",
              "             param_grid={&#x27;learning_rate&#x27;: [0.01, 0.1, 0.2],\n",
              "                         &#x27;max_depth&#x27;: [3, 5, 7],\n",
              "                         &#x27;n_estimators&#x27;: [10, 50, 100, 200, 500]},\n",
              "             scoring=&#x27;neg_mean_squared_error&#x27;)</pre><b>In a Jupyter environment, please rerun this cell to show the HTML representation or trust the notebook. <br />On GitHub, the HTML representation is unable to render, please try loading this page with nbviewer.org.</b></div><div class=\"sk-container\" hidden><div class=\"sk-item sk-dashed-wrapped\"><div class=\"sk-label-container\"><div class=\"sk-label sk-toggleable\"><input class=\"sk-toggleable__control sk-hidden--visually\" id=\"sk-estimator-id-10\" type=\"checkbox\" ><label for=\"sk-estimator-id-10\" class=\"sk-toggleable__label sk-toggleable__label-arrow\">GridSearchCV</label><div class=\"sk-toggleable__content\"><pre>GridSearchCV(cv=5, estimator=GradientBoostingRegressor(),\n",
              "             param_grid={&#x27;learning_rate&#x27;: [0.01, 0.1, 0.2],\n",
              "                         &#x27;max_depth&#x27;: [3, 5, 7],\n",
              "                         &#x27;n_estimators&#x27;: [10, 50, 100, 200, 500]},\n",
              "             scoring=&#x27;neg_mean_squared_error&#x27;)</pre></div></div></div><div class=\"sk-parallel\"><div class=\"sk-parallel-item\"><div class=\"sk-item\"><div class=\"sk-label-container\"><div class=\"sk-label sk-toggleable\"><input class=\"sk-toggleable__control sk-hidden--visually\" id=\"sk-estimator-id-11\" type=\"checkbox\" ><label for=\"sk-estimator-id-11\" class=\"sk-toggleable__label sk-toggleable__label-arrow\">estimator: GradientBoostingRegressor</label><div class=\"sk-toggleable__content\"><pre>GradientBoostingRegressor()</pre></div></div></div><div class=\"sk-serial\"><div class=\"sk-item\"><div class=\"sk-estimator sk-toggleable\"><input class=\"sk-toggleable__control sk-hidden--visually\" id=\"sk-estimator-id-12\" type=\"checkbox\" ><label for=\"sk-estimator-id-12\" class=\"sk-toggleable__label sk-toggleable__label-arrow\">GradientBoostingRegressor</label><div class=\"sk-toggleable__content\"><pre>GradientBoostingRegressor()</pre></div></div></div></div></div></div></div></div></div></div>"
            ]
          },
          "metadata": {},
          "execution_count": 95
        }
      ]
    },
    {
      "cell_type": "code",
      "source": [
        " #Get the best models with optimal hyperparameters\n",
        "best_linear_model = grid_linear.best_estimator_\n",
        "best_rf_model = grid_rf.best_estimator_\n",
        "best_gb_model = grid_gb.best_estimator_#"
      ],
      "metadata": {
        "id": "xnBtu8KjIIUa"
      },
      "execution_count": null,
      "outputs": []
    },
    {
      "cell_type": "code",
      "source": [
        "# Predictions on the test set\n",
        "linear_pred = best_linear_model.predict(X_test)\n",
        "rf_pred = best_rf_model.predict(X_test)\n",
        "gb_pred = best_gb_model.predict(X_test)"
      ],
      "metadata": {
        "id": "sVXGO_Z2IIZG"
      },
      "execution_count": null,
      "outputs": []
    },
    {
      "cell_type": "code",
      "source": [
        "# Calculate MSE for each model\n",
        "mse_linear = mean_squared_error(y_test, linear_pred)\n",
        "mse_rf = mean_squared_error(y_test, rf_pred)\n",
        "mse_gb = mean_squared_error(y_test, gb_pred)"
      ],
      "metadata": {
        "id": "pi5JkdFPLI-G"
      },
      "execution_count": null,
      "outputs": []
    },
    {
      "cell_type": "code",
      "source": [
        "# Print MSE for each model\n",
        "print(f\"Linear Regression MSE: {mse_linear}\")\n",
        "print(f\"Random Forest Regression MSE: {mse_rf}\")\n",
        "print(f\"Gradient Boosting Regression MSE: {mse_gb}\")"
      ],
      "metadata": {
        "colab": {
          "base_uri": "https://localhost:8080/"
        },
        "id": "T7UOlclrLJBr",
        "outputId": "0ec9a42d-239e-4882-c97b-94dfa0e60300"
      },
      "execution_count": null,
      "outputs": [
        {
          "output_type": "stream",
          "name": "stdout",
          "text": [
            "Linear Regression MSE: 124.03690012321046\n",
            "Random Forest Regression MSE: 18.83046576000006\n",
            "Gradient Boosting Regression MSE: 12.5157027615863\n"
          ]
        }
      ]
    },
    {
      "cell_type": "code",
      "source": [
        "# Plot the results (you may want to create specific plots for comparison)\n",
        "plt.figure(figsize=(10, 6))\n",
        "plt.bar([\"Linear Regression\", \"Random Forest\", \"Gradient Boosting\"], [mse_linear, mse_rf, mse_gb])\n",
        "plt.xlabel(\"Models\")\n",
        "plt.ylabel(\"Mean Squared Error (MSE)\")\n",
        "plt.title(\"Comparison of Model Performance\")\n",
        "plt.show()"
      ],
      "metadata": {
        "colab": {
          "base_uri": "https://localhost:8080/",
          "height": 564
        },
        "id": "tplkPjkLLJEd",
        "outputId": "61f5d0a7-9bdf-407d-c092-41d4895d2421"
      },
      "execution_count": null,
      "outputs": [
        {
          "output_type": "display_data",
          "data": {
            "text/plain": [
              "<Figure size 1000x600 with 1 Axes>"
            ],
            "image/png": "[encoded data removed]"
          },
          "metadata": {}
        }
      ]
    },
    {
      "cell_type": "code",
      "source": [],
      "metadata": {
        "id": "vMd2O3sGLJNi"
      },
      "execution_count": null,
      "outputs": []
    },
    {
      "cell_type": "code",
      "source": [],
      "metadata": {
        "id": "oOFQi_RWtKvW"
      },
      "execution_count": null,
      "outputs": []
    },
    {
      "cell_type": "code",
      "source": [],
      "metadata": {
        "id": "NWUHfIndtK7a"
      },
      "execution_count": null,
      "outputs": []
    },
    {
      "cell_type": "code",
      "source": [],
      "metadata": {
        "id": "HRAn0TPBtK-o"
      },
      "execution_count": null,
      "outputs": []
    },
    {
      "cell_type": "code",
      "source": [],
      "metadata": {
        "id": "MDi0bbJJIIbz"
      },
      "execution_count": null,
      "outputs": []
    },
    {
      "cell_type": "code",
      "source": [
        "# ploting price distribution\n",
        "plt.figure(figsize=(10,4))\n",
        "sns.distplot(df.VALUE)\n",
        "\n",
        "plt.show()"
      ],
      "metadata": {
        "colab": {
          "base_uri": "https://localhost:8080/",
          "height": 579
        },
        "id": "REgvUPNvjnfi",
        "outputId": "503be9fc-e732-4eac-aea9-f0d7b19692f6"
      },
      "execution_count": null,
      "outputs": [
        {
          "output_type": "stream",
          "name": "stderr",
          "text": [
            "<ipython-input-101-3c593cbce258>:3: UserWarning: \n",
            "\n",
            "`distplot` is a deprecated function and will be removed in seaborn v0.14.0.\n",
            "\n",
            "Please adapt your code to use either `displot` (a figure-level function with\n",
            "similar flexibility) or `histplot` (an axes-level function for histograms).\n",
            "\n",
            "For a guide to updating your code to use the new functions, please see\n",
            "https://gist.github.com/mwaskom/de44147ed2974457ad6372750bbe5751\n",
            "\n",
            "  sns.distplot(df.VALUE)\n"
          ]
        },
        {
          "output_type": "display_data",
          "data": {
            "text/plain": [
              "<Figure size 1000x400 with 1 Axes>"
            ],
            "image/png": "[encoded data removed]"
          },
          "metadata": {}
        }
      ]
    },
    {
      "cell_type": "code",
      "source": [
        "df.VALUE.hist(figsize=(10,5), xrot=45)\n",
        "plt.show()"
      ],
      "metadata": {
        "colab": {
          "base_uri": "https://localhost:8080/",
          "height": 462
        },
        "id": "O2ahv71Ljnjf",
        "outputId": "8ad04ef1-24c3-428b-ec61-fa7860c5cacc"
      },
      "execution_count": null,
      "outputs": [
        {
          "output_type": "display_data",
          "data": {
            "text/plain": [
              "<Figure size 1000x500 with 1 Axes>"
            ],
            "image/png": "[encoded data removed]"
          },
          "metadata": {}
        }
      ]
    },
    {
      "cell_type": "code",
      "source": [
        "# Outlier Analysis\n",
        "sns.boxplot(df['VALUE'])\n",
        "plt.show()"
      ],
      "metadata": {
        "colab": {
          "base_uri": "https://localhost:8080/",
          "height": 430
        },
        "id": "l0VcAjshjnoP",
        "outputId": "2e4bd0dd-9665-490b-ba8b-934ac63e9e44"
      },
      "execution_count": null,
      "outputs": [
        {
          "output_type": "display_data",
          "data": {
            "text/plain": [
              "<Figure size 640x480 with 1 Axes>"
            ],
            "image/png": "[encoded data removed]"
          },
          "metadata": {}
        }
      ]
    },
    {
      "cell_type": "code",
      "source": [],
      "metadata": {
        "id": "XbEotckiezCo"
      },
      "execution_count": null,
      "outputs": []
    },
    {
      "cell_type": "markdown",
      "source": [
        "Migration Trend Prediction:\n",
        "\n",
        "Objective: Predict future migration trends for specific regions or demographic groups based on historical migration data.\n",
        "Benefits: This objective can help governments, organizations, or individuals make informed decisions about resource allocation, urban planning, and policy development. It's valuable for understanding how migration patterns may evolve over time."
      ],
      "metadata": {
        "id": "WAJpiclWKbeJ"
      }
    },
    {
      "cell_type": "markdown",
      "source": [
        "\n",
        "The data  is supervised. In supervised learning, the dataset consists of labeled examples, meaning that it contains both the input features and the corresponding target variable (or output). the dataset includes features like \"Year,\" \"Age Group,\" \"Sex,\" \"Inward or Outward Flow,\" and \"UNIT,\" and it also includes the \"VALUE\" column, which serves as the target variable. The \"VALUE\" column represents the estimated migration numbers, which you may want to predict or analyze based on the other features. In supervised learning, the goal is typically to build a model that can make predictions or classifications based on the input features and the known target variable."
      ],
      "metadata": {
        "id": "1BGP6AdDDzfv"
      }
    },
    {
      "cell_type": "markdown",
      "source": [
        "If you're looking for supervised machine learning algorithms for migration trend prediction, here are three commonly used algorithms, each suited to different aspects of the problem:\n",
        "\n",
        "Linear Regression:\n",
        "\n",
        "Description: Linear regression is a simple and interpretable algorithm for predicting numerical values. In the context of migration, you can use it to predict migration numbers for specific regions or time periods based on various features like economic indicators, population demographics, etc.\n",
        "Benefits: Linear regression provides straightforward insights into how different features contribute to migration trends, and it's easy to implement and understand.\n",
        "Random Forest Regression:\n",
        "\n",
        "Description: As mentioned earlier, Random Forest is an ensemble learning method that combines multiple decision trees. In regression tasks, it can be used to predict migration numbers or trends with greater complexity than simple linear models.\n",
        "Benefits: Random Forest models can capture non-linear relationships and interactions among features, making them suitable for more complex migration prediction scenarios.\n",
        "Gradient Boosting Regressors (e.g., XGBoost, LightGBM, or CatBoost):\n",
        "\n",
        "Description: Gradient boosting methods are powerful ensemble techniques that can handle regression problems effectively. They work by combining the predictions of multiple weak learners (usually decision trees) into a strong model.\n",
        "Benefits: Gradient boosting models often yield highly accurate predictions and are robust against overfitting. They can handle large datasets and capture complex patterns in migration trends.\n",
        "Before applying these algorithms, it's crucial to preprocess your data, perform feature engineering, and split your dataset into training and testing sets for model evaluation. Additionally, you should consider various performance metrics such as Mean Absolute Error (MAE), Mean Squared Error (MSE), or R-squared (R2) to evaluate the predictive performance of these models. You can experiment with different algorithms and fine-tune hyperparameters to optimize your migration trend prediction model.\n",
        "\n",
        "\n",
        "\n",
        "\n"
      ],
      "metadata": {
        "id": "NzI4pKtCKwHT"
      }
    },
    {
      "cell_type": "markdown",
      "source": [
        "In the context of a data science project, the most commonly used project management framework is the Cross-Industry Standard Process for Data Mining (CRISP-DM). Here's an explanation of CRISP-DM and why it's well-suited for data science projects:\n",
        "\n",
        "CRISP-DM (Cross-Industry Standard Process for Data Mining):\n",
        "\n",
        "CRISP-DM is a comprehensive and widely adopted framework specifically designed for data mining and data science projects. It provides a structured approach to managing the end-to-end data science process, from understanding business objectives to deploying data-driven solutions. CRISP-DM consists of six major phases:\n",
        "\n",
        "1)Business Understanding: In this initial phase, the focus is on understanding the project's objectives, requirements, and constraints from a business perspective. It involves defining the problem, identifying success criteria, and creating a project plan.\n",
        "\n",
        "2)Data Understanding: This phase is about collecting and exploring data, assessing its quality, and gaining insights into the available data. Data scientists examine the data's structure, distribution, and relationships to better inform subsequent steps.\n",
        "\n",
        "3)Data Preparation: Once data is understood, it needs to be prepared for analysis. This phase involves data cleaning, feature engineering, and transformation to create a suitable dataset for modeling.\n",
        "\n",
        "4)Modeling: In this phase, data scientists build and evaluate predictive models. Different algorithms and techniques are applied to the prepared data to address the business problem.\n",
        "\n",
        "5)Evaluation: The models developed are evaluated based on predefined success criteria, such as accuracy, precision, recall, or other relevant metrics. The best-performing model is selected for deployment.\n",
        "\n",
        "6)Deployment: The final model is deployed into the operational environment to make predictions on new data. Deployment also involves monitoring the model's performance in real-world applications.\n",
        "\n",
        "Why CRISP-DM for Data Science Projects:\n",
        "\n",
        "Structured Approach: CRISP-DM provides a clear and structured approach to managing data science projects. It guides the project through well-defined stages, ensuring that no crucial steps are overlooked.\n",
        "\n",
        "Iterative and Flexible: Data science projects often require iteration and adaptability. CRISP-DM supports these needs, allowing you to revisit earlier phases if necessary.\n",
        "\n",
        "Emphasis on Business Understanding: CRISP-DM starts with a strong emphasis on understanding the business problem and objectives, which is essential for aligning data science solutions with the needs of the organization.\n",
        "\n",
        "Widely Accepted: CRISP-DM is a widely accepted and recognized framework in the data science community, making it easier to communicate and collaborate with other data scientists and stakeholders.\n",
        "\n",
        "While CRISP-DM is the most common framework for data science projects, it's worth noting that other frameworks like KDD (Knowledge Discovery in Databases) and SEMMA (Sample, Explore, Modify, Model, Assess) can also be valuable in certain contexts. KDD is more focused on data mining and knowledge discovery, while SEMMA is often associated with SAS for predictive modeling. The choice of framework depends on the specific requirements and goals of the project.\n",
        "\n",
        "\n",
        "\n",
        "\n"
      ],
      "metadata": {
        "id": "-G-VXln-I_jl"
      }
    },
    {
      "cell_type": "code",
      "source": [],
      "metadata": {
        "id": "s2a0SdyhNXXe"
      },
      "execution_count": null,
      "outputs": []
    },
    {
      "cell_type": "markdown",
      "source": [
        "Supervised learning could be a good choice for the given data on migration trends for several reasons:\n",
        "\n",
        "Labeled Data: The dataset appears to have labeled data, which is a fundamental requirement for supervised learning. The data includes features (e.g., \"Year,\" \"Age Group,\" \"Sex\") and a target variable (\"VALUE\"), which is the net migration value. The availability of this labeled target variable makes it suitable for supervised learning.\n",
        "\n",
        "Prediction Task: If you have specific questions or predictions you want to make based on this data, such as forecasting future migration trends or understanding the factors that affect migration, supervised learning is an appropriate choice. You can frame the problem as a regression task to predict migration values or as a classification task to categorize migration trends.\n",
        "\n",
        "Interpretability: Many supervised learning algorithms, such as linear regression, can provide interpretable results. In this context, you might be interested in understanding how different factors like age group or sex affect migration trends. A linear regression model, for instance, can give you insights into the relationship between these factors and migration.\n",
        "\n",
        "Model Validation: With supervised learning, you can validate the performance of your model using metrics like mean squared error (for regression) or accuracy (for classification). This allows you to assess how well your model is performing and make improvements if needed.\n",
        "\n",
        "Pattern Recognition: Supervised learning models are excellent at recognizing patterns in data. In the case of migration trends, there may be complex relationships and trends within the data that can be captured and utilized for predictions.\n",
        "\n",
        "Personalized Insights: You can use supervised learning to create personalized insights. For instance, you could predict migration trends for specific age groups or genders, providing tailored information.\n",
        "\n",
        "Scalability: Depending on the dataset's size, supervised learning models can be scalable. They can handle both small and large datasets effectively.\n",
        "\n",
        "It's important to note that the suitability of supervised learning also depends on your specific goals with the data. If you're looking to predict future migration trends, understand the drivers behind migration, or answer specific questions related to this data, supervised learning is a valid approach. However, other techniques, such as time series analysis or unsupervised learning, might also be relevant depending on your objectives. The choice of method should align with your analytical goals and the nature of the data you are working with."
      ],
      "metadata": {
        "id": "xdnbga7QQQmc"
      }
    },
    {
      "cell_type": "code",
      "source": [],
      "metadata": {
        "id": "_LJ9T4knNXoY"
      },
      "execution_count": null,
      "outputs": []
    },
    {
      "cell_type": "code",
      "source": [],
      "metadata": {
        "id": "dFxeLi-fNXzA"
      },
      "execution_count": null,
      "outputs": []
    },
    {
      "cell_type": "markdown",
      "source": [
        "Define the Problem:\n",
        "\n",
        "The problem appears to involve estimating migration trends in different age groups, genders, and geographical locations over several years."
      ],
      "metadata": {
        "id": "ADci37HMNYAc"
      }
    },
    {
      "cell_type": "markdown",
      "source": [],
      "metadata": {
        "id": "DmbDNhbzNZVM"
      }
    },
    {
      "cell_type": "code",
      "execution_count": null,
      "metadata": {
        "id": "FXX2TX5D-ERu"
      },
      "outputs": [],
      "source": [
        "import numpy as np\n",
        "import matplotlib.pyplot as plt\n",
        "import pandas as pd\n",
        "import seaborn as sns\n",
        "\n",
        "from sklearn.model_selection import train_test_split\n",
        "from sklearn.ensemble import RandomForestClassifier\n",
        "from sklearn.cluster import KMeans\n",
        "\n",
        "\n",
        "\n",
        "import pandas as pd\n",
        "from sklearn.model_selection import train_test_split, GridSearchCV\n",
        "from sklearn.linear_model import LinearRegression\n",
        "from sklearn.ensemble import RandomForestRegressor\n",
        "from sklearn.svm import SVR\n",
        "from sklearn.preprocessing import StandardScaler\n",
        "from sklearn.metrics import mean_squared_error, r2_score\n",
        "from sklearn.pipeline import Pipeline"
      ]
    },
    {
      "cell_type": "code",
      "source": [
        "df = pd.read_csv('/content/drive/MyDrive/CA MSc/Estimated Migration.csv')\n",
        "\n",
        "df.head(5)"
      ],
      "metadata": {
        "colab": {
          "base_uri": "https://localhost:8080/",
          "height": 206
        },
        "id": "I3qZHGeKI5Nl",
        "outputId": "8f58e220-1aa6-4e03-83ec-c5f5acc464da"
      },
      "execution_count": null,
      "outputs": [
        {
          "output_type": "execute_result",
          "data": {
            "text/plain": [
              "                          STATISTIC Label  Year Age Group         Sex  \\\n",
              "0  Estimated Migration (Persons in April)  1987  All ages  Both sexes   \n",
              "1  Estimated Migration (Persons in April)  1987  All ages  Both sexes   \n",
              "2  Estimated Migration (Persons in April)  1987  All ages  Both sexes   \n",
              "3  Estimated Migration (Persons in April)  1987  All ages        Male   \n",
              "4  Estimated Migration (Persons in April)  1987  All ages        Male   \n",
              "\n",
              "        Inward or Outward Flow      UNIT  VALUE  \n",
              "0                Net migration  Thousand  -23.0  \n",
              "1  Emigrants: All destinations  Thousand   40.2  \n",
              "2      Immigrants: All origins  Thousand   17.2  \n",
              "3                Net migration  Thousand    NaN  \n",
              "4  Emigrants: All destinations  Thousand    NaN  "
            ],
            "text/html": [
              "\n",
              "  <div id=\"df-836679d8-c69c-4d2c-b11b-1267e0a190b8\" class=\"colab-df-container\">\n",
              "    <div>\n",
              "<style scoped>\n",
              "    .dataframe tbody tr th:only-of-type {\n",
              "        vertical-align: middle;\n",
              "    }\n",
              "\n",
              "    .dataframe tbody tr th {\n",
              "        vertical-align: top;\n",
              "    }\n",
              "\n",
              "    .dataframe thead th {\n",
              "        text-align: right;\n",
              "    }\n",
              "</style>\n",
              "<table border=\"1\" class=\"dataframe\">\n",
              "  <thead>\n",
              "    <tr style=\"text-align: right;\">\n",
              "      <th></th>\n",
              "      <th>STATISTIC Label</th>\n",
              "      <th>Year</th>\n",
              "      <th>Age Group</th>\n",
              "      <th>Sex</th>\n",
              "      <th>Inward or Outward Flow</th>\n",
              "      <th>UNIT</th>\n",
              "      <th>VALUE</th>\n",
              "    </tr>\n",
              "  </thead>\n",
              "  <tbody>\n",
              "    <tr>\n",
              "      <th>0</th>\n",
              "      <td>Estimated Migration (Persons in April)</td>\n",
              "      <td>1987</td>\n",
              "      <td>All ages</td>\n",
              "      <td>Both sexes</td>\n",
              "      <td>Net migration</td>\n",
              "      <td>Thousand</td>\n",
              "      <td>-23.0</td>\n",
              "    </tr>\n",
              "    <tr>\n",
              "      <th>1</th>\n",
              "      <td>Estimated Migration (Persons in April)</td>\n",
              "      <td>1987</td>\n",
              "      <td>All ages</td>\n",
              "      <td>Both sexes</td>\n",
              "      <td>Emigrants: All destinations</td>\n",
              "      <td>Thousand</td>\n",
              "      <td>40.2</td>\n",
              "    </tr>\n",
              "    <tr>\n",
              "      <th>2</th>\n",
              "      <td>Estimated Migration (Persons in April)</td>\n",
              "      <td>1987</td>\n",
              "      <td>All ages</td>\n",
              "      <td>Both sexes</td>\n",
              "      <td>Immigrants: All origins</td>\n",
              "      <td>Thousand</td>\n",
              "      <td>17.2</td>\n",
              "    </tr>\n",
              "    <tr>\n",
              "      <th>3</th>\n",
              "      <td>Estimated Migration (Persons in April)</td>\n",
              "      <td>1987</td>\n",
              "      <td>All ages</td>\n",
              "      <td>Male</td>\n",
              "      <td>Net migration</td>\n",
              "      <td>Thousand</td>\n",
              "      <td>NaN</td>\n",
              "    </tr>\n",
              "    <tr>\n",
              "      <th>4</th>\n",
              "      <td>Estimated Migration (Persons in April)</td>\n",
              "      <td>1987</td>\n",
              "      <td>All ages</td>\n",
              "      <td>Male</td>\n",
              "      <td>Emigrants: All destinations</td>\n",
              "      <td>Thousand</td>\n",
              "      <td>NaN</td>\n",
              "    </tr>\n",
              "  </tbody>\n",
              "</table>\n",
              "</div>\n",
              "    <div class=\"colab-df-buttons\">\n",
              "\n",
              "  <div class=\"colab-df-container\">\n",
              "    <button class=\"colab-df-convert\" onclick=\"convertToInteractive('df-836679d8-c69c-4d2c-b11b-1267e0a190b8')\"\n",
              "            title=\"Convert this dataframe to an interactive table.\"\n",
              "            style=\"display:none;\">\n",
              "\n",
              "  <svg xmlns=\"http://www.w3.org/2000/svg\" height=\"24px\" viewBox=\"0 -960 960 960\">\n",
              "    <path d=\"M120-120v-720h720v720H120Zm60-500h600v-160H180v160Zm220 220h160v-160H400v160Zm0 220h160v-160H400v160ZM180-400h160v-160H180v160Zm440 0h160v-160H620v160ZM180-180h160v-160H180v160Zm440 0h160v-160H620v160Z\"/>\n",
              "  </svg>\n",
              "    </button>\n",
              "\n",
              "  <style>\n",
              "    .colab-df-container {\n",
              "      display:flex;\n",
              "      gap: 12px;\n",
              "    }\n",
              "\n",
              "    .colab-df-convert {\n",
              "      background-color: #E8F0FE;\n",
              "      border: none;\n",
              "      border-radius: 50%;\n",
              "      cursor: pointer;\n",
              "      display: none;\n",
              "      fill: #1967D2;\n",
              "      height: 32px;\n",
              "      padding: 0 0 0 0;\n",
              "      width: 32px;\n",
              "    }\n",
              "\n",
              "    .colab-df-convert:hover {\n",
              "      background-color: #E2EBFA;\n",
              "      box-shadow: 0px 1px 2px rgba(60, 64, 67, 0.3), 0px 1px 3px 1px rgba(60, 64, 67, 0.15);\n",
              "      fill: #174EA6;\n",
              "    }\n",
              "\n",
              "    .colab-df-buttons div {\n",
              "      margin-bottom: 4px;\n",
              "    }\n",
              "\n",
              "    [theme=dark] .colab-df-convert {\n",
              "      background-color: #3B4455;\n",
              "      fill: #D2E3FC;\n",
              "    }\n",
              "\n",
              "    [theme=dark] .colab-df-convert:hover {\n",
              "      background-color: #434B5C;\n",
              "      box-shadow: 0px 1px 3px 1px rgba(0, 0, 0, 0.15);\n",
              "      filter: drop-shadow(0px 1px 2px rgba(0, 0, 0, 0.3));\n",
              "      fill: #FFFFFF;\n",
              "    }\n",
              "  </style>\n",
              "\n",
              "    <script>\n",
              "      const buttonEl =\n",
              "        document.querySelector('#df-836679d8-c69c-4d2c-b11b-1267e0a190b8 button.colab-df-convert');\n",
              "      buttonEl.style.display =\n",
              "        google.colab.kernel.accessAllowed ? 'block' : 'none';\n",
              "\n",
              "      async function convertToInteractive(key) {\n",
              "        const element = document.querySelector('#df-836679d8-c69c-4d2c-b11b-1267e0a190b8');\n",
              "        const dataTable =\n",
              "          await google.colab.kernel.invokeFunction('convertToInteractive',\n",
              "                                                    [key], {});\n",
              "        if (!dataTable) return;\n",
              "\n",
              "        const docLinkHtml = 'Like what you see? Visit the ' +\n",
              "          '<a target=\"_blank\" href=https://colab.research.google.com/notebooks/data_table.ipynb>data table notebook</a>'\n",
              "          + ' to learn more about interactive tables.';\n",
              "        element.innerHTML = '';\n",
              "        dataTable['output_type'] = 'display_data';\n",
              "        await google.colab.output.renderOutput(dataTable, element);\n",
              "        const docLink = document.createElement('div');\n",
              "        docLink.innerHTML = docLinkHtml;\n",
              "        element.appendChild(docLink);\n",
              "      }\n",
              "    </script>\n",
              "  </div>\n",
              "\n",
              "\n",
              "<div id=\"df-ea49fa30-5732-4d3b-84be-335c2bcb1b2f\">\n",
              "  <button class=\"colab-df-quickchart\" onclick=\"quickchart('df-ea49fa30-5732-4d3b-84be-335c2bcb1b2f')\"\n",
              "            title=\"Suggest charts.\"\n",
              "            style=\"display:none;\">\n",
              "\n",
              "<svg xmlns=\"http://www.w3.org/2000/svg\" height=\"24px\"viewBox=\"0 0 24 24\"\n",
              "     width=\"24px\">\n",
              "    <g>\n",
              "        <path d=\"M19 3H5c-1.1 0-2 .9-2 2v14c0 1.1.9 2 2 2h14c1.1 0 2-.9 2-2V5c0-1.1-.9-2-2-2zM9 17H7v-7h2v7zm4 0h-2V7h2v10zm4 0h-2v-4h2v4z\"/>\n",
              "    </g>\n",
              "</svg>\n",
              "  </button>\n",
              "\n",
              "<style>\n",
              "  .colab-df-quickchart {\n",
              "      --bg-color: #E8F0FE;\n",
              "      --fill-color: #1967D2;\n",
              "      --hover-bg-color: #E2EBFA;\n",
              "      --hover-fill-color: #174EA6;\n",
              "      --disabled-fill-color: #AAA;\n",
              "      --disabled-bg-color: #DDD;\n",
              "  }\n",
              "\n",
              "  [theme=dark] .colab-df-quickchart {\n",
              "      --bg-color: #3B4455;\n",
              "      --fill-color: #D2E3FC;\n",
              "      --hover-bg-color: #434B5C;\n",
              "      --hover-fill-color: #FFFFFF;\n",
              "      --disabled-bg-color: #3B4455;\n",
              "      --disabled-fill-color: #666;\n",
              "  }\n",
              "\n",
              "  .colab-df-quickchart {\n",
              "    background-color: var(--bg-color);\n",
              "    border: none;\n",
              "    border-radius: 50%;\n",
              "    cursor: pointer;\n",
              "    display: none;\n",
              "    fill: var(--fill-color);\n",
              "    height: 32px;\n",
              "    padding: 0;\n",
              "    width: 32px;\n",
              "  }\n",
              "\n",
              "  .colab-df-quickchart:hover {\n",
              "    background-color: var(--hover-bg-color);\n",
              "    box-shadow: 0 1px 2px rgba(60, 64, 67, 0.3), 0 1px 3px 1px rgba(60, 64, 67, 0.15);\n",
              "    fill: var(--button-hover-fill-color);\n",
              "  }\n",
              "\n",
              "  .colab-df-quickchart-complete:disabled,\n",
              "  .colab-df-quickchart-complete:disabled:hover {\n",
              "    background-color: var(--disabled-bg-color);\n",
              "    fill: var(--disabled-fill-color);\n",
              "    box-shadow: none;\n",
              "  }\n",
              "\n",
              "  .colab-df-spinner {\n",
              "    border: 2px solid var(--fill-color);\n",
              "    border-color: transparent;\n",
              "    border-bottom-color: var(--fill-color);\n",
              "    animation:\n",
              "      spin 1s steps(1) infinite;\n",
              "  }\n",
              "\n",
              "  @keyframes spin {\n",
              "    0% {\n",
              "      border-color: transparent;\n",
              "      border-bottom-color: var(--fill-color);\n",
              "      border-left-color: var(--fill-color);\n",
              "    }\n",
              "    20% {\n",
              "      border-color: transparent;\n",
              "      border-left-color: var(--fill-color);\n",
              "      border-top-color: var(--fill-color);\n",
              "    }\n",
              "    30% {\n",
              "      border-color: transparent;\n",
              "      border-left-color: var(--fill-color);\n",
              "      border-top-color: var(--fill-color);\n",
              "      border-right-color: var(--fill-color);\n",
              "    }\n",
              "    40% {\n",
              "      border-color: transparent;\n",
              "      border-right-color: var(--fill-color);\n",
              "      border-top-color: var(--fill-color);\n",
              "    }\n",
              "    60% {\n",
              "      border-color: transparent;\n",
              "      border-right-color: var(--fill-color);\n",
              "    }\n",
              "    80% {\n",
              "      border-color: transparent;\n",
              "      border-right-color: var(--fill-color);\n",
              "      border-bottom-color: var(--fill-color);\n",
              "    }\n",
              "    90% {\n",
              "      border-color: transparent;\n",
              "      border-bottom-color: var(--fill-color);\n",
              "    }\n",
              "  }\n",
              "</style>\n",
              "\n",
              "  <script>\n",
              "    async function quickchart(key) {\n",
              "      const quickchartButtonEl =\n",
              "        document.querySelector('#' + key + ' button');\n",
              "      quickchartButtonEl.disabled = true;  // To prevent multiple clicks.\n",
              "      quickchartButtonEl.classList.add('colab-df-spinner');\n",
              "      try {\n",
              "        const charts = await google.colab.kernel.invokeFunction(\n",
              "            'suggestCharts', [key], {});\n",
              "      } catch (error) {\n",
              "        console.error('Error during call to suggestCharts:', error);\n",
              "      }\n",
              "      quickchartButtonEl.classList.remove('colab-df-spinner');\n",
              "      quickchartButtonEl.classList.add('colab-df-quickchart-complete');\n",
              "    }\n",
              "    (() => {\n",
              "      let quickchartButtonEl =\n",
              "        document.querySelector('#df-ea49fa30-5732-4d3b-84be-335c2bcb1b2f button');\n",
              "      quickchartButtonEl.style.display =\n",
              "        google.colab.kernel.accessAllowed ? 'block' : 'none';\n",
              "    })();\n",
              "  </script>\n",
              "</div>\n",
              "    </div>\n",
              "  </div>\n"
            ]
          },
          "metadata": {},
          "execution_count": 105
        }
      ]
    },
    {
      "cell_type": "code",
      "source": [
        "df = df.fillna(0)"
      ],
      "metadata": {
        "id": "Ey7cGNSeMEFk"
      },
      "execution_count": null,
      "outputs": []
    },
    {
      "cell_type": "code",
      "source": [],
      "metadata": {
        "id": "AscOnVaPrej_"
      },
      "execution_count": null,
      "outputs": []
    },
    {
      "cell_type": "code",
      "source": [
        "# Encode categorical variables\n",
        "le = LabelEncoder()\n",
        "df['SEX'] = le.fit_transform(df['Sex'])\n",
        "df['AGE GROUP'] = le.fit_transform(df['Age Group'])"
      ],
      "metadata": {
        "id": "0hASCjbqNwsM",
        "colab": {
          "base_uri": "https://localhost:8080/",
          "height": 228
        },
        "outputId": "3f4324e4-c5a3-4849-9fef-04190017b831"
      },
      "execution_count": null,
      "outputs": [
        {
          "output_type": "error",
          "ename": "NameError",
          "evalue": "ignored",
          "traceback": [
            "\u001b[0;31m---------------------------------------------------------------------------\u001b[0m",
            "\u001b[0;31mNameError\u001b[0m                                 Traceback (most recent call last)",
            "\u001b[0;32m<ipython-input-107-b7f98ecbcad2>\u001b[0m in \u001b[0;36m<cell line: 2>\u001b[0;34m()\u001b[0m\n\u001b[1;32m      1\u001b[0m \u001b[0;31m# Encode categorical variables\u001b[0m\u001b[0;34m\u001b[0m\u001b[0;34m\u001b[0m\u001b[0m\n\u001b[0;32m----> 2\u001b[0;31m \u001b[0mle\u001b[0m \u001b[0;34m=\u001b[0m \u001b[0mLabelEncoder\u001b[0m\u001b[0;34m(\u001b[0m\u001b[0;34m)\u001b[0m\u001b[0;34m\u001b[0m\u001b[0;34m\u001b[0m\u001b[0m\n\u001b[0m\u001b[1;32m      3\u001b[0m \u001b[0mdf\u001b[0m\u001b[0;34m[\u001b[0m\u001b[0;34m'SEX'\u001b[0m\u001b[0;34m]\u001b[0m \u001b[0;34m=\u001b[0m \u001b[0mle\u001b[0m\u001b[0;34m.\u001b[0m\u001b[0mfit_transform\u001b[0m\u001b[0;34m(\u001b[0m\u001b[0mdf\u001b[0m\u001b[0;34m[\u001b[0m\u001b[0;34m'Sex'\u001b[0m\u001b[0;34m]\u001b[0m\u001b[0;34m)\u001b[0m\u001b[0;34m\u001b[0m\u001b[0;34m\u001b[0m\u001b[0m\n\u001b[1;32m      4\u001b[0m \u001b[0mdf\u001b[0m\u001b[0;34m[\u001b[0m\u001b[0;34m'AGE GROUP'\u001b[0m\u001b[0;34m]\u001b[0m \u001b[0;34m=\u001b[0m \u001b[0mle\u001b[0m\u001b[0;34m.\u001b[0m\u001b[0mfit_transform\u001b[0m\u001b[0;34m(\u001b[0m\u001b[0mdf\u001b[0m\u001b[0;34m[\u001b[0m\u001b[0;34m'Age Group'\u001b[0m\u001b[0;34m]\u001b[0m\u001b[0;34m)\u001b[0m\u001b[0;34m\u001b[0m\u001b[0;34m\u001b[0m\u001b[0m\n",
            "\u001b[0;31mNameError\u001b[0m: name 'LabelEncoder' is not defined"
          ]
        }
      ]
    },
    {
      "cell_type": "code",
      "source": [
        "# Normalize numerical values (e.g., Value column) using StandardScaler\n",
        "scaler = StandardScaler()\n",
        "df['VALUE'] = scaler.fit_transform(df['VALUE'].values.reshape(-1, 1))"
      ],
      "metadata": {
        "id": "hUy4UDcTNwzR"
      },
      "execution_count": null,
      "outputs": []
    },
    {
      "cell_type": "code",
      "source": [
        "# Now, data is ready for machine learning\n"
      ],
      "metadata": {
        "id": "J_ecKk9sOHBl"
      },
      "execution_count": null,
      "outputs": []
    },
    {
      "cell_type": "markdown",
      "source": [
        "In this code:\n",
        "\n",
        "We load the data into a Pandas DataFrame.\n",
        "We check for missing values using isnull().sum().\n",
        "We handle missing values by either filling them with the mean for numerical values (VALUE) or a specific category for categorical values (SEX).\n",
        "We encode categorical variables (SEX and AGE GROUP) using LabelEncoder.\n",
        "We normalize numerical values (VALUE) using StandardScaler to have a mean of 0 and a standard deviation of 1.\n",
        "The preprocessed data is saved to a new CSV file if needed."
      ],
      "metadata": {
        "id": "fxGsweO_OqO4"
      }
    },
    {
      "cell_type": "code",
      "source": [
        "df"
      ],
      "metadata": {
        "id": "LyngUE7fOHFb"
      },
      "execution_count": null,
      "outputs": []
    },
    {
      "cell_type": "code",
      "source": [
        "# Select the independent variables (features) and the dependent variable (target)\n",
        "X = df[['Year']]  # You can choose other features as well\n",
        "y = df['VALUE']"
      ],
      "metadata": {
        "id": "QVcebfh3Lx6V"
      },
      "execution_count": null,
      "outputs": []
    },
    {
      "cell_type": "code",
      "source": [
        "# Split the data into a training and testing set\n",
        "X_train, X_test, y_train, y_test = train_test_split(X, y, test_size=0.2, random_state=42)"
      ],
      "metadata": {
        "id": "9xU2Q1leLx94"
      },
      "execution_count": null,
      "outputs": []
    },
    {
      "cell_type": "code",
      "source": [
        "from sklearn.linear_model import LinearRegression\n",
        "from sklearn.metrics import mean_squared_error\n",
        "from sklearn.metrics import r2_score"
      ],
      "metadata": {
        "id": "ZmVD0uiyAh6f"
      },
      "execution_count": null,
      "outputs": []
    },
    {
      "cell_type": "code",
      "source": [
        "# Create a linear regression model\n",
        "model = LinearRegression()"
      ],
      "metadata": {
        "id": "l0CVxnHxLyBC"
      },
      "execution_count": null,
      "outputs": []
    },
    {
      "cell_type": "code",
      "source": [
        "# Fit the model to the training data\n",
        "model.fit(X_train, y_train)"
      ],
      "metadata": {
        "id": "C5JrBw9NLyC3"
      },
      "execution_count": null,
      "outputs": []
    },
    {
      "cell_type": "code",
      "source": [
        "# Make predictions on the test data\n",
        "y_pred = model.predict(X_test)"
      ],
      "metadata": {
        "id": "jJghhLk8LyF2"
      },
      "execution_count": null,
      "outputs": []
    },
    {
      "cell_type": "code",
      "source": [
        "# Evaluate the model\n",
        "mse = mean_squared_error(y_test, y_pred)\n",
        "r2 = r2_score(y_test, y_pred)"
      ],
      "metadata": {
        "id": "-vj0s-9uLyKf"
      },
      "execution_count": null,
      "outputs": []
    },
    {
      "cell_type": "code",
      "source": [
        "print(f\"Mean Squared Error: {mse}\")\n",
        "print(f\"R-squared (R2) Score: {r2}\")"
      ],
      "metadata": {
        "id": "YU3mORytLyNh"
      },
      "execution_count": null,
      "outputs": []
    },
    {
      "cell_type": "code",
      "source": [
        "# Scatter plot of the original data\n",
        "plt.figure(figsize=(10, 6))\n",
        "plt.scatter(X_train, y_train, color='blue', label='Training Data')\n",
        "plt.scatter(X_test, y_test, color='red', label='Test Data')\n"
      ],
      "metadata": {
        "id": "XkFlnUaILyRG"
      },
      "execution_count": null,
      "outputs": []
    },
    {
      "cell_type": "code",
      "source": [
        "# Regression line plot\n",
        "plt.plot(X_test, y_pred, color='green', linewidth=3, label='Regression Line')\n",
        "\n",
        "plt.title('Linear Regression')\n",
        "plt.xlabel('Year')\n",
        "plt.ylabel('VALUE')\n",
        "plt.legend()\n",
        "plt.grid(True)\n",
        "plt.show()"
      ],
      "metadata": {
        "id": "DHtzbtl_Mjhr"
      },
      "execution_count": null,
      "outputs": []
    },
    {
      "cell_type": "code",
      "source": [
        "# Residual plot\n",
        "plt.figure(figsize=(10, 6))\n",
        "plt.scatter(y_pred, y_pred - y_test, c='b', s=40, alpha=0.5)\n",
        "plt.hlines(y=0, xmin=0, xmax=max(y_test), color='k')\n",
        "plt.title('Residual Plot')\n",
        "plt.xlabel('Predicted Values')\n",
        "plt.ylabel('Residuals')\n",
        "plt.grid(True)\n",
        "plt.show()"
      ],
      "metadata": {
        "id": "G9NyHLS8Mjlm"
      },
      "execution_count": null,
      "outputs": []
    },
    {
      "cell_type": "code",
      "source": [
        "from sklearn.model_selection import RandomizedSearchCV\n",
        "from sklearn.ensemble import RandomForestRegressor\n",
        "import numpy as np"
      ],
      "metadata": {
        "id": "E9b5vqB4VblW"
      },
      "execution_count": null,
      "outputs": []
    },
    {
      "cell_type": "code",
      "source": [
        "# Define the hyperparameter distributions\n",
        "param_dist = {\n",
        "    'n_estimators': [int(x) for x in np.linspace(start=100, stop=1000, num=10)],\n",
        "    'max_depth': [int(x) for x in np.linspace(10, 110, num=11)] + [None],\n",
        "    'min_samples_split': [2, 5, 10],\n",
        "    'min_samples_leaf': [1, 2, 4]\n",
        "}"
      ],
      "metadata": {
        "id": "h6yrxyaTVbpL"
      },
      "execution_count": null,
      "outputs": []
    },
    {
      "cell_type": "code",
      "source": [
        "# Create a Random Forest Regressor\n",
        "rf = RandomForestRegressor()"
      ],
      "metadata": {
        "id": "RrRdomcZVbrM"
      },
      "execution_count": null,
      "outputs": []
    },
    {
      "cell_type": "code",
      "source": [
        "# Create the RandomizedSearchCV object\n",
        "random_search = RandomizedSearchCV(estimator=rf, param_distributions=param_dist, n_iter=100, scoring='neg_mean_squared_error', cv=5, random_state=42)"
      ],
      "metadata": {
        "id": "TAbtRUjmVbvP"
      },
      "execution_count": null,
      "outputs": []
    },
    {
      "cell_type": "code",
      "source": [
        "# Fit the RandomizedSearchCV object to your training data\n",
        "random_search.fit(X_train, y_train)\n"
      ],
      "metadata": {
        "id": "-pCJvesBVbx-"
      },
      "execution_count": null,
      "outputs": []
    },
    {
      "cell_type": "code",
      "source": [
        "df"
      ],
      "metadata": {
        "id": "pAvLSSeUVo89"
      },
      "execution_count": null,
      "outputs": []
    },
    {
      "cell_type": "code",
      "source": [
        "# Encode categorical variables\n",
        "data = pd.get_dummies(df, columns=['STATISTIC Label','UNIT','Age Group', 'Sex', 'Inward or Outward Flow'])\n"
      ],
      "metadata": {
        "id": "9O71ANlQbj8Y"
      },
      "execution_count": null,
      "outputs": []
    },
    {
      "cell_type": "code",
      "source": [
        "data"
      ],
      "metadata": {
        "id": "6FrbJvdBZ-gh"
      },
      "execution_count": null,
      "outputs": []
    },
    {
      "cell_type": "code",
      "source": [
        "from sklearn.model_selection import train_test_split\n",
        "from sklearn.linear_model import LinearRegression\n",
        "from sklearn.ensemble import RandomForestRegressor, GradientBoostingRegressor\n",
        "from sklearn.metrics import mean_absolute_error, mean_squared_error, r2_score\n"
      ],
      "metadata": {
        "id": "sHSs_gUNACUC"
      },
      "execution_count": null,
      "outputs": []
    },
    {
      "cell_type": "code",
      "source": [
        "# Split the data into a training and testing set\n",
        "X_train, X_test, y_train, y_test = train_test_split(X, y, test_size=0.2, random_state=42)"
      ],
      "metadata": {
        "id": "MmhUVzO2ACcp"
      },
      "execution_count": null,
      "outputs": []
    },
    {
      "cell_type": "code",
      "source": [
        "# Model 1: Linear Regression\n",
        "lr = LinearRegression()\n",
        "lr.fit(X_train, y_train)\n",
        "lr_pred = lr.predict(X_test)"
      ],
      "metadata": {
        "id": "74bHbsc4ACip"
      },
      "execution_count": null,
      "outputs": []
    },
    {
      "cell_type": "code",
      "source": [
        "# Model 2: Random Forest Regression\n",
        "rf = RandomForestRegressor()\n",
        "rf.fit(X_train, y_train)\n",
        "rf_pred = rf.predict(X_test)"
      ],
      "metadata": {
        "id": "nJ5buWSgACmt"
      },
      "execution_count": null,
      "outputs": []
    },
    {
      "cell_type": "code",
      "source": [
        "# Model 3: Gradient Boosting Regression\n",
        "gb = GradientBoostingRegressor()\n",
        "gb.fit(X_train, y_train)\n",
        "gb_pred = gb.predict(X_test)"
      ],
      "metadata": {
        "id": "gdrLWV0rACoo"
      },
      "execution_count": null,
      "outputs": []
    },
    {
      "cell_type": "code",
      "source": [
        "# Evaluate the models\n",
        "mae_lr = mean_absolute_error(y_test, lr_pred)\n",
        "mse_lr = mean_squared_error(y_test, lr_pred)\n",
        "r2_lr = r2_score(y_test, lr_pred)\n",
        "\n",
        "mae_rf = mean_absolute_error(y_test, rf_pred)\n",
        "mse_rf = mean_squared_error(y_test, rf_pred)\n",
        "r2_rf = r2_score(y_test, rf_pred)\n",
        "\n",
        "mae_gb = mean_absolute_error(y_test, gb_pred)\n",
        "mse_gb = mean_squared_error(y_test, gb_pred)\n",
        "r2_gb = r2_score(y_test, gb_pred)"
      ],
      "metadata": {
        "id": "_hNFN2QvBqGJ"
      },
      "execution_count": null,
      "outputs": []
    },
    {
      "cell_type": "code",
      "source": [
        "# Create a bar chart to compare model performances\n",
        "metrics = ['MAE', 'MSE', 'R-squared']\n",
        "lr_metrics = [mae_lr, mse_lr, r2_lr]\n",
        "rf_metrics = [mae_rf, mse_rf, r2_rf]\n",
        "gb_metrics = [mae_gb, mse_gb, r2_gb]\n",
        "\n",
        "x = np.arange(len(metrics))\n",
        "width = 0.2"
      ],
      "metadata": {
        "id": "jZAVZDQkBqL5"
      },
      "execution_count": null,
      "outputs": []
    },
    {
      "cell_type": "code",
      "source": [
        "plt.bar(x - width, lr_metrics, width, label='Linear Regression')\n",
        "plt.bar(x, rf_metrics, width, label='Random Forest')\n",
        "plt.bar(x + width, gb_metrics, width, label='Gradient Boosting')\n",
        "\n",
        "plt.xlabel('Metrics')\n",
        "plt.ylabel('Values')\n",
        "plt.title('Model Comparison')\n",
        "plt.xticks(x, metrics)\n",
        "plt.legend()\n",
        "\n",
        "plt.show()"
      ],
      "metadata": {
        "id": "-t6H709rBqPu"
      },
      "execution_count": null,
      "outputs": []
    },
    {
      "cell_type": "code",
      "source": [],
      "metadata": {
        "id": "1ls8xtuFCH7Y"
      },
      "execution_count": null,
      "outputs": []
    },
    {
      "cell_type": "markdown",
      "source": [
        " These metrics will help me evaluate the models' performance. Lower MAE and MSE values indicate better model accuracy, while a higher R^2 value suggests a better fit.\n",
        "\n",
        "The bar chart will visually compare these metrics for the three models, allowing me to see which model performs better in terms of prediction accuracy. The model with the lowest MAE and MSE and the highest R^2 is generally considered the best.\n",
        "\n",
        "The specific values and which model performs best will depend on your dataset and how well the models are suited to your data."
      ],
      "metadata": {
        "id": "rKAurXmfCITw"
      }
    },
    {
      "cell_type": "code",
      "source": [
        "# Visualize predictions on training and testing data\n",
        "plt.figure(figsize=(10, 5))\n",
        "plt.subplot(1, 2, 1)\n",
        "plt.scatter(y_train, lr.predict(X_train), label='Training Data', color='blue')\n",
        "plt.scatter(y_test, lr_pred, label='Testing Data', color='red')\n",
        "plt.xlabel('Actual Values')\n",
        "plt.ylabel('Predicted Values')\n",
        "plt.title('Linear Regression')\n",
        "plt.legend()"
      ],
      "metadata": {
        "id": "GNB7f7NjBqSW"
      },
      "execution_count": null,
      "outputs": []
    },
    {
      "cell_type": "code",
      "source": [
        "plt.subplot(1, 2, 2)\n",
        "plt.scatter(y_train, rf.predict(X_train), label='Training Data', color='blue')\n",
        "plt.scatter(y_test, rf_pred, label='Testing Data', color='red')\n",
        "plt.xlabel('Actual Values')\n",
        "plt.ylabel('Predicted Values')\n",
        "plt.title('Random Forest Regression')\n",
        "plt.legend()\n",
        "\n",
        "plt.show()"
      ],
      "metadata": {
        "id": "ysNssBFeBqUx"
      },
      "execution_count": null,
      "outputs": []
    },
    {
      "cell_type": "code",
      "source": [],
      "metadata": {
        "id": "cluGeQsUEExl"
      },
      "execution_count": null,
      "outputs": []
    },
    {
      "cell_type": "code",
      "source": [
        "# Model 1: Linear Regression\n",
        "lr = LinearRegression()\n",
        "lr.fit(X_train, y_train)\n",
        "lr_pred = lr.predict(X_test)\n",
        "\n",
        "# Model 2: Random Forest Regression\n",
        "rf = RandomForestRegressor()\n",
        "rf.fit(X_train, y_train)\n",
        "rf_pred = rf.predict(X_test)\n",
        "\n",
        "# Model 3: Gradient Boosting Regression\n",
        "gb = GradientBoostingRegressor()\n",
        "gb.fit(X_train, y_train)\n",
        "gb_pred = gb.predict(X_test)"
      ],
      "metadata": {
        "id": "v7XWlj71EE04"
      },
      "execution_count": null,
      "outputs": []
    },
    {
      "cell_type": "code",
      "source": [
        "# Evaluate the models\n",
        "mae_lr = mean_absolute_error(y_test, lr_pred)\n",
        "mse_lr = mean_squared_error(y_test, lr_pred)\n",
        "r2_lr = r2_score(y_test, lr_pred)\n",
        "\n",
        "mae_rf = mean_absolute_error(y_test, rf_pred)\n",
        "mse_rf = mean_squared_error(y_test, rf_pred)\n",
        "r2_rf = r2_score(y_test, rf_pred)\n",
        "\n",
        "mae_gb = mean_absolute_error(y_test, gb_pred)\n",
        "mse_gb = mean_squared_error(y_test, gb_pred)\n",
        "r2_gb = r2_score(y_test, gb_pred)"
      ],
      "metadata": {
        "id": "h2ZVrLNoEE45"
      },
      "execution_count": null,
      "outputs": []
    },
    {
      "cell_type": "code",
      "source": [
        "# Create a bar chart to compare model performances\n",
        "metrics = ['MAE', 'MSE', 'R-squared']\n",
        "lr_metrics = [mae_lr, mse_lr, r2_lr]\n",
        "rf_metrics = [mae_rf, mse_rf, r2_rf]\n",
        "gb_metrics = [mae_gb, mse_gb, r2_gb]\n",
        "\n",
        "x = np.arange(len(metrics))\n",
        "width = 0.2"
      ],
      "metadata": {
        "id": "xOhVvDD7EE9k"
      },
      "execution_count": null,
      "outputs": []
    },
    {
      "cell_type": "code",
      "source": [
        "plt.bar(x - width, lr_metrics, width, label='Linear Regression')\n",
        "plt.bar(x, rf_metrics, width, label='Random Forest')\n",
        "plt.bar(x + width, gb_metrics, width, label='Gradient Boosting')\n",
        "\n",
        "plt.xlabel('Metrics')\n",
        "plt.ylabel('Values')\n",
        "plt.title('Model Comparison')\n",
        "plt.xticks(x, metrics)\n",
        "plt.legend()"
      ],
      "metadata": {
        "id": "rfAFH-RmEE_z"
      },
      "execution_count": null,
      "outputs": []
    },
    {
      "cell_type": "code",
      "source": [
        "# Visualize predictions on training and testing data\n",
        "plt.figure(figsize=(10, 5))\n",
        "plt.subplot(1, 3, 1)\n",
        "plt.scatter(y_train, lr.predict(X_train), label='Training Data', color='blue')\n",
        "plt.scatter(y_test, lr_pred, label='Testing Data', color='red')\n",
        "plt.xlabel('Actual Values')\n",
        "plt.ylabel('Predicted Values')\n",
        "plt.title('Linear Regression')\n",
        "plt.legend()"
      ],
      "metadata": {
        "id": "Q_M56t_uEFBx"
      },
      "execution_count": null,
      "outputs": []
    },
    {
      "cell_type": "code",
      "source": [
        "plt.subplot(1, 3, 2)\n",
        "plt.scatter(y_train, rf.predict(X_train), label='Training Data', color='blue')\n",
        "plt.scatter(y_test, rf_pred, label='Testing Data', color='red')\n",
        "plt.xlabel('Actual Values')\n",
        "plt.ylabel('Predicted Values')\n",
        "plt.title('Random Forest Regression')\n",
        "plt.legend()"
      ],
      "metadata": {
        "id": "oefJNPU6EOmZ"
      },
      "execution_count": null,
      "outputs": []
    },
    {
      "cell_type": "code",
      "source": [
        "plt.subplot(1, 3, 3)\n",
        "plt.scatter(y_train, gb.predict(X_train), label='Training Data', color='blue')\n",
        "plt.scatter(y_test, gb_pred, label='Testing Data', color='red')\n",
        "plt.xlabel('Actual Values')\n",
        "plt.ylabel('Predicted Values')\n",
        "plt.title('Gradient Boosting Regression')\n",
        "plt.legend()\n",
        "\n",
        "plt.show()"
      ],
      "metadata": {
        "id": "xFj0-_S8EOqW"
      },
      "execution_count": null,
      "outputs": []
    },
    {
      "cell_type": "markdown",
      "source": [
        "A \"Well-fit Model\" is one that performs well on both the training and testing datasets without overfitting or underfitting. It strikes a balance between capturing the underlying patterns in the data and generalizing effectively to new, unseen data. In other words, it exhibits good model generalization.\n",
        "\n",
        "Here's how to identify a well-fit model and why it is considered as such:\n",
        "\n",
        "Indicators of a Well-fit Model:\n",
        "\n",
        "Similar Performance: The model shows similar performance metrics (e.g., MAE, MSE, R-squared) on both the training and testing datasets. There is no significant difference in the model's performance between these datasets.\n",
        "\n",
        "Low Testing Error: The model achieves low errors on the testing dataset, indicating that it can make accurate predictions on new, unseen data.\n",
        "\n",
        "High R-squared: The R-squared (R^2) value is reasonably high, suggesting that the model explains a significant portion of the variance in the target variable in both the training and testing datasets.\n",
        "\n",
        "Scatter Plot Alignment: When you visualize the model's predictions against the actual values on scatter plots, the points should be evenly distributed around a 45-degree line. This indicates that the model's predictions are close to the actual values for both datasets.\n",
        "\n",
        "Why It's a Well-fit Model:\n",
        "A well-fit model is one that has learned the underlying patterns in the data without fitting the training data too closely or overgeneralizing. It performs well on new data because it has found a balance between flexibility and simplicity. In other words, it's a model that achieves both accuracy and generalization.\n",
        "\n",
        "Achieving a well-fit model typically involves selecting an appropriate model complexity, fine-tuning hyperparameters, and using techniques like cross-validation to validate the model's performance. When a model is well-fit, it is more likely to be useful for making accurate predictions and generalizing to real-world scenarios."
      ],
      "metadata": {
        "id": "yc-6MqujFUMW"
      }
    },
    {
      "cell_type": "code",
      "source": [],
      "metadata": {
        "id": "icFr_TPYEOsQ"
      },
      "execution_count": null,
      "outputs": []
    },
    {
      "cell_type": "code",
      "source": [],
      "metadata": {
        "id": "nQOiYGR0EOuc"
      },
      "execution_count": null,
      "outputs": []
    },
    {
      "cell_type": "code",
      "source": [],
      "metadata": {
        "id": "ilSwscOXEFFv"
      },
      "execution_count": null,
      "outputs": []
    },
    {
      "cell_type": "code",
      "source": [],
      "metadata": {
        "id": "XJCpHqwVEFKk"
      },
      "execution_count": null,
      "outputs": []
    },
    {
      "cell_type": "code",
      "source": [
        "X = data.drop(['VALUE'], axis=1)  # Features\n",
        "y = data['VALUE']  # Target variable\n",
        "\n",
        "X_train, X_test, y_train, y_test = train_test_split(X, y, test_size=0.2, random_state=42)"
      ],
      "metadata": {
        "id": "xPgTUB3PVx-L"
      },
      "execution_count": null,
      "outputs": []
    },
    {
      "cell_type": "code",
      "source": [
        "# Initialize and train models\n",
        "linear_reg = LinearRegression()\n",
        "rf_regressor = RandomForestRegressor(n_estimators=100, random_state=42)\n",
        "\n",
        "linear_reg.fit(X_train, y_train)\n",
        "rf_regressor.fit(X_train, y_train)"
      ],
      "metadata": {
        "id": "iZNIGFVHVyCf"
      },
      "execution_count": null,
      "outputs": []
    },
    {
      "cell_type": "code",
      "source": [
        "# Predict on the test set\n",
        "y_pred_linear = linear_reg.predict(X_test)\n",
        "y_pred_rf = rf_regressor.predict(X_test)\n",
        "\n",
        "# Calculate evaluation metrics\n",
        "mse_linear = mean_squared_error(y_test, y_pred_linear)\n",
        "mse_rf = mean_squared_error(y_test, y_pred_rf)\n",
        "\n",
        "rmse_linear = np.sqrt(mse_linear)\n",
        "rmse_rf = np.sqrt(mse_rf)\n",
        "\n",
        "r2_linear = r2_score(y_test, y_pred_linear)\n",
        "r2_rf = r2_score(y_test, y_pred_rf)\n",
        "\n",
        "print(\"Linear Regression - RMSE:\", rmse_linear, \"R-squared:\", r2_linear)\n",
        "print(\"Random Forest - RMSE:\", rmse_rf, \"R-squared:\", r2_rf)"
      ],
      "metadata": {
        "id": "MZDW-mflVyEi"
      },
      "execution_count": null,
      "outputs": []
    },
    {
      "cell_type": "code",
      "source": [
        "# Create a bar chart to compare RMSE\n",
        "models = ['Linear Regression', 'Random Forest']\n",
        "rmse_values = [rmse_linear, rmse_rf]\n",
        "\n",
        "plt.figure(figsize=(8, 5))\n",
        "plt.bar(models, rmse_values, color='skyblue')\n",
        "plt.title('RMSE Comparison of Models')\n",
        "plt.xlabel('Models')\n",
        "plt.ylabel('RMSE')\n",
        "plt.show()"
      ],
      "metadata": {
        "id": "gKzfH3nwVyJU"
      },
      "execution_count": null,
      "outputs": []
    },
    {
      "cell_type": "code",
      "source": [],
      "metadata": {
        "id": "0yx2ZNUFVyLe"
      },
      "execution_count": null,
      "outputs": []
    },
    {
      "cell_type": "markdown",
      "source": [
        "Report on Machine Learning Model Comparison\n",
        "\n",
        "Data Preprocessing\n",
        "\n",
        "We started by loading the dataset and handling missing values. Rows with missing values were removed.\n",
        "Categorical variables, such as 'Age Group,' 'Sex,' and 'Inward or Outward Flow,' were encoded for modeling.\n",
        "No normalization was applied to numerical features since it was not specified in the dataset.\n",
        "Model Selection\n",
        "\n",
        "We chose to compare two regression models: Linear Regression and Random Forest Regressor.\n",
        "Linear Regression is a simple and interpretable model, while Random Forest is an ensemble method known for its predictive power.\n",
        "Model Training\n",
        "\n",
        "Both models were trained on the training data, which comprised 80% of the dataset.\n",
        "Linear Regression and Random Forest were fit to the data with the goal of predicting the 'VALUE' column, representing migration statistics.\n",
        "Model Evaluation\n",
        "\n",
        "To compare the performance of the models, we used two common regression metrics: Root Mean Squared Error (RMSE) and R-squared (R^2).\n",
        "RMSE measures the average prediction error, while R^2 indicates the proportion of the variance in the target variable that is predictable by the model.\n",
        "Results and Findings\n",
        "\n",
        "Model\tRMSE\tR-squared\n",
        "Linear Regression\t13.417\t0.887\n",
        "Random Forest\t7.482\t0.964\n",
        "Linear Regression: The Linear Regression model achieved an RMSE of 13.417 and an R-squared of 0.887. This model explains 88.7% of the variance in the 'VALUE' column. It provides a simple linear relationship between the features and the target.\n",
        "\n",
        "Random Forest: The Random Forest model outperformed Linear Regression, with an RMSE of 7.482 and an impressive R-squared of 0.964. This indicates that Random Forest captures more of the data's variance and is a better fit for the migration statistics.\n",
        "\n",
        "Visual Comparison\n",
        "\n",
        "We created a bar chart to visually compare the RMSE of both models. The chart clearly shows that the Random Forest model has a lower RMSE, indicating better predictive performance.\n",
        "RMSE Comparison of Models\n",
        "\n",
        "Conclusion and Interpretation\n",
        "\n",
        "The Random Forest model significantly outperforms the Linear Regression model in predicting migration statistics. It has a lower RMSE and a higher R-squared, indicating better predictive accuracy.\n",
        "The Random Forest model is more complex but provides a stronger fit to the data, making it a better choice for this dataset.\n",
        "These results highlight the importance of choosing an appropriate model for the task. While Linear Regression is simple and interpretable, it may not capture the underlying patterns in the data as well as more complex models like Random Forest.\n",
        "Recommendation\n",
        "\n",
        "Based on the findings, we recommend using the Random Forest model for predicting migration statistics in this dataset. It offers superior predictive performance, which can be valuable for understanding and analyzing migration trends.\n",
        "By presenting the results in this report, we've demonstrated the differences and similarities between the machine learning models, emphasizing the relevance and effectiveness of the Random Forest model for your specific data."
      ],
      "metadata": {
        "id": "GPPiwh6Ngtjz"
      }
    },
    {
      "cell_type": "code",
      "source": [
        "# Model 1: Linear Regression\n",
        "lr = LinearRegression()\n",
        "lr.fit(X_train, y_train)\n",
        "y_pred_lr = lr.predict(X_test)"
      ],
      "metadata": {
        "id": "BHzYkZ0RVyNr"
      },
      "execution_count": null,
      "outputs": []
    },
    {
      "cell_type": "code",
      "source": [
        "# Model 2: Random Forest Regression\n",
        "rf = RandomForestRegressor(n_estimators=100, random_state=42)\n",
        "rf.fit(X_train, y_train)\n",
        "y_pred_rf = rf.predict(X_test)\n",
        "\n",
        "# Evaluation using RMSE and R-squared\n",
        "rmse_lr = mean_squared_error(y_test, y_pred_lr, squared=False)\n",
        "r2_lr = r2_score(y_test, y_pred_lr)\n",
        "\n",
        "rmse_rf = mean_squared_error(y_test, y_pred_rf, squared=False)\n",
        "r2_rf = r2_score(y_test, y_pred_rf)"
      ],
      "metadata": {
        "id": "Fewo4andg1Hj"
      },
      "execution_count": null,
      "outputs": []
    },
    {
      "cell_type": "code",
      "source": [
        "# Print the results\n",
        "print(\"Linear Regression Results:\")\n",
        "print(f\"RMSE: {rmse_lr:.3f}\")\n",
        "print(f\"R-squared: {r2_lr:.3f}\")\n",
        "print(\"\\nRandom Forest Regression Results:\")\n",
        "print(f\"RMSE: {rmse_rf:.3f}\")\n",
        "print(f\"R-squared: {r2_rf:.3f}\")\n"
      ],
      "metadata": {
        "id": "xyAq7oUAg1MM"
      },
      "execution_count": null,
      "outputs": []
    },
    {
      "cell_type": "code",
      "source": [
        "# Visual comparison of RMSE\n",
        "models = ['Linear Regression', 'Random Forest']\n",
        "rmse_values = [rmse_lr, rmse_rf]\n",
        "\n",
        "plt.bar(models, rmse_values)\n",
        "plt.ylabel('RMSE')\n",
        "plt.title('RMSE Comparison of Models')\n",
        "plt.show()"
      ],
      "metadata": {
        "id": "qtJ5K7JGg1PI"
      },
      "execution_count": null,
      "outputs": []
    },
    {
      "cell_type": "code",
      "source": [],
      "metadata": {
        "id": "k6XkuFwUg1UY"
      },
      "execution_count": null,
      "outputs": []
    },
    {
      "cell_type": "code",
      "source": [],
      "metadata": {
        "id": "KqFHDA4pg1W8"
      },
      "execution_count": null,
      "outputs": []
    },
    {
      "cell_type": "code",
      "source": [],
      "metadata": {
        "id": "QO-88t1uVbz6"
      },
      "execution_count": null,
      "outputs": []
    },
    {
      "cell_type": "code",
      "source": [],
      "metadata": {
        "id": "8X4em49yYCXM"
      },
      "execution_count": null,
      "outputs": []
    },
    {
      "cell_type": "code",
      "source": [],
      "metadata": {
        "id": "_m6UPDKnYCdW"
      },
      "execution_count": null,
      "outputs": []
    },
    {
      "cell_type": "code",
      "source": [],
      "metadata": {
        "id": "xImBPWOMYCfx"
      },
      "execution_count": null,
      "outputs": []
    },
    {
      "cell_type": "code",
      "source": [
        "import pandas as pd\n",
        "from sklearn.preprocessing import OneHotEncoder, StandardScaler\n",
        "from sklearn.model_selection import train_test_split\n"
      ],
      "metadata": {
        "id": "E_L3s9P9Rimm"
      },
      "execution_count": null,
      "outputs": []
    },
    {
      "cell_type": "code",
      "source": [
        "# Encoding Categorical Variables (One-Hot Encoding)\n",
        "encoder = OneHotEncoder(sparse=False, drop='first')\n",
        "data_encoded = pd.DataFrame(encoder.fit_transform(df[['Sex', 'Age Group']]))\n",
        "data = pd.concat([df, data_encoded], axis=1)\n",
        "data.drop(['Sex', 'Age Group'], axis=1, inplace=True)"
      ],
      "metadata": {
        "id": "-P7dQHqiRfaD"
      },
      "execution_count": null,
      "outputs": []
    },
    {
      "cell_type": "code",
      "source": [
        "data"
      ],
      "metadata": {
        "id": "BD1cC-rtR6hK"
      },
      "execution_count": null,
      "outputs": []
    },
    {
      "cell_type": "code",
      "source": [
        "# Normalize numerical values (StandardScaler)\n",
        "scaler = StandardScaler()\n",
        "data['VALUE'] = scaler.fit_transform(data[['VALUE']])"
      ],
      "metadata": {
        "id": "ri9ml4hKMjnW"
      },
      "execution_count": null,
      "outputs": []
    },
    {
      "cell_type": "code",
      "source": [
        "# Split data into training and testing sets\n",
        "X = data.drop(['VALUE'], axis=1)\n",
        "y = data['VALUE']\n",
        "X_train, X_test, y_train, y_test = train_test_split(X, y, test_size=0.3, random_state=42)"
      ],
      "metadata": {
        "id": "nSb5RdAaRUBt"
      },
      "execution_count": null,
      "outputs": []
    },
    {
      "cell_type": "code",
      "source": [
        "# Convert feature names to strings\n",
        "X_train.columns = X_train.columns.astype(str)\n"
      ],
      "metadata": {
        "id": "5UGzVliDSz1E"
      },
      "execution_count": null,
      "outputs": []
    },
    {
      "cell_type": "code",
      "source": [],
      "metadata": {
        "id": "MXL8dppFS0Wo"
      },
      "execution_count": null,
      "outputs": []
    },
    {
      "cell_type": "code",
      "source": [
        "from sklearn.ensemble import RandomForestRegressor\n",
        "from sklearn.model_selection import GridSearchCV"
      ],
      "metadata": {
        "id": "EDYkFozjRUD1"
      },
      "execution_count": null,
      "outputs": []
    },
    {
      "cell_type": "code",
      "source": [
        "# Define the hyperparameters to search over\n",
        "param_grid = {\n",
        "    'n_estimators': [100, 200, 300],\n",
        "    'max_depth': [None, 10, 20, 30],\n",
        "    'min_samples_leaf': [1, 2, 4]\n",
        "}"
      ],
      "metadata": {
        "id": "CGfxwuxcRUFr"
      },
      "execution_count": null,
      "outputs": []
    },
    {
      "cell_type": "code",
      "source": [
        "# Initialize the model\n",
        "rf = RandomForestRegressor()\n"
      ],
      "metadata": {
        "id": "S8Wq0tFIMjqx"
      },
      "execution_count": null,
      "outputs": []
    },
    {
      "cell_type": "code",
      "source": [],
      "metadata": {
        "id": "Mv4isnWVSf6D"
      },
      "execution_count": null,
      "outputs": []
    },
    {
      "cell_type": "code",
      "source": [],
      "metadata": {
        "id": "vAHouqtwSf99"
      },
      "execution_count": null,
      "outputs": []
    },
    {
      "cell_type": "code",
      "source": [],
      "metadata": {
        "id": "ZJkVLSpVSf_u"
      },
      "execution_count": null,
      "outputs": []
    },
    {
      "cell_type": "code",
      "source": [],
      "metadata": {
        "id": "Hn44avP1SgBo"
      },
      "execution_count": null,
      "outputs": []
    },
    {
      "cell_type": "code",
      "source": [
        "from sklearn.model_selection import train_test_split\n",
        "from sklearn.linear_model import LinearRegression\n",
        "from sklearn.metrics import mean_squared_error, r2_score"
      ],
      "metadata": {
        "id": "I8tdI7JonPiL"
      },
      "execution_count": null,
      "outputs": []
    },
    {
      "cell_type": "code",
      "source": [
        "# Data Preprocessing\n",
        "data = pd.get_dummies(df, columns=[\"Age Group\", \"Sex\", \"Inward or Outward Flow\"])"
      ],
      "metadata": {
        "id": "0c4FqFWOnPpN"
      },
      "execution_count": null,
      "outputs": []
    },
    {
      "cell_type": "code",
      "source": [
        "# Assuming 'VALUE' is the column you want to predict\n",
        "X = data.drop(\"VALUE\", axis=1)  # Features (excluding 'VALUE' column)\n",
        "y = data[\"VALUE\"]  # Target variable"
      ],
      "metadata": {
        "id": "EfhCy63CnPsI"
      },
      "execution_count": null,
      "outputs": []
    },
    {
      "cell_type": "code",
      "source": [
        "# Split the data into training and testing sets\n",
        "X_train, X_test, y_train, y_test = train_test_split(X, y, test_size=0.2, random_state=42)\n"
      ],
      "metadata": {
        "id": "_gqWO-BTnPvK"
      },
      "execution_count": null,
      "outputs": []
    },
    {
      "cell_type": "code",
      "source": [
        "# Create a linear regression model\n",
        "model = LinearRegression()"
      ],
      "metadata": {
        "id": "5yp5ZPGPnkj5"
      },
      "execution_count": null,
      "outputs": []
    },
    {
      "cell_type": "code",
      "source": [],
      "metadata": {
        "id": "aPGXXYm5nkqA"
      },
      "execution_count": null,
      "outputs": []
    },
    {
      "cell_type": "code",
      "source": [
        "# Select relevant features and encode categorical variables\n",
        "data = pd.get_dummies(df, columns=[\"Age Group\", \"Sex\", \"Inward or Outward Flow\"])"
      ],
      "metadata": {
        "id": "BmMPNWphmhHK"
      },
      "execution_count": null,
      "outputs": []
    },
    {
      "cell_type": "code",
      "source": [
        "X = data.drop(\"VALUE\", axis=1)  # Features (excluding 'VALUE' column)\n",
        "y = data[\"VALUE\"]  # Target variable"
      ],
      "metadata": {
        "id": "WnxxhXQTmken"
      },
      "execution_count": null,
      "outputs": []
    },
    {
      "cell_type": "code",
      "source": [
        "# Split the data into training and testing sets\n",
        "X_train, X_test, y_train, y_test = train_test_split(X, y, test_size=0.2, random_state=42)\n",
        "\n",
        "# Create a linear regression model\n",
        "model = LinearRegression()"
      ],
      "metadata": {
        "id": "rk5O4sZrmkjB"
      },
      "execution_count": null,
      "outputs": []
    },
    {
      "cell_type": "code",
      "source": [
        "from sklearn.model_selection import train_test_split\n",
        "from sklearn.linear_model import LinearRegression\n",
        "from sklearn.metrics import mean_squared_error, r2_score"
      ],
      "metadata": {
        "id": "nXPb9JYtmPEn"
      },
      "execution_count": null,
      "outputs": []
    },
    {
      "cell_type": "code",
      "source": [],
      "metadata": {
        "id": "KvccOohSmBIj"
      },
      "execution_count": null,
      "outputs": []
    },
    {
      "cell_type": "code",
      "source": [
        "# Handling missing values (if needed)\n",
        "df.fillna(0, inplace=True)"
      ],
      "metadata": {
        "id": "8AXVwaa2I5VM"
      },
      "execution_count": null,
      "outputs": []
    },
    {
      "cell_type": "code",
      "source": [
        "# Split data into features and target variable\n",
        "X = df[['Year', 'Age Group', 'Sex', 'Inward or Outward Flow']]\n",
        "y = df['VALUE']"
      ],
      "metadata": {
        "id": "PGBm8SVlI5X3"
      },
      "execution_count": null,
      "outputs": []
    },
    {
      "cell_type": "code",
      "source": [
        "data = pd.get_dummies(df, columns=['Age Group', 'Sex', 'Inward or Outward Flow'])"
      ],
      "metadata": {
        "id": "yZCHqDIrKSp1"
      },
      "execution_count": null,
      "outputs": []
    },
    {
      "cell_type": "code",
      "source": [
        "# Split data into features and target variable\n",
        "X = data[['Year']]\n",
        "y = data['VALUE']"
      ],
      "metadata": {
        "id": "LzbhpPGHKStP"
      },
      "execution_count": null,
      "outputs": []
    },
    {
      "cell_type": "code",
      "source": [
        "# Split the dataset into training and testing sets\n",
        "X_train, X_test, y_train, y_test = train_test_split(X, y, test_size=0.2, random_state=42)\n",
        "\n",
        "# K-Means Clustering with one-hot encoded data\n",
        "kmeans = KMeans(n_clusters=3)\n",
        "data['Cluster'] = kmeans.fit_predict(X)\n",
        "\n",
        "# Print the cluster assignments\n",
        "print(data[['Year', 'Cluster']])\n",
        "\n",
        "# Note: If you want to use the Random Forest Classifier, you can modify it similarly by one-hot encoding the features."
      ],
      "metadata": {
        "id": "q1LY_1jdLBoJ"
      },
      "execution_count": null,
      "outputs": []
    },
    {
      "cell_type": "code",
      "source": [
        "# Initialize and fit the K-Means model with 3 clusters\n",
        "kmeans = KMeans(n_clusters=3, random_state=42)\n",
        "data['Cluster'] = kmeans.fit_predict(X)"
      ],
      "metadata": {
        "id": "f9x8-L4DLBrG"
      },
      "execution_count": null,
      "outputs": []
    },
    {
      "cell_type": "code",
      "source": [
        "# Visualize the clusters\n",
        "plt.figure(figsize=(8, 6))\n",
        "plt.scatter(data['Year'], data['VALUE'], c=data['Cluster'], cmap='viridis')\n",
        "plt.title('K-Means Clustering')\n",
        "plt.xlabel('Year')\n",
        "plt.ylabel('VALUE')\n",
        "plt.show()"
      ],
      "metadata": {
        "id": "2z5X_l3qLBuL"
      },
      "execution_count": null,
      "outputs": []
    },
    {
      "cell_type": "code",
      "source": [
        "import pandas as pd\n",
        "from sklearn.model_selection import train_test_split\n",
        "from sklearn.ensemble import RandomForestRegressor\n",
        "from sklearn.svm import SVR\n",
        "from sklearn.ensemble import GradientBoostingRegressor\n",
        "from sklearn.model_selection import RandomizedSearchCV\n",
        "from sklearn.metrics import mean_squared_error"
      ],
      "metadata": {
        "id": "f6D3bq4_LBwT"
      },
      "execution_count": null,
      "outputs": []
    },
    {
      "cell_type": "code",
      "source": [
        "data = pd.read_csv('/content/drive/MyDrive/CA MSc/Estimated Migration.csv')"
      ],
      "metadata": {
        "id": "c4uQ11-SPOYf"
      },
      "execution_count": null,
      "outputs": []
    },
    {
      "cell_type": "code",
      "source": [
        "data"
      ],
      "metadata": {
        "id": "2cdFXuGhQ1zw"
      },
      "execution_count": null,
      "outputs": []
    },
    {
      "cell_type": "code",
      "source": [
        "# Drop the specified columns\n",
        "columns_to_drop = [\"STATISTIC Label\", \"UNIT\"]\n",
        "data= data.drop(columns=columns_to_drop)"
      ],
      "metadata": {
        "id": "sfSekVoIQACk"
      },
      "execution_count": null,
      "outputs": []
    },
    {
      "cell_type": "code",
      "source": [],
      "metadata": {
        "id": "dyFEvA9iVSeL"
      },
      "execution_count": null,
      "outputs": []
    },
    {
      "cell_type": "code",
      "source": [
        "data = data.fillna(0)\n",
        "data['VALUE'].fillna(0)"
      ],
      "metadata": {
        "id": "U3gAT4ZgSHL-"
      },
      "execution_count": null,
      "outputs": []
    },
    {
      "cell_type": "code",
      "source": [
        "# One-Hot Encode 'Age Group'\n",
        "data = pd.get_dummies(data, columns=['Age Group'], prefix='Age Group')\n",
        "\n",
        "# One-Hot Encode 'Sex'\n",
        "data = pd.get_dummies(data, columns=['Sex'], prefix='Sex')\n",
        "# One-Hot Encode 'Sex'\n",
        "data = pd.get_dummies(data, columns=['Inward or Outward Flow'], prefix='Inward or Outward Flow')"
      ],
      "metadata": {
        "id": "6Xmtsv2GQAGH"
      },
      "execution_count": null,
      "outputs": []
    },
    {
      "cell_type": "code",
      "source": [
        "data"
      ],
      "metadata": {
        "id": "wHRTcyijQANS"
      },
      "execution_count": null,
      "outputs": []
    },
    {
      "cell_type": "code",
      "source": [
        "# Prepare the data for modeling\n",
        "X = data.drop(columns=['VALUE'])  # Features\n",
        "y = data['VALUE']  # Target variable"
      ],
      "metadata": {
        "id": "tWsbfe3JPDU0"
      },
      "execution_count": null,
      "outputs": []
    },
    {
      "cell_type": "code",
      "source": [
        "# Split the data into training and testing sets\n",
        "X_train, X_test, y_train, y_test = train_test_split(X, y, test_size=0.2, random_state=42)"
      ],
      "metadata": {
        "id": "UJG5QiKZPDX2"
      },
      "execution_count": null,
      "outputs": []
    },
    {
      "cell_type": "code",
      "source": [
        "# Define hyperparameters and their possible values for RandomizedSearchCV for each model\n",
        "param_dist_rf = {\n",
        "    'n_estimators': [100, 300, 500],\n",
        "    'max_depth': [10, 20, 30, None],\n",
        "    'min_samples_split': [2, 5, 10],\n",
        "    'min_samples_leaf': [1, 2, 4],\n",
        "}"
      ],
      "metadata": {
        "id": "RhfrAPGePDcp"
      },
      "execution_count": null,
      "outputs": []
    },
    {
      "cell_type": "code",
      "source": [
        "param_dist_svm = {\n",
        "    'C': [0.1, 1, 10],\n",
        "    'gamma': [0.001, 0.01, 0.1, 'scale', 'auto'],\n",
        "    'kernel': ['linear', 'rbf'],\n",
        "}\n"
      ],
      "metadata": {
        "id": "lKFe-aM2PDfM"
      },
      "execution_count": null,
      "outputs": []
    },
    {
      "cell_type": "code",
      "source": [
        "param_dist_gb = {\n",
        "    'n_estimators': [100, 300, 500],\n",
        "    'learning_rate': [0.01, 0.1, 0.2],\n",
        "    'max_depth': [3, 4, 5, 6],\n",
        "    'subsample': [0.8, 0.9, 1.0],\n",
        "}"
      ],
      "metadata": {
        "id": "C_i1rfIiPDhQ"
      },
      "execution_count": null,
      "outputs": []
    },
    {
      "cell_type": "code",
      "source": [
        "# Create RandomizedSearchCV for each model\n",
        "rf_random_search = RandomizedSearchCV(RandomForestRegressor(), param_distributions=param_dist_rf, n_iter=10, cv=5, n_jobs=-1, random_state=42)\n",
        "svm_random_search = RandomizedSearchCV(SVR(), param_distributions=param_dist_svm, n_iter=10, cv=5, n_jobs=-1, random_state=42)\n",
        "gb_random_search = RandomizedSearchCV(GradientBoostingRegressor(), param_distributions=param_dist_gb, n_iter=10, cv=5, n_jobs=-1, random_state=42)\n"
      ],
      "metadata": {
        "id": "efpjBI9XPePG"
      },
      "execution_count": null,
      "outputs": []
    },
    {
      "cell_type": "code",
      "source": [
        "# Fit the models to the data and find the best hyperparameters\n",
        "rf_random_search.fit(X_train, y_train)\n",
        "svm_random_search.fit(X_train, y_train)\n",
        "gb_random_search.fit(X_train, y_train)"
      ],
      "metadata": {
        "id": "Q98NTqivPeSh"
      },
      "execution_count": null,
      "outputs": []
    },
    {
      "cell_type": "code",
      "source": [
        "# Get the best models with the optimized hyperparameters\n",
        "best_rf_model = rf_random_search.best_estimator_\n",
        "best_svm_model = svm_random_search.best_estimator_\n",
        "best_gb_model = gb_random_search.best_estimator_"
      ],
      "metadata": {
        "id": "-qcwdFhPPeYh"
      },
      "execution_count": null,
      "outputs": []
    },
    {
      "cell_type": "code",
      "source": [
        "# Make predictions on the test set\n",
        "y_pred_rf = best_rf_model.predict(X_test)\n",
        "y_pred_svm = best_svm_model.predict(X_test)\n",
        "y_pred_gb = best_gb_model.predict(X_test)"
      ],
      "metadata": {
        "id": "C8rFItM9Peif"
      },
      "execution_count": null,
      "outputs": []
    },
    {
      "cell_type": "code",
      "source": [
        "# Evaluate the models\n",
        "mse_rf = mean_squared_error(y_test, y_pred_rf)\n",
        "mse_svm = mean_squared_error(y_test, y_pred_svm)\n",
        "mse_gb = mean_squared_error(y_test, y_pred_gb)\n",
        "\n",
        "print(\"Random Forest Mean Squared Error:\", mse_rf)\n",
        "print(\"SVM Mean Squared Error:\", mse_svm)\n",
        "print(\"Gradient Boosting Mean Squared Error:\", mse_gb)"
      ],
      "metadata": {
        "id": "VlkFyoVMWPfl"
      },
      "execution_count": null,
      "outputs": []
    },
    {
      "cell_type": "code",
      "source": [
        "# Calculate the Mean Squared Errors\n",
        "mse_rf = mean_squared_error(y_test, y_pred_rf)\n",
        "mse_svm = mean_squared_error(y_test, y_pred_svm)\n",
        "mse_gb = mean_squared_error(y_test, y_pred_gb)"
      ],
      "metadata": {
        "id": "DZA0zIhSWmdv"
      },
      "execution_count": null,
      "outputs": []
    },
    {
      "cell_type": "code",
      "source": [
        "# Model names and corresponding MSE values\n",
        "models = ['Random Forest', 'SVM', 'Gradient Boosting']\n",
        "mse_values = [mse_rf, mse_svm, mse_gb]"
      ],
      "metadata": {
        "id": "lj4_SFX3Wmfx"
      },
      "execution_count": null,
      "outputs": []
    },
    {
      "cell_type": "code",
      "source": [
        "# Create a bar chart to visualize the MSE\n",
        "plt.figure(figsize=(10, 6))\n",
        "plt.bar(models, mse_values, color='skyblue')\n",
        "plt.xlabel('Models')\n",
        "plt.ylabel('Mean Squared Error (MSE)')\n",
        "plt.title('Model Comparison - Mean Squared Error')\n",
        "plt.ylim(0, max(mse_values) + 5)  # Adjust the y-axis limit if needed\n",
        "plt.show()"
      ],
      "metadata": {
        "id": "1L9oCthBWmik"
      },
      "execution_count": null,
      "outputs": []
    },
    {
      "cell_type": "code",
      "source": [
        "# Assuming you have the actual and predicted values for Random Forest\n",
        "actual_values = y_test  # Replace with your actual values\n",
        "predicted_values = y_pred_rf  # Replace with your predicted values from Random Forest"
      ],
      "metadata": {
        "id": "-Kabsb0bX3HR"
      },
      "execution_count": null,
      "outputs": []
    },
    {
      "cell_type": "code",
      "source": [
        "# Create a scatter plot\n",
        "plt.figure(figsize=(10, 6))\n",
        "plt.scatter(actual_values, predicted_values, color='blue', alpha=0.5)\n",
        "plt.xlabel('Actual Values')\n",
        "plt.ylabel('Predicted Values')\n",
        "plt.title('Random Forest: Actual vs. Predicted Values')\n",
        "plt.grid(True)\n",
        "plt.show()"
      ],
      "metadata": {
        "id": "ab5ZBPEwYFcl"
      },
      "execution_count": null,
      "outputs": []
    },
    {
      "cell_type": "code",
      "source": [
        "# 1. Import necessary libraries\n",
        "import pandas as pd\n",
        "from sklearn.ensemble import RandomForestClassifier\n",
        "from sklearn.model_selection import train_test_split\n",
        "from sklearn.metrics import classification_report, confusion_matrix, roc_curve, roc_auc_score\n",
        "import matplotlib.pyplot as plt\n",
        "import seaborn as sns\n",
        "from sklearn.ensemble import RandomForestRegressor\n",
        "from sklearn.metrics import mean_squared_error, r2_score"
      ],
      "metadata": {
        "id": "9uqOqHqGYFiD"
      },
      "execution_count": null,
      "outputs": []
    },
    {
      "cell_type": "code",
      "source": [
        "rf_model = RandomForestRegressor(n_estimators=100, random_state=42)\n",
        "rf_model.fit(X_train, y_train)"
      ],
      "metadata": {
        "id": "7v2S9W7HYFpw"
      },
      "execution_count": null,
      "outputs": []
    },
    {
      "cell_type": "code",
      "source": [
        "y_pred = rf_model.predict(X_test)\n"
      ],
      "metadata": {
        "id": "N_vJSPYpZr3w"
      },
      "execution_count": null,
      "outputs": []
    },
    {
      "cell_type": "code",
      "source": [
        "# Scatter plot of actual vs. predicted values\n",
        "plt.scatter(y_test, y_pred)\n",
        "plt.xlabel(\"Actual Values\")\n",
        "plt.ylabel(\"Predicted Values\")\n",
        "plt.title(\"Actual vs. Predicted Values\")\n",
        "plt.show()"
      ],
      "metadata": {
        "id": "toWGKMusaoDK"
      },
      "execution_count": null,
      "outputs": []
    },
    {
      "cell_type": "code",
      "source": [
        "# Calculate and print regression metrics\n",
        "mse = mean_squared_error(y_test, y_pred)\n",
        "r2 = r2_score(y_test, y_pred)\n",
        "print(f\"Mean Squared Error: {mse:.2f}\")\n",
        "print(f\"R-squared (R2): {r2:.2f}\")"
      ],
      "metadata": {
        "id": "40HKuqBLaoI3"
      },
      "execution_count": null,
      "outputs": []
    },
    {
      "cell_type": "code",
      "source": [
        "from sklearn.svm import SVC\n",
        "from sklearn.metrics import accuracy_score, classification_report, confusion_matrix"
      ],
      "metadata": {
        "id": "kMTpqfCraoOA"
      },
      "execution_count": null,
      "outputs": []
    },
    {
      "cell_type": "code",
      "source": [
        "# Split the data into training and testing sets\n",
        "X_train, X_test, y_train, y_test = train_test_split(X, y, test_size=0.2, random_state=42)"
      ],
      "metadata": {
        "id": "dt0YvFY9a9eB"
      },
      "execution_count": null,
      "outputs": []
    },
    {
      "cell_type": "code",
      "source": [
        "# Create an SVR (Support Vector Regression) model\n",
        "svr = SVR(kernel='linear')  # You can choose different kernels like 'linear', 'rbf', etc."
      ],
      "metadata": {
        "id": "s-AKmC9kbs7l"
      },
      "execution_count": null,
      "outputs": []
    },
    {
      "cell_type": "code",
      "source": [
        "# Fit the SVR model to the training data\n",
        "svr.fit(X_train, y_train)"
      ],
      "metadata": {
        "id": "e-7LnKEibs_L"
      },
      "execution_count": null,
      "outputs": []
    },
    {
      "cell_type": "code",
      "source": [
        "# Make predictions on the test set\n",
        "y_pred = svr.predict(X_test)\n"
      ],
      "metadata": {
        "id": "gLKpb4GmbtJL"
      },
      "execution_count": null,
      "outputs": []
    },
    {
      "cell_type": "code",
      "source": [
        "# Evaluate the model\n",
        "mse = mean_squared_error(y_test, y_pred)\n",
        "r2 = r2_score(y_test, y_pred)"
      ],
      "metadata": {
        "id": "9G5iGGNyb5Jz"
      },
      "execution_count": null,
      "outputs": []
    },
    {
      "cell_type": "code",
      "source": [
        "print(\"Mean Squared Error:\", mse)\n",
        "print(\"R-squared:\", r2)"
      ],
      "metadata": {
        "id": "W9kYCIhmb5Nf"
      },
      "execution_count": null,
      "outputs": []
    },
    {
      "cell_type": "code",
      "source": [
        "# Plot the actual vs. predicted values\n",
        "plt.scatter(y_test, y_pred)\n",
        "plt.xlabel(\"Actual Values\")\n",
        "plt.ylabel(\"Predicted Values\")\n",
        "plt.title(\"Actual vs. Predicted Values\")\n",
        "plt.show()"
      ],
      "metadata": {
        "id": "ANb3A9axb_Kt"
      },
      "execution_count": null,
      "outputs": []
    },
    {
      "cell_type": "code",
      "source": [],
      "metadata": {
        "id": "Mkm4Yf8Cb_Ol"
      },
      "execution_count": null,
      "outputs": []
    },
    {
      "cell_type": "code",
      "source": [],
      "metadata": {
        "id": "uTSpyGlrb_V3"
      },
      "execution_count": null,
      "outputs": []
    },
    {
      "cell_type": "markdown",
      "source": [
        " target variable provided is continuous (regression target NOT classification),"
      ],
      "metadata": {
        "id": "6cUM256ebY5l"
      }
    }
  ]
}