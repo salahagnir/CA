{
  "nbformat": 4,
  "nbformat_minor": 0,
  "metadata": {
    "colab": {
      "provenance": [],
      "mount_file_id": "1qzD-Xw1SS11P5ROfqXIE2j3qWgG8PJbd",
      "authorship_tag": "ABX9TyNgvaO3/ilFa7A2JwjZCRAW",
      "include_colab_link": true
    },
    "kernelspec": {
      "name": "python3",
      "display_name": "Python 3"
    },
    "language_info": {
      "name": "python"
    }
  },
  "cells": [
    {
      "cell_type": "markdown",
      "metadata": {
        "id": "view-in-github",
        "colab_type": "text"
      },
      "source": [
        "<a href=\"https://colab.research.google.com/github/salahagnir/CA/blob/main/ML_CA2.ipynb\" target=\"_parent\"><img src=\"https://colab.research.google.com/assets/colab-badge.svg\" alt=\"Open In Colab\"/></a>"
      ]
    },
    {
      "cell_type": "code",
      "execution_count": 505,
      "metadata": {
        "id": "bYbex-L6Finv"
      },
      "outputs": [],
      "source": [
        "import pandas as pd\n",
        "import numpy as np\n",
        "from statsmodels.tsa.statespace.sarimax import SARIMAX\n",
        "from sklearn.ensemble import GradientBoostingRegressor\n",
        "from sklearn.model_selection import TimeSeriesSplit\n",
        "from sklearn.metrics import mean_squared_error\n",
        "from sklearn.model_selection import train_test_split\n",
        "from sklearn.model_selection import GridSearchCV"
      ]
    },
    {
      "cell_type": "code",
      "source": [
        "df = pd.read_csv('/content/drive/MyDrive/CA2/TII01.20231126154500.csv')\n",
        "df2 = pd.read_csv('/content/drive/MyDrive/CA2/TOA11.20231218135730.csv')"
      ],
      "metadata": {
        "id": "f7DSOsBkF1PH"
      },
      "execution_count": 506,
      "outputs": []
    },
    {
      "cell_type": "code",
      "source": [
        "df"
      ],
      "metadata": {
        "colab": {
          "base_uri": "https://localhost:8080/",
          "height": 423
        },
        "id": "K49RssSGF1SQ",
        "outputId": "e29a2d05-09cb-4063-e692-4b19e2ae9319"
      },
      "execution_count": 507,
      "outputs": [
        {
          "output_type": "execute_result",
          "data": {
            "text/plain": [
              "    STATISTIC     Statistic Label  TLIST(W1)  Year C03132V03784  \\\n",
              "0    TII01C01  Passenger Journeys       2019  2019            -   \n",
              "1    TII01C01  Passenger Journeys       2019  2019            -   \n",
              "2    TII01C01  Passenger Journeys       2019  2019            -   \n",
              "3    TII01C01  Passenger Journeys       2019  2019            -   \n",
              "4    TII01C01  Passenger Journeys       2019  2019            -   \n",
              "..        ...                 ...        ...   ...          ...   \n",
              "790  TII01C01  Passenger Journeys       2023  2023            2   \n",
              "791  TII01C01  Passenger Journeys       2023  2023            2   \n",
              "792  TII01C01  Passenger Journeys       2023  2023            2   \n",
              "793  TII01C01  Passenger Journeys       2023  2023            2   \n",
              "794  TII01C01  Passenger Journeys       2023  2023            2   \n",
              "\n",
              "          Luas Line  C01198V01436 Weeks of the year    UNIT     VALUE  \n",
              "0    All Luas lines             1           Week 01  Number  549533.0  \n",
              "1    All Luas lines             2           Week 02  Number  839022.0  \n",
              "2    All Luas lines             3           Week 03  Number  819359.0  \n",
              "3    All Luas lines             4           Week 04  Number  860745.0  \n",
              "4    All Luas lines             5           Week 05  Number  912795.0  \n",
              "..              ...           ...               ...     ...       ...  \n",
              "790      Green line            49           Week 49  Number       NaN  \n",
              "791      Green line            50           Week 50  Number       NaN  \n",
              "792      Green line            51           Week 51  Number       NaN  \n",
              "793      Green line            52           Week 52  Number       NaN  \n",
              "794      Green line            53           Week 53  Number       NaN  \n",
              "\n",
              "[795 rows x 10 columns]"
            ],
            "text/html": [
              "\n",
              "  <div id=\"df-db5b4c2d-1d24-4b78-a2d5-8bbcdd3fa026\" class=\"colab-df-container\">\n",
              "    <div>\n",
              "<style scoped>\n",
              "    .dataframe tbody tr th:only-of-type {\n",
              "        vertical-align: middle;\n",
              "    }\n",
              "\n",
              "    .dataframe tbody tr th {\n",
              "        vertical-align: top;\n",
              "    }\n",
              "\n",
              "    .dataframe thead th {\n",
              "        text-align: right;\n",
              "    }\n",
              "</style>\n",
              "<table border=\"1\" class=\"dataframe\">\n",
              "  <thead>\n",
              "    <tr style=\"text-align: right;\">\n",
              "      <th></th>\n",
              "      <th>STATISTIC</th>\n",
              "      <th>Statistic Label</th>\n",
              "      <th>TLIST(W1)</th>\n",
              "      <th>Year</th>\n",
              "      <th>C03132V03784</th>\n",
              "      <th>Luas Line</th>\n",
              "      <th>C01198V01436</th>\n",
              "      <th>Weeks of the year</th>\n",
              "      <th>UNIT</th>\n",
              "      <th>VALUE</th>\n",
              "    </tr>\n",
              "  </thead>\n",
              "  <tbody>\n",
              "    <tr>\n",
              "      <th>0</th>\n",
              "      <td>TII01C01</td>\n",
              "      <td>Passenger Journeys</td>\n",
              "      <td>2019</td>\n",
              "      <td>2019</td>\n",
              "      <td>-</td>\n",
              "      <td>All Luas lines</td>\n",
              "      <td>1</td>\n",
              "      <td>Week 01</td>\n",
              "      <td>Number</td>\n",
              "      <td>549533.0</td>\n",
              "    </tr>\n",
              "    <tr>\n",
              "      <th>1</th>\n",
              "      <td>TII01C01</td>\n",
              "      <td>Passenger Journeys</td>\n",
              "      <td>2019</td>\n",
              "      <td>2019</td>\n",
              "      <td>-</td>\n",
              "      <td>All Luas lines</td>\n",
              "      <td>2</td>\n",
              "      <td>Week 02</td>\n",
              "      <td>Number</td>\n",
              "      <td>839022.0</td>\n",
              "    </tr>\n",
              "    <tr>\n",
              "      <th>2</th>\n",
              "      <td>TII01C01</td>\n",
              "      <td>Passenger Journeys</td>\n",
              "      <td>2019</td>\n",
              "      <td>2019</td>\n",
              "      <td>-</td>\n",
              "      <td>All Luas lines</td>\n",
              "      <td>3</td>\n",
              "      <td>Week 03</td>\n",
              "      <td>Number</td>\n",
              "      <td>819359.0</td>\n",
              "    </tr>\n",
              "    <tr>\n",
              "      <th>3</th>\n",
              "      <td>TII01C01</td>\n",
              "      <td>Passenger Journeys</td>\n",
              "      <td>2019</td>\n",
              "      <td>2019</td>\n",
              "      <td>-</td>\n",
              "      <td>All Luas lines</td>\n",
              "      <td>4</td>\n",
              "      <td>Week 04</td>\n",
              "      <td>Number</td>\n",
              "      <td>860745.0</td>\n",
              "    </tr>\n",
              "    <tr>\n",
              "      <th>4</th>\n",
              "      <td>TII01C01</td>\n",
              "      <td>Passenger Journeys</td>\n",
              "      <td>2019</td>\n",
              "      <td>2019</td>\n",
              "      <td>-</td>\n",
              "      <td>All Luas lines</td>\n",
              "      <td>5</td>\n",
              "      <td>Week 05</td>\n",
              "      <td>Number</td>\n",
              "      <td>912795.0</td>\n",
              "    </tr>\n",
              "    <tr>\n",
              "      <th>...</th>\n",
              "      <td>...</td>\n",
              "      <td>...</td>\n",
              "      <td>...</td>\n",
              "      <td>...</td>\n",
              "      <td>...</td>\n",
              "      <td>...</td>\n",
              "      <td>...</td>\n",
              "      <td>...</td>\n",
              "      <td>...</td>\n",
              "      <td>...</td>\n",
              "    </tr>\n",
              "    <tr>\n",
              "      <th>790</th>\n",
              "      <td>TII01C01</td>\n",
              "      <td>Passenger Journeys</td>\n",
              "      <td>2023</td>\n",
              "      <td>2023</td>\n",
              "      <td>2</td>\n",
              "      <td>Green line</td>\n",
              "      <td>49</td>\n",
              "      <td>Week 49</td>\n",
              "      <td>Number</td>\n",
              "      <td>NaN</td>\n",
              "    </tr>\n",
              "    <tr>\n",
              "      <th>791</th>\n",
              "      <td>TII01C01</td>\n",
              "      <td>Passenger Journeys</td>\n",
              "      <td>2023</td>\n",
              "      <td>2023</td>\n",
              "      <td>2</td>\n",
              "      <td>Green line</td>\n",
              "      <td>50</td>\n",
              "      <td>Week 50</td>\n",
              "      <td>Number</td>\n",
              "      <td>NaN</td>\n",
              "    </tr>\n",
              "    <tr>\n",
              "      <th>792</th>\n",
              "      <td>TII01C01</td>\n",
              "      <td>Passenger Journeys</td>\n",
              "      <td>2023</td>\n",
              "      <td>2023</td>\n",
              "      <td>2</td>\n",
              "      <td>Green line</td>\n",
              "      <td>51</td>\n",
              "      <td>Week 51</td>\n",
              "      <td>Number</td>\n",
              "      <td>NaN</td>\n",
              "    </tr>\n",
              "    <tr>\n",
              "      <th>793</th>\n",
              "      <td>TII01C01</td>\n",
              "      <td>Passenger Journeys</td>\n",
              "      <td>2023</td>\n",
              "      <td>2023</td>\n",
              "      <td>2</td>\n",
              "      <td>Green line</td>\n",
              "      <td>52</td>\n",
              "      <td>Week 52</td>\n",
              "      <td>Number</td>\n",
              "      <td>NaN</td>\n",
              "    </tr>\n",
              "    <tr>\n",
              "      <th>794</th>\n",
              "      <td>TII01C01</td>\n",
              "      <td>Passenger Journeys</td>\n",
              "      <td>2023</td>\n",
              "      <td>2023</td>\n",
              "      <td>2</td>\n",
              "      <td>Green line</td>\n",
              "      <td>53</td>\n",
              "      <td>Week 53</td>\n",
              "      <td>Number</td>\n",
              "      <td>NaN</td>\n",
              "    </tr>\n",
              "  </tbody>\n",
              "</table>\n",
              "<p>795 rows × 10 columns</p>\n",
              "</div>\n",
              "    <div class=\"colab-df-buttons\">\n",
              "\n",
              "  <div class=\"colab-df-container\">\n",
              "    <button class=\"colab-df-convert\" onclick=\"convertToInteractive('df-db5b4c2d-1d24-4b78-a2d5-8bbcdd3fa026')\"\n",
              "            title=\"Convert this dataframe to an interactive table.\"\n",
              "            style=\"display:none;\">\n",
              "\n",
              "  <svg xmlns=\"http://www.w3.org/2000/svg\" height=\"24px\" viewBox=\"0 -960 960 960\">\n",
              "    <path d=\"M120-120v-720h720v720H120Zm60-500h600v-160H180v160Zm220 220h160v-160H400v160Zm0 220h160v-160H400v160ZM180-400h160v-160H180v160Zm440 0h160v-160H620v160ZM180-180h160v-160H180v160Zm440 0h160v-160H620v160Z\"/>\n",
              "  </svg>\n",
              "    </button>\n",
              "\n",
              "  <style>\n",
              "    .colab-df-container {\n",
              "      display:flex;\n",
              "      gap: 12px;\n",
              "    }\n",
              "\n",
              "    .colab-df-convert {\n",
              "      background-color: #E8F0FE;\n",
              "      border: none;\n",
              "      border-radius: 50%;\n",
              "      cursor: pointer;\n",
              "      display: none;\n",
              "      fill: #1967D2;\n",
              "      height: 32px;\n",
              "      padding: 0 0 0 0;\n",
              "      width: 32px;\n",
              "    }\n",
              "\n",
              "    .colab-df-convert:hover {\n",
              "      background-color: #E2EBFA;\n",
              "      box-shadow: 0px 1px 2px rgba(60, 64, 67, 0.3), 0px 1px 3px 1px rgba(60, 64, 67, 0.15);\n",
              "      fill: #174EA6;\n",
              "    }\n",
              "\n",
              "    .colab-df-buttons div {\n",
              "      margin-bottom: 4px;\n",
              "    }\n",
              "\n",
              "    [theme=dark] .colab-df-convert {\n",
              "      background-color: #3B4455;\n",
              "      fill: #D2E3FC;\n",
              "    }\n",
              "\n",
              "    [theme=dark] .colab-df-convert:hover {\n",
              "      background-color: #434B5C;\n",
              "      box-shadow: 0px 1px 3px 1px rgba(0, 0, 0, 0.15);\n",
              "      filter: drop-shadow(0px 1px 2px rgba(0, 0, 0, 0.3));\n",
              "      fill: #FFFFFF;\n",
              "    }\n",
              "  </style>\n",
              "\n",
              "    <script>\n",
              "      const buttonEl =\n",
              "        document.querySelector('#df-db5b4c2d-1d24-4b78-a2d5-8bbcdd3fa026 button.colab-df-convert');\n",
              "      buttonEl.style.display =\n",
              "        google.colab.kernel.accessAllowed ? 'block' : 'none';\n",
              "\n",
              "      async function convertToInteractive(key) {\n",
              "        const element = document.querySelector('#df-db5b4c2d-1d24-4b78-a2d5-8bbcdd3fa026');\n",
              "        const dataTable =\n",
              "          await google.colab.kernel.invokeFunction('convertToInteractive',\n",
              "                                                    [key], {});\n",
              "        if (!dataTable) return;\n",
              "\n",
              "        const docLinkHtml = 'Like what you see? Visit the ' +\n",
              "          '<a target=\"_blank\" href=https://colab.research.google.com/notebooks/data_table.ipynb>data table notebook</a>'\n",
              "          + ' to learn more about interactive tables.';\n",
              "        element.innerHTML = '';\n",
              "        dataTable['output_type'] = 'display_data';\n",
              "        await google.colab.output.renderOutput(dataTable, element);\n",
              "        const docLink = document.createElement('div');\n",
              "        docLink.innerHTML = docLinkHtml;\n",
              "        element.appendChild(docLink);\n",
              "      }\n",
              "    </script>\n",
              "  </div>\n",
              "\n",
              "\n",
              "<div id=\"df-16155173-7fc7-4be4-bbf5-874abea07eeb\">\n",
              "  <button class=\"colab-df-quickchart\" onclick=\"quickchart('df-16155173-7fc7-4be4-bbf5-874abea07eeb')\"\n",
              "            title=\"Suggest charts\"\n",
              "            style=\"display:none;\">\n",
              "\n",
              "<svg xmlns=\"http://www.w3.org/2000/svg\" height=\"24px\"viewBox=\"0 0 24 24\"\n",
              "     width=\"24px\">\n",
              "    <g>\n",
              "        <path d=\"M19 3H5c-1.1 0-2 .9-2 2v14c0 1.1.9 2 2 2h14c1.1 0 2-.9 2-2V5c0-1.1-.9-2-2-2zM9 17H7v-7h2v7zm4 0h-2V7h2v10zm4 0h-2v-4h2v4z\"/>\n",
              "    </g>\n",
              "</svg>\n",
              "  </button>\n",
              "\n",
              "<style>\n",
              "  .colab-df-quickchart {\n",
              "      --bg-color: #E8F0FE;\n",
              "      --fill-color: #1967D2;\n",
              "      --hover-bg-color: #E2EBFA;\n",
              "      --hover-fill-color: #174EA6;\n",
              "      --disabled-fill-color: #AAA;\n",
              "      --disabled-bg-color: #DDD;\n",
              "  }\n",
              "\n",
              "  [theme=dark] .colab-df-quickchart {\n",
              "      --bg-color: #3B4455;\n",
              "      --fill-color: #D2E3FC;\n",
              "      --hover-bg-color: #434B5C;\n",
              "      --hover-fill-color: #FFFFFF;\n",
              "      --disabled-bg-color: #3B4455;\n",
              "      --disabled-fill-color: #666;\n",
              "  }\n",
              "\n",
              "  .colab-df-quickchart {\n",
              "    background-color: var(--bg-color);\n",
              "    border: none;\n",
              "    border-radius: 50%;\n",
              "    cursor: pointer;\n",
              "    display: none;\n",
              "    fill: var(--fill-color);\n",
              "    height: 32px;\n",
              "    padding: 0;\n",
              "    width: 32px;\n",
              "  }\n",
              "\n",
              "  .colab-df-quickchart:hover {\n",
              "    background-color: var(--hover-bg-color);\n",
              "    box-shadow: 0 1px 2px rgba(60, 64, 67, 0.3), 0 1px 3px 1px rgba(60, 64, 67, 0.15);\n",
              "    fill: var(--button-hover-fill-color);\n",
              "  }\n",
              "\n",
              "  .colab-df-quickchart-complete:disabled,\n",
              "  .colab-df-quickchart-complete:disabled:hover {\n",
              "    background-color: var(--disabled-bg-color);\n",
              "    fill: var(--disabled-fill-color);\n",
              "    box-shadow: none;\n",
              "  }\n",
              "\n",
              "  .colab-df-spinner {\n",
              "    border: 2px solid var(--fill-color);\n",
              "    border-color: transparent;\n",
              "    border-bottom-color: var(--fill-color);\n",
              "    animation:\n",
              "      spin 1s steps(1) infinite;\n",
              "  }\n",
              "\n",
              "  @keyframes spin {\n",
              "    0% {\n",
              "      border-color: transparent;\n",
              "      border-bottom-color: var(--fill-color);\n",
              "      border-left-color: var(--fill-color);\n",
              "    }\n",
              "    20% {\n",
              "      border-color: transparent;\n",
              "      border-left-color: var(--fill-color);\n",
              "      border-top-color: var(--fill-color);\n",
              "    }\n",
              "    30% {\n",
              "      border-color: transparent;\n",
              "      border-left-color: var(--fill-color);\n",
              "      border-top-color: var(--fill-color);\n",
              "      border-right-color: var(--fill-color);\n",
              "    }\n",
              "    40% {\n",
              "      border-color: transparent;\n",
              "      border-right-color: var(--fill-color);\n",
              "      border-top-color: var(--fill-color);\n",
              "    }\n",
              "    60% {\n",
              "      border-color: transparent;\n",
              "      border-right-color: var(--fill-color);\n",
              "    }\n",
              "    80% {\n",
              "      border-color: transparent;\n",
              "      border-right-color: var(--fill-color);\n",
              "      border-bottom-color: var(--fill-color);\n",
              "    }\n",
              "    90% {\n",
              "      border-color: transparent;\n",
              "      border-bottom-color: var(--fill-color);\n",
              "    }\n",
              "  }\n",
              "</style>\n",
              "\n",
              "  <script>\n",
              "    async function quickchart(key) {\n",
              "      const quickchartButtonEl =\n",
              "        document.querySelector('#' + key + ' button');\n",
              "      quickchartButtonEl.disabled = true;  // To prevent multiple clicks.\n",
              "      quickchartButtonEl.classList.add('colab-df-spinner');\n",
              "      try {\n",
              "        const charts = await google.colab.kernel.invokeFunction(\n",
              "            'suggestCharts', [key], {});\n",
              "      } catch (error) {\n",
              "        console.error('Error during call to suggestCharts:', error);\n",
              "      }\n",
              "      quickchartButtonEl.classList.remove('colab-df-spinner');\n",
              "      quickchartButtonEl.classList.add('colab-df-quickchart-complete');\n",
              "    }\n",
              "    (() => {\n",
              "      let quickchartButtonEl =\n",
              "        document.querySelector('#df-16155173-7fc7-4be4-bbf5-874abea07eeb button');\n",
              "      quickchartButtonEl.style.display =\n",
              "        google.colab.kernel.accessAllowed ? 'block' : 'none';\n",
              "    })();\n",
              "  </script>\n",
              "</div>\n",
              "    </div>\n",
              "  </div>\n"
            ]
          },
          "metadata": {},
          "execution_count": 507
        }
      ]
    },
    {
      "cell_type": "code",
      "source": [
        "df2"
      ],
      "metadata": {
        "colab": {
          "base_uri": "https://localhost:8080/",
          "height": 423
        },
        "id": "KBP_ammCQRgs",
        "outputId": "f7db134d-94c5-47f5-cf21-8af88e4073a0"
      },
      "execution_count": 508,
      "outputs": [
        {
          "output_type": "execute_result",
          "data": {
            "text/plain": [
              "    STATISTIC Statistic Label  TLIST(A1)  Year C01885V02316       Month  \\\n",
              "0    TOA11C01        Red line       2018  2018           01     January   \n",
              "1    TOA11C01        Red line       2018  2018           02    February   \n",
              "2    TOA11C01        Red line       2018  2018           03       March   \n",
              "3    TOA11C01        Red line       2018  2018           04       April   \n",
              "4    TOA11C01        Red line       2018  2018           05         May   \n",
              "..        ...             ...        ...   ...          ...         ...   \n",
              "190  TOA11C03  All Luas lines       2022  2022           09   September   \n",
              "191  TOA11C03  All Luas lines       2022  2022           10     October   \n",
              "192  TOA11C03  All Luas lines       2022  2022           11    November   \n",
              "193  TOA11C03  All Luas lines       2022  2022           12    December   \n",
              "194  TOA11C03  All Luas lines       2022  2022            -  All months   \n",
              "\n",
              "       UNIT     VALUE  \n",
              "0    Number   1664495  \n",
              "1    Number   1657562  \n",
              "2    Number   1661098  \n",
              "3    Number   1794424  \n",
              "4    Number   1934553  \n",
              "..      ...       ...  \n",
              "190  Number   3811093  \n",
              "191  Number   4219124  \n",
              "192  Number   4375705  \n",
              "193  Number   4030698  \n",
              "194  Number  38667875  \n",
              "\n",
              "[195 rows x 8 columns]"
            ],
            "text/html": [
              "\n",
              "  <div id=\"df-d310a043-9331-44fd-a822-775cfc403b51\" class=\"colab-df-container\">\n",
              "    <div>\n",
              "<style scoped>\n",
              "    .dataframe tbody tr th:only-of-type {\n",
              "        vertical-align: middle;\n",
              "    }\n",
              "\n",
              "    .dataframe tbody tr th {\n",
              "        vertical-align: top;\n",
              "    }\n",
              "\n",
              "    .dataframe thead th {\n",
              "        text-align: right;\n",
              "    }\n",
              "</style>\n",
              "<table border=\"1\" class=\"dataframe\">\n",
              "  <thead>\n",
              "    <tr style=\"text-align: right;\">\n",
              "      <th></th>\n",
              "      <th>STATISTIC</th>\n",
              "      <th>Statistic Label</th>\n",
              "      <th>TLIST(A1)</th>\n",
              "      <th>Year</th>\n",
              "      <th>C01885V02316</th>\n",
              "      <th>Month</th>\n",
              "      <th>UNIT</th>\n",
              "      <th>VALUE</th>\n",
              "    </tr>\n",
              "  </thead>\n",
              "  <tbody>\n",
              "    <tr>\n",
              "      <th>0</th>\n",
              "      <td>TOA11C01</td>\n",
              "      <td>Red line</td>\n",
              "      <td>2018</td>\n",
              "      <td>2018</td>\n",
              "      <td>01</td>\n",
              "      <td>January</td>\n",
              "      <td>Number</td>\n",
              "      <td>1664495</td>\n",
              "    </tr>\n",
              "    <tr>\n",
              "      <th>1</th>\n",
              "      <td>TOA11C01</td>\n",
              "      <td>Red line</td>\n",
              "      <td>2018</td>\n",
              "      <td>2018</td>\n",
              "      <td>02</td>\n",
              "      <td>February</td>\n",
              "      <td>Number</td>\n",
              "      <td>1657562</td>\n",
              "    </tr>\n",
              "    <tr>\n",
              "      <th>2</th>\n",
              "      <td>TOA11C01</td>\n",
              "      <td>Red line</td>\n",
              "      <td>2018</td>\n",
              "      <td>2018</td>\n",
              "      <td>03</td>\n",
              "      <td>March</td>\n",
              "      <td>Number</td>\n",
              "      <td>1661098</td>\n",
              "    </tr>\n",
              "    <tr>\n",
              "      <th>3</th>\n",
              "      <td>TOA11C01</td>\n",
              "      <td>Red line</td>\n",
              "      <td>2018</td>\n",
              "      <td>2018</td>\n",
              "      <td>04</td>\n",
              "      <td>April</td>\n",
              "      <td>Number</td>\n",
              "      <td>1794424</td>\n",
              "    </tr>\n",
              "    <tr>\n",
              "      <th>4</th>\n",
              "      <td>TOA11C01</td>\n",
              "      <td>Red line</td>\n",
              "      <td>2018</td>\n",
              "      <td>2018</td>\n",
              "      <td>05</td>\n",
              "      <td>May</td>\n",
              "      <td>Number</td>\n",
              "      <td>1934553</td>\n",
              "    </tr>\n",
              "    <tr>\n",
              "      <th>...</th>\n",
              "      <td>...</td>\n",
              "      <td>...</td>\n",
              "      <td>...</td>\n",
              "      <td>...</td>\n",
              "      <td>...</td>\n",
              "      <td>...</td>\n",
              "      <td>...</td>\n",
              "      <td>...</td>\n",
              "    </tr>\n",
              "    <tr>\n",
              "      <th>190</th>\n",
              "      <td>TOA11C03</td>\n",
              "      <td>All Luas lines</td>\n",
              "      <td>2022</td>\n",
              "      <td>2022</td>\n",
              "      <td>09</td>\n",
              "      <td>September</td>\n",
              "      <td>Number</td>\n",
              "      <td>3811093</td>\n",
              "    </tr>\n",
              "    <tr>\n",
              "      <th>191</th>\n",
              "      <td>TOA11C03</td>\n",
              "      <td>All Luas lines</td>\n",
              "      <td>2022</td>\n",
              "      <td>2022</td>\n",
              "      <td>10</td>\n",
              "      <td>October</td>\n",
              "      <td>Number</td>\n",
              "      <td>4219124</td>\n",
              "    </tr>\n",
              "    <tr>\n",
              "      <th>192</th>\n",
              "      <td>TOA11C03</td>\n",
              "      <td>All Luas lines</td>\n",
              "      <td>2022</td>\n",
              "      <td>2022</td>\n",
              "      <td>11</td>\n",
              "      <td>November</td>\n",
              "      <td>Number</td>\n",
              "      <td>4375705</td>\n",
              "    </tr>\n",
              "    <tr>\n",
              "      <th>193</th>\n",
              "      <td>TOA11C03</td>\n",
              "      <td>All Luas lines</td>\n",
              "      <td>2022</td>\n",
              "      <td>2022</td>\n",
              "      <td>12</td>\n",
              "      <td>December</td>\n",
              "      <td>Number</td>\n",
              "      <td>4030698</td>\n",
              "    </tr>\n",
              "    <tr>\n",
              "      <th>194</th>\n",
              "      <td>TOA11C03</td>\n",
              "      <td>All Luas lines</td>\n",
              "      <td>2022</td>\n",
              "      <td>2022</td>\n",
              "      <td>-</td>\n",
              "      <td>All months</td>\n",
              "      <td>Number</td>\n",
              "      <td>38667875</td>\n",
              "    </tr>\n",
              "  </tbody>\n",
              "</table>\n",
              "<p>195 rows × 8 columns</p>\n",
              "</div>\n",
              "    <div class=\"colab-df-buttons\">\n",
              "\n",
              "  <div class=\"colab-df-container\">\n",
              "    <button class=\"colab-df-convert\" onclick=\"convertToInteractive('df-d310a043-9331-44fd-a822-775cfc403b51')\"\n",
              "            title=\"Convert this dataframe to an interactive table.\"\n",
              "            style=\"display:none;\">\n",
              "\n",
              "  <svg xmlns=\"http://www.w3.org/2000/svg\" height=\"24px\" viewBox=\"0 -960 960 960\">\n",
              "    <path d=\"M120-120v-720h720v720H120Zm60-500h600v-160H180v160Zm220 220h160v-160H400v160Zm0 220h160v-160H400v160ZM180-400h160v-160H180v160Zm440 0h160v-160H620v160ZM180-180h160v-160H180v160Zm440 0h160v-160H620v160Z\"/>\n",
              "  </svg>\n",
              "    </button>\n",
              "\n",
              "  <style>\n",
              "    .colab-df-container {\n",
              "      display:flex;\n",
              "      gap: 12px;\n",
              "    }\n",
              "\n",
              "    .colab-df-convert {\n",
              "      background-color: #E8F0FE;\n",
              "      border: none;\n",
              "      border-radius: 50%;\n",
              "      cursor: pointer;\n",
              "      display: none;\n",
              "      fill: #1967D2;\n",
              "      height: 32px;\n",
              "      padding: 0 0 0 0;\n",
              "      width: 32px;\n",
              "    }\n",
              "\n",
              "    .colab-df-convert:hover {\n",
              "      background-color: #E2EBFA;\n",
              "      box-shadow: 0px 1px 2px rgba(60, 64, 67, 0.3), 0px 1px 3px 1px rgba(60, 64, 67, 0.15);\n",
              "      fill: #174EA6;\n",
              "    }\n",
              "\n",
              "    .colab-df-buttons div {\n",
              "      margin-bottom: 4px;\n",
              "    }\n",
              "\n",
              "    [theme=dark] .colab-df-convert {\n",
              "      background-color: #3B4455;\n",
              "      fill: #D2E3FC;\n",
              "    }\n",
              "\n",
              "    [theme=dark] .colab-df-convert:hover {\n",
              "      background-color: #434B5C;\n",
              "      box-shadow: 0px 1px 3px 1px rgba(0, 0, 0, 0.15);\n",
              "      filter: drop-shadow(0px 1px 2px rgba(0, 0, 0, 0.3));\n",
              "      fill: #FFFFFF;\n",
              "    }\n",
              "  </style>\n",
              "\n",
              "    <script>\n",
              "      const buttonEl =\n",
              "        document.querySelector('#df-d310a043-9331-44fd-a822-775cfc403b51 button.colab-df-convert');\n",
              "      buttonEl.style.display =\n",
              "        google.colab.kernel.accessAllowed ? 'block' : 'none';\n",
              "\n",
              "      async function convertToInteractive(key) {\n",
              "        const element = document.querySelector('#df-d310a043-9331-44fd-a822-775cfc403b51');\n",
              "        const dataTable =\n",
              "          await google.colab.kernel.invokeFunction('convertToInteractive',\n",
              "                                                    [key], {});\n",
              "        if (!dataTable) return;\n",
              "\n",
              "        const docLinkHtml = 'Like what you see? Visit the ' +\n",
              "          '<a target=\"_blank\" href=https://colab.research.google.com/notebooks/data_table.ipynb>data table notebook</a>'\n",
              "          + ' to learn more about interactive tables.';\n",
              "        element.innerHTML = '';\n",
              "        dataTable['output_type'] = 'display_data';\n",
              "        await google.colab.output.renderOutput(dataTable, element);\n",
              "        const docLink = document.createElement('div');\n",
              "        docLink.innerHTML = docLinkHtml;\n",
              "        element.appendChild(docLink);\n",
              "      }\n",
              "    </script>\n",
              "  </div>\n",
              "\n",
              "\n",
              "<div id=\"df-664d478a-0e94-4602-9910-fad9c90e32bf\">\n",
              "  <button class=\"colab-df-quickchart\" onclick=\"quickchart('df-664d478a-0e94-4602-9910-fad9c90e32bf')\"\n",
              "            title=\"Suggest charts\"\n",
              "            style=\"display:none;\">\n",
              "\n",
              "<svg xmlns=\"http://www.w3.org/2000/svg\" height=\"24px\"viewBox=\"0 0 24 24\"\n",
              "     width=\"24px\">\n",
              "    <g>\n",
              "        <path d=\"M19 3H5c-1.1 0-2 .9-2 2v14c0 1.1.9 2 2 2h14c1.1 0 2-.9 2-2V5c0-1.1-.9-2-2-2zM9 17H7v-7h2v7zm4 0h-2V7h2v10zm4 0h-2v-4h2v4z\"/>\n",
              "    </g>\n",
              "</svg>\n",
              "  </button>\n",
              "\n",
              "<style>\n",
              "  .colab-df-quickchart {\n",
              "      --bg-color: #E8F0FE;\n",
              "      --fill-color: #1967D2;\n",
              "      --hover-bg-color: #E2EBFA;\n",
              "      --hover-fill-color: #174EA6;\n",
              "      --disabled-fill-color: #AAA;\n",
              "      --disabled-bg-color: #DDD;\n",
              "  }\n",
              "\n",
              "  [theme=dark] .colab-df-quickchart {\n",
              "      --bg-color: #3B4455;\n",
              "      --fill-color: #D2E3FC;\n",
              "      --hover-bg-color: #434B5C;\n",
              "      --hover-fill-color: #FFFFFF;\n",
              "      --disabled-bg-color: #3B4455;\n",
              "      --disabled-fill-color: #666;\n",
              "  }\n",
              "\n",
              "  .colab-df-quickchart {\n",
              "    background-color: var(--bg-color);\n",
              "    border: none;\n",
              "    border-radius: 50%;\n",
              "    cursor: pointer;\n",
              "    display: none;\n",
              "    fill: var(--fill-color);\n",
              "    height: 32px;\n",
              "    padding: 0;\n",
              "    width: 32px;\n",
              "  }\n",
              "\n",
              "  .colab-df-quickchart:hover {\n",
              "    background-color: var(--hover-bg-color);\n",
              "    box-shadow: 0 1px 2px rgba(60, 64, 67, 0.3), 0 1px 3px 1px rgba(60, 64, 67, 0.15);\n",
              "    fill: var(--button-hover-fill-color);\n",
              "  }\n",
              "\n",
              "  .colab-df-quickchart-complete:disabled,\n",
              "  .colab-df-quickchart-complete:disabled:hover {\n",
              "    background-color: var(--disabled-bg-color);\n",
              "    fill: var(--disabled-fill-color);\n",
              "    box-shadow: none;\n",
              "  }\n",
              "\n",
              "  .colab-df-spinner {\n",
              "    border: 2px solid var(--fill-color);\n",
              "    border-color: transparent;\n",
              "    border-bottom-color: var(--fill-color);\n",
              "    animation:\n",
              "      spin 1s steps(1) infinite;\n",
              "  }\n",
              "\n",
              "  @keyframes spin {\n",
              "    0% {\n",
              "      border-color: transparent;\n",
              "      border-bottom-color: var(--fill-color);\n",
              "      border-left-color: var(--fill-color);\n",
              "    }\n",
              "    20% {\n",
              "      border-color: transparent;\n",
              "      border-left-color: var(--fill-color);\n",
              "      border-top-color: var(--fill-color);\n",
              "    }\n",
              "    30% {\n",
              "      border-color: transparent;\n",
              "      border-left-color: var(--fill-color);\n",
              "      border-top-color: var(--fill-color);\n",
              "      border-right-color: var(--fill-color);\n",
              "    }\n",
              "    40% {\n",
              "      border-color: transparent;\n",
              "      border-right-color: var(--fill-color);\n",
              "      border-top-color: var(--fill-color);\n",
              "    }\n",
              "    60% {\n",
              "      border-color: transparent;\n",
              "      border-right-color: var(--fill-color);\n",
              "    }\n",
              "    80% {\n",
              "      border-color: transparent;\n",
              "      border-right-color: var(--fill-color);\n",
              "      border-bottom-color: var(--fill-color);\n",
              "    }\n",
              "    90% {\n",
              "      border-color: transparent;\n",
              "      border-bottom-color: var(--fill-color);\n",
              "    }\n",
              "  }\n",
              "</style>\n",
              "\n",
              "  <script>\n",
              "    async function quickchart(key) {\n",
              "      const quickchartButtonEl =\n",
              "        document.querySelector('#' + key + ' button');\n",
              "      quickchartButtonEl.disabled = true;  // To prevent multiple clicks.\n",
              "      quickchartButtonEl.classList.add('colab-df-spinner');\n",
              "      try {\n",
              "        const charts = await google.colab.kernel.invokeFunction(\n",
              "            'suggestCharts', [key], {});\n",
              "      } catch (error) {\n",
              "        console.error('Error during call to suggestCharts:', error);\n",
              "      }\n",
              "      quickchartButtonEl.classList.remove('colab-df-spinner');\n",
              "      quickchartButtonEl.classList.add('colab-df-quickchart-complete');\n",
              "    }\n",
              "    (() => {\n",
              "      let quickchartButtonEl =\n",
              "        document.querySelector('#df-664d478a-0e94-4602-9910-fad9c90e32bf button');\n",
              "      quickchartButtonEl.style.display =\n",
              "        google.colab.kernel.accessAllowed ? 'block' : 'none';\n",
              "    })();\n",
              "  </script>\n",
              "</div>\n",
              "    </div>\n",
              "  </div>\n"
            ]
          },
          "metadata": {},
          "execution_count": 508
        }
      ]
    },
    {
      "cell_type": "code",
      "source": [
        "# Creating DataFrames\n",
        "df1 = pd.DataFrame(df)\n",
        "df2 = pd.DataFrame(df2)"
      ],
      "metadata": {
        "id": "upOOweWxa53K"
      },
      "execution_count": 509,
      "outputs": []
    },
    {
      "cell_type": "code",
      "source": [
        "# Renaming columns in df2 to match columns in df1\n",
        "df2 = df2.rename(columns={'TLIST(A1)': 'TLIST(W1)', 'C01885V02316': 'C03132V03784', 'Month': 'Weeks of the year'})\n",
        "\n",
        "# Merging DataFrames based on common columns\n",
        "df = pd.concat([df1, df2], ignore_index=True)\n",
        "\n",
        "print(df)"
      ],
      "metadata": {
        "colab": {
          "base_uri": "https://localhost:8080/"
        },
        "id": "3Ep9zgblWsLX",
        "outputId": "c1fad67f-1b5b-4557-c29a-7a641dd1005a"
      },
      "execution_count": 510,
      "outputs": [
        {
          "output_type": "stream",
          "name": "stdout",
          "text": [
            "    STATISTIC     Statistic Label  TLIST(W1)  Year C03132V03784  \\\n",
            "0    TII01C01  Passenger Journeys       2019  2019            -   \n",
            "1    TII01C01  Passenger Journeys       2019  2019            -   \n",
            "2    TII01C01  Passenger Journeys       2019  2019            -   \n",
            "3    TII01C01  Passenger Journeys       2019  2019            -   \n",
            "4    TII01C01  Passenger Journeys       2019  2019            -   \n",
            "..        ...                 ...        ...   ...          ...   \n",
            "985  TOA11C03      All Luas lines       2022  2022           09   \n",
            "986  TOA11C03      All Luas lines       2022  2022           10   \n",
            "987  TOA11C03      All Luas lines       2022  2022           11   \n",
            "988  TOA11C03      All Luas lines       2022  2022           12   \n",
            "989  TOA11C03      All Luas lines       2022  2022            -   \n",
            "\n",
            "          Luas Line  C01198V01436 Weeks of the year    UNIT       VALUE  \n",
            "0    All Luas lines           1.0           Week 01  Number    549533.0  \n",
            "1    All Luas lines           2.0           Week 02  Number    839022.0  \n",
            "2    All Luas lines           3.0           Week 03  Number    819359.0  \n",
            "3    All Luas lines           4.0           Week 04  Number    860745.0  \n",
            "4    All Luas lines           5.0           Week 05  Number    912795.0  \n",
            "..              ...           ...               ...     ...         ...  \n",
            "985             NaN           NaN         September  Number   3811093.0  \n",
            "986             NaN           NaN           October  Number   4219124.0  \n",
            "987             NaN           NaN          November  Number   4375705.0  \n",
            "988             NaN           NaN          December  Number   4030698.0  \n",
            "989             NaN           NaN        All months  Number  38667875.0  \n",
            "\n",
            "[990 rows x 10 columns]\n"
          ]
        }
      ]
    },
    {
      "cell_type": "code",
      "source": [
        "# Calculate the percentage of missing values in each column\n",
        "missing_percentage = (df.isnull().sum() / len(df)) * 100\n",
        "\n",
        "print(\"Percentage of missing values in each column:\")\n",
        "print(missing_percentage)\n"
      ],
      "metadata": {
        "colab": {
          "base_uri": "https://localhost:8080/"
        },
        "id": "TqrPTj0nIut3",
        "outputId": "a687a4dd-c4bc-4f18-c145-5d5ccbe86ecd"
      },
      "execution_count": 511,
      "outputs": [
        {
          "output_type": "stream",
          "name": "stdout",
          "text": [
            "Percentage of missing values in each column:\n",
            "STATISTIC             0.000000\n",
            "Statistic Label       0.000000\n",
            "TLIST(W1)             0.000000\n",
            "Year                  0.000000\n",
            "C03132V03784          0.000000\n",
            "Luas Line            19.696970\n",
            "C01198V01436         19.696970\n",
            "Weeks of the year     0.000000\n",
            "UNIT                  0.000000\n",
            "VALUE                 5.151515\n",
            "dtype: float64\n"
          ]
        }
      ]
    },
    {
      "cell_type": "code",
      "source": [
        "df.info()"
      ],
      "metadata": {
        "colab": {
          "base_uri": "https://localhost:8080/"
        },
        "id": "4GETXBR6Jhbs",
        "outputId": "c11939f4-8a3e-41fe-9efd-894f545abf72"
      },
      "execution_count": 512,
      "outputs": [
        {
          "output_type": "stream",
          "name": "stdout",
          "text": [
            "<class 'pandas.core.frame.DataFrame'>\n",
            "RangeIndex: 990 entries, 0 to 989\n",
            "Data columns (total 10 columns):\n",
            " #   Column             Non-Null Count  Dtype  \n",
            "---  ------             --------------  -----  \n",
            " 0   STATISTIC          990 non-null    object \n",
            " 1   Statistic Label    990 non-null    object \n",
            " 2   TLIST(W1)          990 non-null    int64  \n",
            " 3   Year               990 non-null    int64  \n",
            " 4   C03132V03784       990 non-null    object \n",
            " 5   Luas Line          795 non-null    object \n",
            " 6   C01198V01436       795 non-null    float64\n",
            " 7   Weeks of the year  990 non-null    object \n",
            " 8   UNIT               990 non-null    object \n",
            " 9   VALUE              939 non-null    float64\n",
            "dtypes: float64(2), int64(2), object(6)\n",
            "memory usage: 77.5+ KB\n"
          ]
        }
      ]
    },
    {
      "cell_type": "code",
      "source": [
        "# Remove rows with any missing values\n",
        "df.dropna(inplace=True)"
      ],
      "metadata": {
        "id": "xnUuyiiVJY1F"
      },
      "execution_count": 513,
      "outputs": []
    },
    {
      "cell_type": "code",
      "source": [
        "df.info()"
      ],
      "metadata": {
        "colab": {
          "base_uri": "https://localhost:8080/"
        },
        "id": "WSgJXQLxF1m-",
        "outputId": "cf93c82b-067a-4e53-949f-574402773662"
      },
      "execution_count": 514,
      "outputs": [
        {
          "output_type": "stream",
          "name": "stdout",
          "text": [
            "<class 'pandas.core.frame.DataFrame'>\n",
            "Int64Index: 744 entries, 0 to 780\n",
            "Data columns (total 10 columns):\n",
            " #   Column             Non-Null Count  Dtype  \n",
            "---  ------             --------------  -----  \n",
            " 0   STATISTIC          744 non-null    object \n",
            " 1   Statistic Label    744 non-null    object \n",
            " 2   TLIST(W1)          744 non-null    int64  \n",
            " 3   Year               744 non-null    int64  \n",
            " 4   C03132V03784       744 non-null    object \n",
            " 5   Luas Line          744 non-null    object \n",
            " 6   C01198V01436       744 non-null    float64\n",
            " 7   Weeks of the year  744 non-null    object \n",
            " 8   UNIT               744 non-null    object \n",
            " 9   VALUE              744 non-null    float64\n",
            "dtypes: float64(2), int64(2), object(6)\n",
            "memory usage: 63.9+ KB\n"
          ]
        }
      ]
    },
    {
      "cell_type": "code",
      "source": [
        "duplicate_rows_df = df[df.duplicated()]\n",
        "print(\"number of duplicate rows: \", duplicate_rows_df.shape)"
      ],
      "metadata": {
        "colab": {
          "base_uri": "https://localhost:8080/"
        },
        "id": "jtPyxBCXHXGB",
        "outputId": "9d7ddbd9-826b-4c2c-cf6b-5687c0d1bc7a"
      },
      "execution_count": 515,
      "outputs": [
        {
          "output_type": "stream",
          "name": "stdout",
          "text": [
            "number of duplicate rows:  (0, 10)\n"
          ]
        }
      ]
    },
    {
      "cell_type": "code",
      "source": [
        "# Remove rows with any missing values\n",
        "df.dropna(inplace=True)"
      ],
      "metadata": {
        "id": "5FAzUztzHa0Q"
      },
      "execution_count": 516,
      "outputs": []
    },
    {
      "cell_type": "code",
      "source": [
        "# Convert 'Weeks of the year' column to extract numerical week information\n",
        "df['Numerical_Week'] = df['Weeks of the year'].str.extract('(\\d+)').astype(int)"
      ],
      "metadata": {
        "id": "2bNsYBZMMiB8"
      },
      "execution_count": 517,
      "outputs": []
    },
    {
      "cell_type": "code",
      "source": [
        "columns_to_drop = ['STATISTIC','Statistic Label','TLIST(W1)','C03132V03784', 'C01198V01436','UNIT','Weeks of the year']"
      ],
      "metadata": {
        "id": "IJ1OTKzfHa3I"
      },
      "execution_count": 518,
      "outputs": []
    },
    {
      "cell_type": "code",
      "source": [
        "# Drop the columns that are not needed\n",
        "df = df.drop(columns=columns_to_drop, axis=1)"
      ],
      "metadata": {
        "id": "1YigMoqbHa5x"
      },
      "execution_count": 519,
      "outputs": []
    },
    {
      "cell_type": "code",
      "source": [
        "df.head()"
      ],
      "metadata": {
        "colab": {
          "base_uri": "https://localhost:8080/",
          "height": 206
        },
        "id": "eCtWcW6LHa8q",
        "outputId": "4c191bd3-5635-4461-ffa9-6c9c0279176a"
      },
      "execution_count": 520,
      "outputs": [
        {
          "output_type": "execute_result",
          "data": {
            "text/plain": [
              "   Year       Luas Line     VALUE  Numerical_Week\n",
              "0  2019  All Luas lines  549533.0               1\n",
              "1  2019  All Luas lines  839022.0               2\n",
              "2  2019  All Luas lines  819359.0               3\n",
              "3  2019  All Luas lines  860745.0               4\n",
              "4  2019  All Luas lines  912795.0               5"
            ],
            "text/html": [
              "\n",
              "  <div id=\"df-11c44ce3-476e-4dc2-97b0-2cc11d6e5591\" class=\"colab-df-container\">\n",
              "    <div>\n",
              "<style scoped>\n",
              "    .dataframe tbody tr th:only-of-type {\n",
              "        vertical-align: middle;\n",
              "    }\n",
              "\n",
              "    .dataframe tbody tr th {\n",
              "        vertical-align: top;\n",
              "    }\n",
              "\n",
              "    .dataframe thead th {\n",
              "        text-align: right;\n",
              "    }\n",
              "</style>\n",
              "<table border=\"1\" class=\"dataframe\">\n",
              "  <thead>\n",
              "    <tr style=\"text-align: right;\">\n",
              "      <th></th>\n",
              "      <th>Year</th>\n",
              "      <th>Luas Line</th>\n",
              "      <th>VALUE</th>\n",
              "      <th>Numerical_Week</th>\n",
              "    </tr>\n",
              "  </thead>\n",
              "  <tbody>\n",
              "    <tr>\n",
              "      <th>0</th>\n",
              "      <td>2019</td>\n",
              "      <td>All Luas lines</td>\n",
              "      <td>549533.0</td>\n",
              "      <td>1</td>\n",
              "    </tr>\n",
              "    <tr>\n",
              "      <th>1</th>\n",
              "      <td>2019</td>\n",
              "      <td>All Luas lines</td>\n",
              "      <td>839022.0</td>\n",
              "      <td>2</td>\n",
              "    </tr>\n",
              "    <tr>\n",
              "      <th>2</th>\n",
              "      <td>2019</td>\n",
              "      <td>All Luas lines</td>\n",
              "      <td>819359.0</td>\n",
              "      <td>3</td>\n",
              "    </tr>\n",
              "    <tr>\n",
              "      <th>3</th>\n",
              "      <td>2019</td>\n",
              "      <td>All Luas lines</td>\n",
              "      <td>860745.0</td>\n",
              "      <td>4</td>\n",
              "    </tr>\n",
              "    <tr>\n",
              "      <th>4</th>\n",
              "      <td>2019</td>\n",
              "      <td>All Luas lines</td>\n",
              "      <td>912795.0</td>\n",
              "      <td>5</td>\n",
              "    </tr>\n",
              "  </tbody>\n",
              "</table>\n",
              "</div>\n",
              "    <div class=\"colab-df-buttons\">\n",
              "\n",
              "  <div class=\"colab-df-container\">\n",
              "    <button class=\"colab-df-convert\" onclick=\"convertToInteractive('df-11c44ce3-476e-4dc2-97b0-2cc11d6e5591')\"\n",
              "            title=\"Convert this dataframe to an interactive table.\"\n",
              "            style=\"display:none;\">\n",
              "\n",
              "  <svg xmlns=\"http://www.w3.org/2000/svg\" height=\"24px\" viewBox=\"0 -960 960 960\">\n",
              "    <path d=\"M120-120v-720h720v720H120Zm60-500h600v-160H180v160Zm220 220h160v-160H400v160Zm0 220h160v-160H400v160ZM180-400h160v-160H180v160Zm440 0h160v-160H620v160ZM180-180h160v-160H180v160Zm440 0h160v-160H620v160Z\"/>\n",
              "  </svg>\n",
              "    </button>\n",
              "\n",
              "  <style>\n",
              "    .colab-df-container {\n",
              "      display:flex;\n",
              "      gap: 12px;\n",
              "    }\n",
              "\n",
              "    .colab-df-convert {\n",
              "      background-color: #E8F0FE;\n",
              "      border: none;\n",
              "      border-radius: 50%;\n",
              "      cursor: pointer;\n",
              "      display: none;\n",
              "      fill: #1967D2;\n",
              "      height: 32px;\n",
              "      padding: 0 0 0 0;\n",
              "      width: 32px;\n",
              "    }\n",
              "\n",
              "    .colab-df-convert:hover {\n",
              "      background-color: #E2EBFA;\n",
              "      box-shadow: 0px 1px 2px rgba(60, 64, 67, 0.3), 0px 1px 3px 1px rgba(60, 64, 67, 0.15);\n",
              "      fill: #174EA6;\n",
              "    }\n",
              "\n",
              "    .colab-df-buttons div {\n",
              "      margin-bottom: 4px;\n",
              "    }\n",
              "\n",
              "    [theme=dark] .colab-df-convert {\n",
              "      background-color: #3B4455;\n",
              "      fill: #D2E3FC;\n",
              "    }\n",
              "\n",
              "    [theme=dark] .colab-df-convert:hover {\n",
              "      background-color: #434B5C;\n",
              "      box-shadow: 0px 1px 3px 1px rgba(0, 0, 0, 0.15);\n",
              "      filter: drop-shadow(0px 1px 2px rgba(0, 0, 0, 0.3));\n",
              "      fill: #FFFFFF;\n",
              "    }\n",
              "  </style>\n",
              "\n",
              "    <script>\n",
              "      const buttonEl =\n",
              "        document.querySelector('#df-11c44ce3-476e-4dc2-97b0-2cc11d6e5591 button.colab-df-convert');\n",
              "      buttonEl.style.display =\n",
              "        google.colab.kernel.accessAllowed ? 'block' : 'none';\n",
              "\n",
              "      async function convertToInteractive(key) {\n",
              "        const element = document.querySelector('#df-11c44ce3-476e-4dc2-97b0-2cc11d6e5591');\n",
              "        const dataTable =\n",
              "          await google.colab.kernel.invokeFunction('convertToInteractive',\n",
              "                                                    [key], {});\n",
              "        if (!dataTable) return;\n",
              "\n",
              "        const docLinkHtml = 'Like what you see? Visit the ' +\n",
              "          '<a target=\"_blank\" href=https://colab.research.google.com/notebooks/data_table.ipynb>data table notebook</a>'\n",
              "          + ' to learn more about interactive tables.';\n",
              "        element.innerHTML = '';\n",
              "        dataTable['output_type'] = 'display_data';\n",
              "        await google.colab.output.renderOutput(dataTable, element);\n",
              "        const docLink = document.createElement('div');\n",
              "        docLink.innerHTML = docLinkHtml;\n",
              "        element.appendChild(docLink);\n",
              "      }\n",
              "    </script>\n",
              "  </div>\n",
              "\n",
              "\n",
              "<div id=\"df-d0f2cf67-a62a-4c24-a443-88d84050ea8d\">\n",
              "  <button class=\"colab-df-quickchart\" onclick=\"quickchart('df-d0f2cf67-a62a-4c24-a443-88d84050ea8d')\"\n",
              "            title=\"Suggest charts\"\n",
              "            style=\"display:none;\">\n",
              "\n",
              "<svg xmlns=\"http://www.w3.org/2000/svg\" height=\"24px\"viewBox=\"0 0 24 24\"\n",
              "     width=\"24px\">\n",
              "    <g>\n",
              "        <path d=\"M19 3H5c-1.1 0-2 .9-2 2v14c0 1.1.9 2 2 2h14c1.1 0 2-.9 2-2V5c0-1.1-.9-2-2-2zM9 17H7v-7h2v7zm4 0h-2V7h2v10zm4 0h-2v-4h2v4z\"/>\n",
              "    </g>\n",
              "</svg>\n",
              "  </button>\n",
              "\n",
              "<style>\n",
              "  .colab-df-quickchart {\n",
              "      --bg-color: #E8F0FE;\n",
              "      --fill-color: #1967D2;\n",
              "      --hover-bg-color: #E2EBFA;\n",
              "      --hover-fill-color: #174EA6;\n",
              "      --disabled-fill-color: #AAA;\n",
              "      --disabled-bg-color: #DDD;\n",
              "  }\n",
              "\n",
              "  [theme=dark] .colab-df-quickchart {\n",
              "      --bg-color: #3B4455;\n",
              "      --fill-color: #D2E3FC;\n",
              "      --hover-bg-color: #434B5C;\n",
              "      --hover-fill-color: #FFFFFF;\n",
              "      --disabled-bg-color: #3B4455;\n",
              "      --disabled-fill-color: #666;\n",
              "  }\n",
              "\n",
              "  .colab-df-quickchart {\n",
              "    background-color: var(--bg-color);\n",
              "    border: none;\n",
              "    border-radius: 50%;\n",
              "    cursor: pointer;\n",
              "    display: none;\n",
              "    fill: var(--fill-color);\n",
              "    height: 32px;\n",
              "    padding: 0;\n",
              "    width: 32px;\n",
              "  }\n",
              "\n",
              "  .colab-df-quickchart:hover {\n",
              "    background-color: var(--hover-bg-color);\n",
              "    box-shadow: 0 1px 2px rgba(60, 64, 67, 0.3), 0 1px 3px 1px rgba(60, 64, 67, 0.15);\n",
              "    fill: var(--button-hover-fill-color);\n",
              "  }\n",
              "\n",
              "  .colab-df-quickchart-complete:disabled,\n",
              "  .colab-df-quickchart-complete:disabled:hover {\n",
              "    background-color: var(--disabled-bg-color);\n",
              "    fill: var(--disabled-fill-color);\n",
              "    box-shadow: none;\n",
              "  }\n",
              "\n",
              "  .colab-df-spinner {\n",
              "    border: 2px solid var(--fill-color);\n",
              "    border-color: transparent;\n",
              "    border-bottom-color: var(--fill-color);\n",
              "    animation:\n",
              "      spin 1s steps(1) infinite;\n",
              "  }\n",
              "\n",
              "  @keyframes spin {\n",
              "    0% {\n",
              "      border-color: transparent;\n",
              "      border-bottom-color: var(--fill-color);\n",
              "      border-left-color: var(--fill-color);\n",
              "    }\n",
              "    20% {\n",
              "      border-color: transparent;\n",
              "      border-left-color: var(--fill-color);\n",
              "      border-top-color: var(--fill-color);\n",
              "    }\n",
              "    30% {\n",
              "      border-color: transparent;\n",
              "      border-left-color: var(--fill-color);\n",
              "      border-top-color: var(--fill-color);\n",
              "      border-right-color: var(--fill-color);\n",
              "    }\n",
              "    40% {\n",
              "      border-color: transparent;\n",
              "      border-right-color: var(--fill-color);\n",
              "      border-top-color: var(--fill-color);\n",
              "    }\n",
              "    60% {\n",
              "      border-color: transparent;\n",
              "      border-right-color: var(--fill-color);\n",
              "    }\n",
              "    80% {\n",
              "      border-color: transparent;\n",
              "      border-right-color: var(--fill-color);\n",
              "      border-bottom-color: var(--fill-color);\n",
              "    }\n",
              "    90% {\n",
              "      border-color: transparent;\n",
              "      border-bottom-color: var(--fill-color);\n",
              "    }\n",
              "  }\n",
              "</style>\n",
              "\n",
              "  <script>\n",
              "    async function quickchart(key) {\n",
              "      const quickchartButtonEl =\n",
              "        document.querySelector('#' + key + ' button');\n",
              "      quickchartButtonEl.disabled = true;  // To prevent multiple clicks.\n",
              "      quickchartButtonEl.classList.add('colab-df-spinner');\n",
              "      try {\n",
              "        const charts = await google.colab.kernel.invokeFunction(\n",
              "            'suggestCharts', [key], {});\n",
              "      } catch (error) {\n",
              "        console.error('Error during call to suggestCharts:', error);\n",
              "      }\n",
              "      quickchartButtonEl.classList.remove('colab-df-spinner');\n",
              "      quickchartButtonEl.classList.add('colab-df-quickchart-complete');\n",
              "    }\n",
              "    (() => {\n",
              "      let quickchartButtonEl =\n",
              "        document.querySelector('#df-d0f2cf67-a62a-4c24-a443-88d84050ea8d button');\n",
              "      quickchartButtonEl.style.display =\n",
              "        google.colab.kernel.accessAllowed ? 'block' : 'none';\n",
              "    })();\n",
              "  </script>\n",
              "</div>\n",
              "    </div>\n",
              "  </div>\n"
            ]
          },
          "metadata": {},
          "execution_count": 520
        }
      ]
    },
    {
      "cell_type": "code",
      "source": [
        "df.info()"
      ],
      "metadata": {
        "colab": {
          "base_uri": "https://localhost:8080/"
        },
        "id": "lkpyUZSSHa_u",
        "outputId": "3753f9ea-c451-41ac-86af-756f322644cd"
      },
      "execution_count": 521,
      "outputs": [
        {
          "output_type": "stream",
          "name": "stdout",
          "text": [
            "<class 'pandas.core.frame.DataFrame'>\n",
            "Int64Index: 744 entries, 0 to 780\n",
            "Data columns (total 4 columns):\n",
            " #   Column          Non-Null Count  Dtype  \n",
            "---  ------          --------------  -----  \n",
            " 0   Year            744 non-null    int64  \n",
            " 1   Luas Line       744 non-null    object \n",
            " 2   VALUE           744 non-null    float64\n",
            " 3   Numerical_Week  744 non-null    int64  \n",
            "dtypes: float64(1), int64(2), object(1)\n",
            "memory usage: 29.1+ KB\n"
          ]
        }
      ]
    },
    {
      "cell_type": "code",
      "source": [
        "from sklearn.preprocessing import LabelEncoder\n",
        "\n",
        "# Initialize LabelEncoder\n",
        "label_encoder = LabelEncoder()\n",
        "\n",
        "# Encode 'Luas Line' column\n",
        "df['Luas Line Encoded'] = label_encoder.fit_transform(df['Luas Line'])"
      ],
      "metadata": {
        "id": "log3a6D9HbEo"
      },
      "execution_count": 522,
      "outputs": []
    },
    {
      "cell_type": "code",
      "source": [
        "df"
      ],
      "metadata": {
        "colab": {
          "base_uri": "https://localhost:8080/",
          "height": 423
        },
        "id": "JyDZ1TyEHbHR",
        "outputId": "9983322f-772d-4120-9011-399d08217557"
      },
      "execution_count": 523,
      "outputs": [
        {
          "output_type": "execute_result",
          "data": {
            "text/plain": [
              "     Year       Luas Line     VALUE  Numerical_Week  Luas Line Encoded\n",
              "0    2019  All Luas lines  549533.0               1                  0\n",
              "1    2019  All Luas lines  839022.0               2                  0\n",
              "2    2019  All Luas lines  819359.0               3                  0\n",
              "3    2019  All Luas lines  860745.0               4                  0\n",
              "4    2019  All Luas lines  912795.0               5                  0\n",
              "..    ...             ...       ...             ...                ...\n",
              "776  2023      Green line  411878.0              35                  1\n",
              "777  2023      Green line  432905.0              36                  1\n",
              "778  2023      Green line  445474.0              37                  1\n",
              "779  2023      Green line  498593.0              38                  1\n",
              "780  2023      Green line  500581.0              39                  1\n",
              "\n",
              "[744 rows x 5 columns]"
            ],
            "text/html": [
              "\n",
              "  <div id=\"df-21d0d915-2efe-4916-8445-04bc23e9a424\" class=\"colab-df-container\">\n",
              "    <div>\n",
              "<style scoped>\n",
              "    .dataframe tbody tr th:only-of-type {\n",
              "        vertical-align: middle;\n",
              "    }\n",
              "\n",
              "    .dataframe tbody tr th {\n",
              "        vertical-align: top;\n",
              "    }\n",
              "\n",
              "    .dataframe thead th {\n",
              "        text-align: right;\n",
              "    }\n",
              "</style>\n",
              "<table border=\"1\" class=\"dataframe\">\n",
              "  <thead>\n",
              "    <tr style=\"text-align: right;\">\n",
              "      <th></th>\n",
              "      <th>Year</th>\n",
              "      <th>Luas Line</th>\n",
              "      <th>VALUE</th>\n",
              "      <th>Numerical_Week</th>\n",
              "      <th>Luas Line Encoded</th>\n",
              "    </tr>\n",
              "  </thead>\n",
              "  <tbody>\n",
              "    <tr>\n",
              "      <th>0</th>\n",
              "      <td>2019</td>\n",
              "      <td>All Luas lines</td>\n",
              "      <td>549533.0</td>\n",
              "      <td>1</td>\n",
              "      <td>0</td>\n",
              "    </tr>\n",
              "    <tr>\n",
              "      <th>1</th>\n",
              "      <td>2019</td>\n",
              "      <td>All Luas lines</td>\n",
              "      <td>839022.0</td>\n",
              "      <td>2</td>\n",
              "      <td>0</td>\n",
              "    </tr>\n",
              "    <tr>\n",
              "      <th>2</th>\n",
              "      <td>2019</td>\n",
              "      <td>All Luas lines</td>\n",
              "      <td>819359.0</td>\n",
              "      <td>3</td>\n",
              "      <td>0</td>\n",
              "    </tr>\n",
              "    <tr>\n",
              "      <th>3</th>\n",
              "      <td>2019</td>\n",
              "      <td>All Luas lines</td>\n",
              "      <td>860745.0</td>\n",
              "      <td>4</td>\n",
              "      <td>0</td>\n",
              "    </tr>\n",
              "    <tr>\n",
              "      <th>4</th>\n",
              "      <td>2019</td>\n",
              "      <td>All Luas lines</td>\n",
              "      <td>912795.0</td>\n",
              "      <td>5</td>\n",
              "      <td>0</td>\n",
              "    </tr>\n",
              "    <tr>\n",
              "      <th>...</th>\n",
              "      <td>...</td>\n",
              "      <td>...</td>\n",
              "      <td>...</td>\n",
              "      <td>...</td>\n",
              "      <td>...</td>\n",
              "    </tr>\n",
              "    <tr>\n",
              "      <th>776</th>\n",
              "      <td>2023</td>\n",
              "      <td>Green line</td>\n",
              "      <td>411878.0</td>\n",
              "      <td>35</td>\n",
              "      <td>1</td>\n",
              "    </tr>\n",
              "    <tr>\n",
              "      <th>777</th>\n",
              "      <td>2023</td>\n",
              "      <td>Green line</td>\n",
              "      <td>432905.0</td>\n",
              "      <td>36</td>\n",
              "      <td>1</td>\n",
              "    </tr>\n",
              "    <tr>\n",
              "      <th>778</th>\n",
              "      <td>2023</td>\n",
              "      <td>Green line</td>\n",
              "      <td>445474.0</td>\n",
              "      <td>37</td>\n",
              "      <td>1</td>\n",
              "    </tr>\n",
              "    <tr>\n",
              "      <th>779</th>\n",
              "      <td>2023</td>\n",
              "      <td>Green line</td>\n",
              "      <td>498593.0</td>\n",
              "      <td>38</td>\n",
              "      <td>1</td>\n",
              "    </tr>\n",
              "    <tr>\n",
              "      <th>780</th>\n",
              "      <td>2023</td>\n",
              "      <td>Green line</td>\n",
              "      <td>500581.0</td>\n",
              "      <td>39</td>\n",
              "      <td>1</td>\n",
              "    </tr>\n",
              "  </tbody>\n",
              "</table>\n",
              "<p>744 rows × 5 columns</p>\n",
              "</div>\n",
              "    <div class=\"colab-df-buttons\">\n",
              "\n",
              "  <div class=\"colab-df-container\">\n",
              "    <button class=\"colab-df-convert\" onclick=\"convertToInteractive('df-21d0d915-2efe-4916-8445-04bc23e9a424')\"\n",
              "            title=\"Convert this dataframe to an interactive table.\"\n",
              "            style=\"display:none;\">\n",
              "\n",
              "  <svg xmlns=\"http://www.w3.org/2000/svg\" height=\"24px\" viewBox=\"0 -960 960 960\">\n",
              "    <path d=\"M120-120v-720h720v720H120Zm60-500h600v-160H180v160Zm220 220h160v-160H400v160Zm0 220h160v-160H400v160ZM180-400h160v-160H180v160Zm440 0h160v-160H620v160ZM180-180h160v-160H180v160Zm440 0h160v-160H620v160Z\"/>\n",
              "  </svg>\n",
              "    </button>\n",
              "\n",
              "  <style>\n",
              "    .colab-df-container {\n",
              "      display:flex;\n",
              "      gap: 12px;\n",
              "    }\n",
              "\n",
              "    .colab-df-convert {\n",
              "      background-color: #E8F0FE;\n",
              "      border: none;\n",
              "      border-radius: 50%;\n",
              "      cursor: pointer;\n",
              "      display: none;\n",
              "      fill: #1967D2;\n",
              "      height: 32px;\n",
              "      padding: 0 0 0 0;\n",
              "      width: 32px;\n",
              "    }\n",
              "\n",
              "    .colab-df-convert:hover {\n",
              "      background-color: #E2EBFA;\n",
              "      box-shadow: 0px 1px 2px rgba(60, 64, 67, 0.3), 0px 1px 3px 1px rgba(60, 64, 67, 0.15);\n",
              "      fill: #174EA6;\n",
              "    }\n",
              "\n",
              "    .colab-df-buttons div {\n",
              "      margin-bottom: 4px;\n",
              "    }\n",
              "\n",
              "    [theme=dark] .colab-df-convert {\n",
              "      background-color: #3B4455;\n",
              "      fill: #D2E3FC;\n",
              "    }\n",
              "\n",
              "    [theme=dark] .colab-df-convert:hover {\n",
              "      background-color: #434B5C;\n",
              "      box-shadow: 0px 1px 3px 1px rgba(0, 0, 0, 0.15);\n",
              "      filter: drop-shadow(0px 1px 2px rgba(0, 0, 0, 0.3));\n",
              "      fill: #FFFFFF;\n",
              "    }\n",
              "  </style>\n",
              "\n",
              "    <script>\n",
              "      const buttonEl =\n",
              "        document.querySelector('#df-21d0d915-2efe-4916-8445-04bc23e9a424 button.colab-df-convert');\n",
              "      buttonEl.style.display =\n",
              "        google.colab.kernel.accessAllowed ? 'block' : 'none';\n",
              "\n",
              "      async function convertToInteractive(key) {\n",
              "        const element = document.querySelector('#df-21d0d915-2efe-4916-8445-04bc23e9a424');\n",
              "        const dataTable =\n",
              "          await google.colab.kernel.invokeFunction('convertToInteractive',\n",
              "                                                    [key], {});\n",
              "        if (!dataTable) return;\n",
              "\n",
              "        const docLinkHtml = 'Like what you see? Visit the ' +\n",
              "          '<a target=\"_blank\" href=https://colab.research.google.com/notebooks/data_table.ipynb>data table notebook</a>'\n",
              "          + ' to learn more about interactive tables.';\n",
              "        element.innerHTML = '';\n",
              "        dataTable['output_type'] = 'display_data';\n",
              "        await google.colab.output.renderOutput(dataTable, element);\n",
              "        const docLink = document.createElement('div');\n",
              "        docLink.innerHTML = docLinkHtml;\n",
              "        element.appendChild(docLink);\n",
              "      }\n",
              "    </script>\n",
              "  </div>\n",
              "\n",
              "\n",
              "<div id=\"df-eaa35795-3f6c-421c-9755-8f4cc874539a\">\n",
              "  <button class=\"colab-df-quickchart\" onclick=\"quickchart('df-eaa35795-3f6c-421c-9755-8f4cc874539a')\"\n",
              "            title=\"Suggest charts\"\n",
              "            style=\"display:none;\">\n",
              "\n",
              "<svg xmlns=\"http://www.w3.org/2000/svg\" height=\"24px\"viewBox=\"0 0 24 24\"\n",
              "     width=\"24px\">\n",
              "    <g>\n",
              "        <path d=\"M19 3H5c-1.1 0-2 .9-2 2v14c0 1.1.9 2 2 2h14c1.1 0 2-.9 2-2V5c0-1.1-.9-2-2-2zM9 17H7v-7h2v7zm4 0h-2V7h2v10zm4 0h-2v-4h2v4z\"/>\n",
              "    </g>\n",
              "</svg>\n",
              "  </button>\n",
              "\n",
              "<style>\n",
              "  .colab-df-quickchart {\n",
              "      --bg-color: #E8F0FE;\n",
              "      --fill-color: #1967D2;\n",
              "      --hover-bg-color: #E2EBFA;\n",
              "      --hover-fill-color: #174EA6;\n",
              "      --disabled-fill-color: #AAA;\n",
              "      --disabled-bg-color: #DDD;\n",
              "  }\n",
              "\n",
              "  [theme=dark] .colab-df-quickchart {\n",
              "      --bg-color: #3B4455;\n",
              "      --fill-color: #D2E3FC;\n",
              "      --hover-bg-color: #434B5C;\n",
              "      --hover-fill-color: #FFFFFF;\n",
              "      --disabled-bg-color: #3B4455;\n",
              "      --disabled-fill-color: #666;\n",
              "  }\n",
              "\n",
              "  .colab-df-quickchart {\n",
              "    background-color: var(--bg-color);\n",
              "    border: none;\n",
              "    border-radius: 50%;\n",
              "    cursor: pointer;\n",
              "    display: none;\n",
              "    fill: var(--fill-color);\n",
              "    height: 32px;\n",
              "    padding: 0;\n",
              "    width: 32px;\n",
              "  }\n",
              "\n",
              "  .colab-df-quickchart:hover {\n",
              "    background-color: var(--hover-bg-color);\n",
              "    box-shadow: 0 1px 2px rgba(60, 64, 67, 0.3), 0 1px 3px 1px rgba(60, 64, 67, 0.15);\n",
              "    fill: var(--button-hover-fill-color);\n",
              "  }\n",
              "\n",
              "  .colab-df-quickchart-complete:disabled,\n",
              "  .colab-df-quickchart-complete:disabled:hover {\n",
              "    background-color: var(--disabled-bg-color);\n",
              "    fill: var(--disabled-fill-color);\n",
              "    box-shadow: none;\n",
              "  }\n",
              "\n",
              "  .colab-df-spinner {\n",
              "    border: 2px solid var(--fill-color);\n",
              "    border-color: transparent;\n",
              "    border-bottom-color: var(--fill-color);\n",
              "    animation:\n",
              "      spin 1s steps(1) infinite;\n",
              "  }\n",
              "\n",
              "  @keyframes spin {\n",
              "    0% {\n",
              "      border-color: transparent;\n",
              "      border-bottom-color: var(--fill-color);\n",
              "      border-left-color: var(--fill-color);\n",
              "    }\n",
              "    20% {\n",
              "      border-color: transparent;\n",
              "      border-left-color: var(--fill-color);\n",
              "      border-top-color: var(--fill-color);\n",
              "    }\n",
              "    30% {\n",
              "      border-color: transparent;\n",
              "      border-left-color: var(--fill-color);\n",
              "      border-top-color: var(--fill-color);\n",
              "      border-right-color: var(--fill-color);\n",
              "    }\n",
              "    40% {\n",
              "      border-color: transparent;\n",
              "      border-right-color: var(--fill-color);\n",
              "      border-top-color: var(--fill-color);\n",
              "    }\n",
              "    60% {\n",
              "      border-color: transparent;\n",
              "      border-right-color: var(--fill-color);\n",
              "    }\n",
              "    80% {\n",
              "      border-color: transparent;\n",
              "      border-right-color: var(--fill-color);\n",
              "      border-bottom-color: var(--fill-color);\n",
              "    }\n",
              "    90% {\n",
              "      border-color: transparent;\n",
              "      border-bottom-color: var(--fill-color);\n",
              "    }\n",
              "  }\n",
              "</style>\n",
              "\n",
              "  <script>\n",
              "    async function quickchart(key) {\n",
              "      const quickchartButtonEl =\n",
              "        document.querySelector('#' + key + ' button');\n",
              "      quickchartButtonEl.disabled = true;  // To prevent multiple clicks.\n",
              "      quickchartButtonEl.classList.add('colab-df-spinner');\n",
              "      try {\n",
              "        const charts = await google.colab.kernel.invokeFunction(\n",
              "            'suggestCharts', [key], {});\n",
              "      } catch (error) {\n",
              "        console.error('Error during call to suggestCharts:', error);\n",
              "      }\n",
              "      quickchartButtonEl.classList.remove('colab-df-spinner');\n",
              "      quickchartButtonEl.classList.add('colab-df-quickchart-complete');\n",
              "    }\n",
              "    (() => {\n",
              "      let quickchartButtonEl =\n",
              "        document.querySelector('#df-eaa35795-3f6c-421c-9755-8f4cc874539a button');\n",
              "      quickchartButtonEl.style.display =\n",
              "        google.colab.kernel.accessAllowed ? 'block' : 'none';\n",
              "    })();\n",
              "  </script>\n",
              "</div>\n",
              "    </div>\n",
              "  </div>\n"
            ]
          },
          "metadata": {},
          "execution_count": 523
        }
      ]
    },
    {
      "cell_type": "code",
      "source": [
        "columns_to_drop = ['Luas Line']"
      ],
      "metadata": {
        "id": "R-MiWMkvNL9K"
      },
      "execution_count": 524,
      "outputs": []
    },
    {
      "cell_type": "code",
      "source": [
        "# Drop the columns that are not needed\n",
        "df = df.drop(columns=columns_to_drop, axis=1)"
      ],
      "metadata": {
        "id": "qmCD8a4zNOvR"
      },
      "execution_count": 525,
      "outputs": []
    },
    {
      "cell_type": "code",
      "source": [
        "df.head()"
      ],
      "metadata": {
        "colab": {
          "base_uri": "https://localhost:8080/",
          "height": 206
        },
        "id": "W1OTCYxfXFzO",
        "outputId": "d8efcb26-ec81-4dfd-b3ca-e6ec202ce224"
      },
      "execution_count": 526,
      "outputs": [
        {
          "output_type": "execute_result",
          "data": {
            "text/plain": [
              "   Year     VALUE  Numerical_Week  Luas Line Encoded\n",
              "0  2019  549533.0               1                  0\n",
              "1  2019  839022.0               2                  0\n",
              "2  2019  819359.0               3                  0\n",
              "3  2019  860745.0               4                  0\n",
              "4  2019  912795.0               5                  0"
            ],
            "text/html": [
              "\n",
              "  <div id=\"df-72e4d3da-d832-4923-94ca-1319445ee587\" class=\"colab-df-container\">\n",
              "    <div>\n",
              "<style scoped>\n",
              "    .dataframe tbody tr th:only-of-type {\n",
              "        vertical-align: middle;\n",
              "    }\n",
              "\n",
              "    .dataframe tbody tr th {\n",
              "        vertical-align: top;\n",
              "    }\n",
              "\n",
              "    .dataframe thead th {\n",
              "        text-align: right;\n",
              "    }\n",
              "</style>\n",
              "<table border=\"1\" class=\"dataframe\">\n",
              "  <thead>\n",
              "    <tr style=\"text-align: right;\">\n",
              "      <th></th>\n",
              "      <th>Year</th>\n",
              "      <th>VALUE</th>\n",
              "      <th>Numerical_Week</th>\n",
              "      <th>Luas Line Encoded</th>\n",
              "    </tr>\n",
              "  </thead>\n",
              "  <tbody>\n",
              "    <tr>\n",
              "      <th>0</th>\n",
              "      <td>2019</td>\n",
              "      <td>549533.0</td>\n",
              "      <td>1</td>\n",
              "      <td>0</td>\n",
              "    </tr>\n",
              "    <tr>\n",
              "      <th>1</th>\n",
              "      <td>2019</td>\n",
              "      <td>839022.0</td>\n",
              "      <td>2</td>\n",
              "      <td>0</td>\n",
              "    </tr>\n",
              "    <tr>\n",
              "      <th>2</th>\n",
              "      <td>2019</td>\n",
              "      <td>819359.0</td>\n",
              "      <td>3</td>\n",
              "      <td>0</td>\n",
              "    </tr>\n",
              "    <tr>\n",
              "      <th>3</th>\n",
              "      <td>2019</td>\n",
              "      <td>860745.0</td>\n",
              "      <td>4</td>\n",
              "      <td>0</td>\n",
              "    </tr>\n",
              "    <tr>\n",
              "      <th>4</th>\n",
              "      <td>2019</td>\n",
              "      <td>912795.0</td>\n",
              "      <td>5</td>\n",
              "      <td>0</td>\n",
              "    </tr>\n",
              "  </tbody>\n",
              "</table>\n",
              "</div>\n",
              "    <div class=\"colab-df-buttons\">\n",
              "\n",
              "  <div class=\"colab-df-container\">\n",
              "    <button class=\"colab-df-convert\" onclick=\"convertToInteractive('df-72e4d3da-d832-4923-94ca-1319445ee587')\"\n",
              "            title=\"Convert this dataframe to an interactive table.\"\n",
              "            style=\"display:none;\">\n",
              "\n",
              "  <svg xmlns=\"http://www.w3.org/2000/svg\" height=\"24px\" viewBox=\"0 -960 960 960\">\n",
              "    <path d=\"M120-120v-720h720v720H120Zm60-500h600v-160H180v160Zm220 220h160v-160H400v160Zm0 220h160v-160H400v160ZM180-400h160v-160H180v160Zm440 0h160v-160H620v160ZM180-180h160v-160H180v160Zm440 0h160v-160H620v160Z\"/>\n",
              "  </svg>\n",
              "    </button>\n",
              "\n",
              "  <style>\n",
              "    .colab-df-container {\n",
              "      display:flex;\n",
              "      gap: 12px;\n",
              "    }\n",
              "\n",
              "    .colab-df-convert {\n",
              "      background-color: #E8F0FE;\n",
              "      border: none;\n",
              "      border-radius: 50%;\n",
              "      cursor: pointer;\n",
              "      display: none;\n",
              "      fill: #1967D2;\n",
              "      height: 32px;\n",
              "      padding: 0 0 0 0;\n",
              "      width: 32px;\n",
              "    }\n",
              "\n",
              "    .colab-df-convert:hover {\n",
              "      background-color: #E2EBFA;\n",
              "      box-shadow: 0px 1px 2px rgba(60, 64, 67, 0.3), 0px 1px 3px 1px rgba(60, 64, 67, 0.15);\n",
              "      fill: #174EA6;\n",
              "    }\n",
              "\n",
              "    .colab-df-buttons div {\n",
              "      margin-bottom: 4px;\n",
              "    }\n",
              "\n",
              "    [theme=dark] .colab-df-convert {\n",
              "      background-color: #3B4455;\n",
              "      fill: #D2E3FC;\n",
              "    }\n",
              "\n",
              "    [theme=dark] .colab-df-convert:hover {\n",
              "      background-color: #434B5C;\n",
              "      box-shadow: 0px 1px 3px 1px rgba(0, 0, 0, 0.15);\n",
              "      filter: drop-shadow(0px 1px 2px rgba(0, 0, 0, 0.3));\n",
              "      fill: #FFFFFF;\n",
              "    }\n",
              "  </style>\n",
              "\n",
              "    <script>\n",
              "      const buttonEl =\n",
              "        document.querySelector('#df-72e4d3da-d832-4923-94ca-1319445ee587 button.colab-df-convert');\n",
              "      buttonEl.style.display =\n",
              "        google.colab.kernel.accessAllowed ? 'block' : 'none';\n",
              "\n",
              "      async function convertToInteractive(key) {\n",
              "        const element = document.querySelector('#df-72e4d3da-d832-4923-94ca-1319445ee587');\n",
              "        const dataTable =\n",
              "          await google.colab.kernel.invokeFunction('convertToInteractive',\n",
              "                                                    [key], {});\n",
              "        if (!dataTable) return;\n",
              "\n",
              "        const docLinkHtml = 'Like what you see? Visit the ' +\n",
              "          '<a target=\"_blank\" href=https://colab.research.google.com/notebooks/data_table.ipynb>data table notebook</a>'\n",
              "          + ' to learn more about interactive tables.';\n",
              "        element.innerHTML = '';\n",
              "        dataTable['output_type'] = 'display_data';\n",
              "        await google.colab.output.renderOutput(dataTable, element);\n",
              "        const docLink = document.createElement('div');\n",
              "        docLink.innerHTML = docLinkHtml;\n",
              "        element.appendChild(docLink);\n",
              "      }\n",
              "    </script>\n",
              "  </div>\n",
              "\n",
              "\n",
              "<div id=\"df-d55d2050-72a0-4ea4-9f6a-b50e74f447ae\">\n",
              "  <button class=\"colab-df-quickchart\" onclick=\"quickchart('df-d55d2050-72a0-4ea4-9f6a-b50e74f447ae')\"\n",
              "            title=\"Suggest charts\"\n",
              "            style=\"display:none;\">\n",
              "\n",
              "<svg xmlns=\"http://www.w3.org/2000/svg\" height=\"24px\"viewBox=\"0 0 24 24\"\n",
              "     width=\"24px\">\n",
              "    <g>\n",
              "        <path d=\"M19 3H5c-1.1 0-2 .9-2 2v14c0 1.1.9 2 2 2h14c1.1 0 2-.9 2-2V5c0-1.1-.9-2-2-2zM9 17H7v-7h2v7zm4 0h-2V7h2v10zm4 0h-2v-4h2v4z\"/>\n",
              "    </g>\n",
              "</svg>\n",
              "  </button>\n",
              "\n",
              "<style>\n",
              "  .colab-df-quickchart {\n",
              "      --bg-color: #E8F0FE;\n",
              "      --fill-color: #1967D2;\n",
              "      --hover-bg-color: #E2EBFA;\n",
              "      --hover-fill-color: #174EA6;\n",
              "      --disabled-fill-color: #AAA;\n",
              "      --disabled-bg-color: #DDD;\n",
              "  }\n",
              "\n",
              "  [theme=dark] .colab-df-quickchart {\n",
              "      --bg-color: #3B4455;\n",
              "      --fill-color: #D2E3FC;\n",
              "      --hover-bg-color: #434B5C;\n",
              "      --hover-fill-color: #FFFFFF;\n",
              "      --disabled-bg-color: #3B4455;\n",
              "      --disabled-fill-color: #666;\n",
              "  }\n",
              "\n",
              "  .colab-df-quickchart {\n",
              "    background-color: var(--bg-color);\n",
              "    border: none;\n",
              "    border-radius: 50%;\n",
              "    cursor: pointer;\n",
              "    display: none;\n",
              "    fill: var(--fill-color);\n",
              "    height: 32px;\n",
              "    padding: 0;\n",
              "    width: 32px;\n",
              "  }\n",
              "\n",
              "  .colab-df-quickchart:hover {\n",
              "    background-color: var(--hover-bg-color);\n",
              "    box-shadow: 0 1px 2px rgba(60, 64, 67, 0.3), 0 1px 3px 1px rgba(60, 64, 67, 0.15);\n",
              "    fill: var(--button-hover-fill-color);\n",
              "  }\n",
              "\n",
              "  .colab-df-quickchart-complete:disabled,\n",
              "  .colab-df-quickchart-complete:disabled:hover {\n",
              "    background-color: var(--disabled-bg-color);\n",
              "    fill: var(--disabled-fill-color);\n",
              "    box-shadow: none;\n",
              "  }\n",
              "\n",
              "  .colab-df-spinner {\n",
              "    border: 2px solid var(--fill-color);\n",
              "    border-color: transparent;\n",
              "    border-bottom-color: var(--fill-color);\n",
              "    animation:\n",
              "      spin 1s steps(1) infinite;\n",
              "  }\n",
              "\n",
              "  @keyframes spin {\n",
              "    0% {\n",
              "      border-color: transparent;\n",
              "      border-bottom-color: var(--fill-color);\n",
              "      border-left-color: var(--fill-color);\n",
              "    }\n",
              "    20% {\n",
              "      border-color: transparent;\n",
              "      border-left-color: var(--fill-color);\n",
              "      border-top-color: var(--fill-color);\n",
              "    }\n",
              "    30% {\n",
              "      border-color: transparent;\n",
              "      border-left-color: var(--fill-color);\n",
              "      border-top-color: var(--fill-color);\n",
              "      border-right-color: var(--fill-color);\n",
              "    }\n",
              "    40% {\n",
              "      border-color: transparent;\n",
              "      border-right-color: var(--fill-color);\n",
              "      border-top-color: var(--fill-color);\n",
              "    }\n",
              "    60% {\n",
              "      border-color: transparent;\n",
              "      border-right-color: var(--fill-color);\n",
              "    }\n",
              "    80% {\n",
              "      border-color: transparent;\n",
              "      border-right-color: var(--fill-color);\n",
              "      border-bottom-color: var(--fill-color);\n",
              "    }\n",
              "    90% {\n",
              "      border-color: transparent;\n",
              "      border-bottom-color: var(--fill-color);\n",
              "    }\n",
              "  }\n",
              "</style>\n",
              "\n",
              "  <script>\n",
              "    async function quickchart(key) {\n",
              "      const quickchartButtonEl =\n",
              "        document.querySelector('#' + key + ' button');\n",
              "      quickchartButtonEl.disabled = true;  // To prevent multiple clicks.\n",
              "      quickchartButtonEl.classList.add('colab-df-spinner');\n",
              "      try {\n",
              "        const charts = await google.colab.kernel.invokeFunction(\n",
              "            'suggestCharts', [key], {});\n",
              "      } catch (error) {\n",
              "        console.error('Error during call to suggestCharts:', error);\n",
              "      }\n",
              "      quickchartButtonEl.classList.remove('colab-df-spinner');\n",
              "      quickchartButtonEl.classList.add('colab-df-quickchart-complete');\n",
              "    }\n",
              "    (() => {\n",
              "      let quickchartButtonEl =\n",
              "        document.querySelector('#df-d55d2050-72a0-4ea4-9f6a-b50e74f447ae button');\n",
              "      quickchartButtonEl.style.display =\n",
              "        google.colab.kernel.accessAllowed ? 'block' : 'none';\n",
              "    })();\n",
              "  </script>\n",
              "</div>\n",
              "    </div>\n",
              "  </div>\n"
            ]
          },
          "metadata": {},
          "execution_count": 526
        }
      ]
    },
    {
      "cell_type": "code",
      "source": [
        "# Feature selection\n",
        "X = df[['Year', 'Numerical_Week', 'Luas Line Encoded']]\n",
        "y = df['VALUE']"
      ],
      "metadata": {
        "id": "xxKuKhs1R8rf"
      },
      "execution_count": 527,
      "outputs": []
    },
    {
      "cell_type": "code",
      "source": [
        "# Splitting the data into training and testing sets\n",
        "X_train, X_test, y_train, y_test = train_test_split(X, y, test_size=0.2, random_state=42)"
      ],
      "metadata": {
        "id": "P1iYUMS-NpPf"
      },
      "execution_count": 528,
      "outputs": []
    },
    {
      "cell_type": "code",
      "source": [
        "from sklearn.model_selection import GridSearchCV\n",
        "from sklearn.ensemble import RandomForestRegressor\n",
        "from sklearn.metrics import mean_squared_error\n",
        "from sklearn.model_selection import train_test_split"
      ],
      "metadata": {
        "id": "81dyDEjqTnng"
      },
      "execution_count": 529,
      "outputs": []
    },
    {
      "cell_type": "code",
      "source": [
        "# Choosing the model and defining hyperparameters grid\n",
        "param_grid = {\n",
        "    'n_estimators': [100, 300, 500],\n",
        "    'max_depth': [None, 5, 10, 20],\n",
        "    # Add more hyperparameters as needed for tuning\n",
        "}"
      ],
      "metadata": {
        "id": "WWM90AvcTnvT"
      },
      "execution_count": 530,
      "outputs": []
    },
    {
      "cell_type": "code",
      "source": [
        "# Initialize the model\n",
        "rf = RandomForestRegressor()"
      ],
      "metadata": {
        "id": "XO2ySNcHTnyN"
      },
      "execution_count": 531,
      "outputs": []
    },
    {
      "cell_type": "code",
      "source": [
        "# Grid search cross-validation for hyperparameter tuning\n",
        "grid_search = GridSearchCV(estimator=rf, param_grid=param_grid, cv=5, scoring='neg_mean_squared_error')\n",
        "grid_search.fit(X_train, y_train)"
      ],
      "metadata": {
        "colab": {
          "base_uri": "https://localhost:8080/",
          "height": 116
        },
        "id": "MIMWElXHTn3N",
        "outputId": "470ee07d-333f-48c2-8367-3523131b86b1"
      },
      "execution_count": 532,
      "outputs": [
        {
          "output_type": "execute_result",
          "data": {
            "text/plain": [
              "GridSearchCV(cv=5, estimator=RandomForestRegressor(),\n",
              "             param_grid={'max_depth': [None, 5, 10, 20],\n",
              "                         'n_estimators': [100, 300, 500]},\n",
              "             scoring='neg_mean_squared_error')"
            ],
            "text/html": [
              "<style>#sk-container-id-13 {color: black;background-color: white;}#sk-container-id-13 pre{padding: 0;}#sk-container-id-13 div.sk-toggleable {background-color: white;}#sk-container-id-13 label.sk-toggleable__label {cursor: pointer;display: block;width: 100%;margin-bottom: 0;padding: 0.3em;box-sizing: border-box;text-align: center;}#sk-container-id-13 label.sk-toggleable__label-arrow:before {content: \"▸\";float: left;margin-right: 0.25em;color: #696969;}#sk-container-id-13 label.sk-toggleable__label-arrow:hover:before {color: black;}#sk-container-id-13 div.sk-estimator:hover label.sk-toggleable__label-arrow:before {color: black;}#sk-container-id-13 div.sk-toggleable__content {max-height: 0;max-width: 0;overflow: hidden;text-align: left;background-color: #f0f8ff;}#sk-container-id-13 div.sk-toggleable__content pre {margin: 0.2em;color: black;border-radius: 0.25em;background-color: #f0f8ff;}#sk-container-id-13 input.sk-toggleable__control:checked~div.sk-toggleable__content {max-height: 200px;max-width: 100%;overflow: auto;}#sk-container-id-13 input.sk-toggleable__control:checked~label.sk-toggleable__label-arrow:before {content: \"▾\";}#sk-container-id-13 div.sk-estimator input.sk-toggleable__control:checked~label.sk-toggleable__label {background-color: #d4ebff;}#sk-container-id-13 div.sk-label input.sk-toggleable__control:checked~label.sk-toggleable__label {background-color: #d4ebff;}#sk-container-id-13 input.sk-hidden--visually {border: 0;clip: rect(1px 1px 1px 1px);clip: rect(1px, 1px, 1px, 1px);height: 1px;margin: -1px;overflow: hidden;padding: 0;position: absolute;width: 1px;}#sk-container-id-13 div.sk-estimator {font-family: monospace;background-color: #f0f8ff;border: 1px dotted black;border-radius: 0.25em;box-sizing: border-box;margin-bottom: 0.5em;}#sk-container-id-13 div.sk-estimator:hover {background-color: #d4ebff;}#sk-container-id-13 div.sk-parallel-item::after {content: \"\";width: 100%;border-bottom: 1px solid gray;flex-grow: 1;}#sk-container-id-13 div.sk-label:hover label.sk-toggleable__label {background-color: #d4ebff;}#sk-container-id-13 div.sk-serial::before {content: \"\";position: absolute;border-left: 1px solid gray;box-sizing: border-box;top: 0;bottom: 0;left: 50%;z-index: 0;}#sk-container-id-13 div.sk-serial {display: flex;flex-direction: column;align-items: center;background-color: white;padding-right: 0.2em;padding-left: 0.2em;position: relative;}#sk-container-id-13 div.sk-item {position: relative;z-index: 1;}#sk-container-id-13 div.sk-parallel {display: flex;align-items: stretch;justify-content: center;background-color: white;position: relative;}#sk-container-id-13 div.sk-item::before, #sk-container-id-13 div.sk-parallel-item::before {content: \"\";position: absolute;border-left: 1px solid gray;box-sizing: border-box;top: 0;bottom: 0;left: 50%;z-index: -1;}#sk-container-id-13 div.sk-parallel-item {display: flex;flex-direction: column;z-index: 1;position: relative;background-color: white;}#sk-container-id-13 div.sk-parallel-item:first-child::after {align-self: flex-end;width: 50%;}#sk-container-id-13 div.sk-parallel-item:last-child::after {align-self: flex-start;width: 50%;}#sk-container-id-13 div.sk-parallel-item:only-child::after {width: 0;}#sk-container-id-13 div.sk-dashed-wrapped {border: 1px dashed gray;margin: 0 0.4em 0.5em 0.4em;box-sizing: border-box;padding-bottom: 0.4em;background-color: white;}#sk-container-id-13 div.sk-label label {font-family: monospace;font-weight: bold;display: inline-block;line-height: 1.2em;}#sk-container-id-13 div.sk-label-container {text-align: center;}#sk-container-id-13 div.sk-container {/* jupyter's `normalize.less` sets `[hidden] { display: none; }` but bootstrap.min.css set `[hidden] { display: none !important; }` so we also need the `!important` here to be able to override the default hidden behavior on the sphinx rendered scikit-learn.org. See: https://github.com/scikit-learn/scikit-learn/issues/21755 */display: inline-block !important;position: relative;}#sk-container-id-13 div.sk-text-repr-fallback {display: none;}</style><div id=\"sk-container-id-13\" class=\"sk-top-container\"><div class=\"sk-text-repr-fallback\"><pre>GridSearchCV(cv=5, estimator=RandomForestRegressor(),\n",
              "             param_grid={&#x27;max_depth&#x27;: [None, 5, 10, 20],\n",
              "                         &#x27;n_estimators&#x27;: [100, 300, 500]},\n",
              "             scoring=&#x27;neg_mean_squared_error&#x27;)</pre><b>In a Jupyter environment, please rerun this cell to show the HTML representation or trust the notebook. <br />On GitHub, the HTML representation is unable to render, please try loading this page with nbviewer.org.</b></div><div class=\"sk-container\" hidden><div class=\"sk-item sk-dashed-wrapped\"><div class=\"sk-label-container\"><div class=\"sk-label sk-toggleable\"><input class=\"sk-toggleable__control sk-hidden--visually\" id=\"sk-estimator-id-25\" type=\"checkbox\" ><label for=\"sk-estimator-id-25\" class=\"sk-toggleable__label sk-toggleable__label-arrow\">GridSearchCV</label><div class=\"sk-toggleable__content\"><pre>GridSearchCV(cv=5, estimator=RandomForestRegressor(),\n",
              "             param_grid={&#x27;max_depth&#x27;: [None, 5, 10, 20],\n",
              "                         &#x27;n_estimators&#x27;: [100, 300, 500]},\n",
              "             scoring=&#x27;neg_mean_squared_error&#x27;)</pre></div></div></div><div class=\"sk-parallel\"><div class=\"sk-parallel-item\"><div class=\"sk-item\"><div class=\"sk-label-container\"><div class=\"sk-label sk-toggleable\"><input class=\"sk-toggleable__control sk-hidden--visually\" id=\"sk-estimator-id-26\" type=\"checkbox\" ><label for=\"sk-estimator-id-26\" class=\"sk-toggleable__label sk-toggleable__label-arrow\">estimator: RandomForestRegressor</label><div class=\"sk-toggleable__content\"><pre>RandomForestRegressor()</pre></div></div></div><div class=\"sk-serial\"><div class=\"sk-item\"><div class=\"sk-estimator sk-toggleable\"><input class=\"sk-toggleable__control sk-hidden--visually\" id=\"sk-estimator-id-27\" type=\"checkbox\" ><label for=\"sk-estimator-id-27\" class=\"sk-toggleable__label sk-toggleable__label-arrow\">RandomForestRegressor</label><div class=\"sk-toggleable__content\"><pre>RandomForestRegressor()</pre></div></div></div></div></div></div></div></div></div></div>"
            ]
          },
          "metadata": {},
          "execution_count": 532
        }
      ]
    },
    {
      "cell_type": "code",
      "source": [
        "# Best parameters and model\n",
        "best_params = grid_search.best_params_\n",
        "best_model = grid_search.best_estimator_"
      ],
      "metadata": {
        "id": "QNaO7GSWTn_L"
      },
      "execution_count": 533,
      "outputs": []
    },
    {
      "cell_type": "code",
      "source": [
        "# Evaluate the model\n",
        "y_pred = best_model.predict(X_test)\n",
        "mse = mean_squared_error(y_test, y_pred)\n",
        "rmse = mse ** 0.5\n",
        "\n",
        "print(f\"Root Mean Squared Error: {rmse}\")"
      ],
      "metadata": {
        "colab": {
          "base_uri": "https://localhost:8080/"
        },
        "id": "rENCRRkIToDp",
        "outputId": "19f749f4-9f3b-48cc-df3c-576550db1a38"
      },
      "execution_count": 534,
      "outputs": [
        {
          "output_type": "stream",
          "name": "stdout",
          "text": [
            "Root Mean Squared Error: 47595.73351112389\n"
          ]
        }
      ]
    },
    {
      "cell_type": "code",
      "source": [
        "from sklearn.model_selection import cross_val_score"
      ],
      "metadata": {
        "id": "Nk62Hv9MW52C"
      },
      "execution_count": 535,
      "outputs": []
    },
    {
      "cell_type": "code",
      "source": [
        "rf = RandomForestRegressor(n_estimators=100, max_depth=None)  # Use the best hyperparameters here"
      ],
      "metadata": {
        "id": "zKRTRExpW6XY"
      },
      "execution_count": 536,
      "outputs": []
    },
    {
      "cell_type": "code",
      "source": [
        "# Performing cross-validation\n",
        "cv_scores = cross_val_score(rf, X_train, y_train, cv=5, scoring='neg_mean_squared_error')\n"
      ],
      "metadata": {
        "id": "3nCbNgxwW6m4"
      },
      "execution_count": 537,
      "outputs": []
    },
    {
      "cell_type": "code",
      "source": [
        "# Calculating root mean squared error (RMSE) for cross-validation scores\n",
        "rmse_scores = np.sqrt(-cv_scores)  # Calculate RMSE scores"
      ],
      "metadata": {
        "id": "u_pnL6E6XDEw"
      },
      "execution_count": 538,
      "outputs": []
    },
    {
      "cell_type": "code",
      "source": [
        "# Print the RMSE scores for each fold\n",
        "print(\"RMSE scores for each fold:\", rmse_scores)"
      ],
      "metadata": {
        "colab": {
          "base_uri": "https://localhost:8080/"
        },
        "id": "pPVu6QliXDHz",
        "outputId": "e89eaebf-6148-4e18-efc8-f1e308aeac39"
      },
      "execution_count": 539,
      "outputs": [
        {
          "output_type": "stream",
          "name": "stdout",
          "text": [
            "RMSE scores for each fold: [75387.20805611 48458.86053804 81797.59327182 38359.26346013\n",
            " 73257.5180599 ]\n"
          ]
        }
      ]
    },
    {
      "cell_type": "code",
      "source": [
        "# Print the average RMSE score and its standard deviation\n",
        "print(f\"Average RMSE: {np.mean(rmse_scores):.4f} (+/- {np.std(rmse_scores):.4f})\")"
      ],
      "metadata": {
        "colab": {
          "base_uri": "https://localhost:8080/"
        },
        "id": "XVlMw2KaXDKj",
        "outputId": "547dac1c-5384-4170-e9b3-53d1f847dcda"
      },
      "execution_count": 540,
      "outputs": [
        {
          "output_type": "stream",
          "name": "stdout",
          "text": [
            "Average RMSE: 63452.0887 (+/- 16909.1563)\n"
          ]
        }
      ]
    },
    {
      "cell_type": "code",
      "source": [
        "import matplotlib.pyplot as plt\n",
        "\n",
        "# Assuming y_test contains the actual target values from the test set\n",
        "plt.figure(figsize=(8, 6))\n",
        "plt.scatter(y_test, y_pred, alpha=0.5)\n",
        "plt.title('RandomForestRegressor: Actual vs Predicted')\n",
        "plt.xlabel('Actual values')\n",
        "plt.ylabel('Predicted values')\n",
        "plt.show()"
      ],
      "metadata": {
        "colab": {
          "base_uri": "https://localhost:8080/",
          "height": 564
        },
        "id": "sylyBD7eUFiG",
        "outputId": "4e7682fd-5ffd-4e8c-bcca-a7a99988e5c7"
      },
      "execution_count": 541,
      "outputs": [
        {
          "output_type": "display_data",
          "data": {
            "text/plain": [
              "<Figure size 800x600 with 1 Axes>"
            ],
            "image/png": "[encoded data removed]"
          },
          "metadata": {}
        }
      ]
    },
    {
      "cell_type": "code",
      "source": [
        "from sklearn.ensemble import GradientBoostingRegressor\n",
        "from sklearn.svm import SVR\n",
        "import numpy as np"
      ],
      "metadata": {
        "id": "-FPyHutsUFq8"
      },
      "execution_count": 542,
      "outputs": []
    },
    {
      "cell_type": "code",
      "source": [
        "# Initialize Gradient Boosting Regressor\n",
        "gradient_boosting = GradientBoostingRegressor()"
      ],
      "metadata": {
        "id": "KrkjwDsUUFt-"
      },
      "execution_count": 543,
      "outputs": []
    },
    {
      "cell_type": "code",
      "source": [
        "# Fit the Gradient Boosting Regressor\n",
        "gradient_boosting.fit(X_train, y_train)"
      ],
      "metadata": {
        "colab": {
          "base_uri": "https://localhost:8080/",
          "height": 74
        },
        "id": "zFDTBQ2CUFwl",
        "outputId": "592efe24-5ebc-4fde-8631-afce68219378"
      },
      "execution_count": 544,
      "outputs": [
        {
          "output_type": "execute_result",
          "data": {
            "text/plain": [
              "GradientBoostingRegressor()"
            ],
            "text/html": [
              "<style>#sk-container-id-14 {color: black;background-color: white;}#sk-container-id-14 pre{padding: 0;}#sk-container-id-14 div.sk-toggleable {background-color: white;}#sk-container-id-14 label.sk-toggleable__label {cursor: pointer;display: block;width: 100%;margin-bottom: 0;padding: 0.3em;box-sizing: border-box;text-align: center;}#sk-container-id-14 label.sk-toggleable__label-arrow:before {content: \"▸\";float: left;margin-right: 0.25em;color: #696969;}#sk-container-id-14 label.sk-toggleable__label-arrow:hover:before {color: black;}#sk-container-id-14 div.sk-estimator:hover label.sk-toggleable__label-arrow:before {color: black;}#sk-container-id-14 div.sk-toggleable__content {max-height: 0;max-width: 0;overflow: hidden;text-align: left;background-color: #f0f8ff;}#sk-container-id-14 div.sk-toggleable__content pre {margin: 0.2em;color: black;border-radius: 0.25em;background-color: #f0f8ff;}#sk-container-id-14 input.sk-toggleable__control:checked~div.sk-toggleable__content {max-height: 200px;max-width: 100%;overflow: auto;}#sk-container-id-14 input.sk-toggleable__control:checked~label.sk-toggleable__label-arrow:before {content: \"▾\";}#sk-container-id-14 div.sk-estimator input.sk-toggleable__control:checked~label.sk-toggleable__label {background-color: #d4ebff;}#sk-container-id-14 div.sk-label input.sk-toggleable__control:checked~label.sk-toggleable__label {background-color: #d4ebff;}#sk-container-id-14 input.sk-hidden--visually {border: 0;clip: rect(1px 1px 1px 1px);clip: rect(1px, 1px, 1px, 1px);height: 1px;margin: -1px;overflow: hidden;padding: 0;position: absolute;width: 1px;}#sk-container-id-14 div.sk-estimator {font-family: monospace;background-color: #f0f8ff;border: 1px dotted black;border-radius: 0.25em;box-sizing: border-box;margin-bottom: 0.5em;}#sk-container-id-14 div.sk-estimator:hover {background-color: #d4ebff;}#sk-container-id-14 div.sk-parallel-item::after {content: \"\";width: 100%;border-bottom: 1px solid gray;flex-grow: 1;}#sk-container-id-14 div.sk-label:hover label.sk-toggleable__label {background-color: #d4ebff;}#sk-container-id-14 div.sk-serial::before {content: \"\";position: absolute;border-left: 1px solid gray;box-sizing: border-box;top: 0;bottom: 0;left: 50%;z-index: 0;}#sk-container-id-14 div.sk-serial {display: flex;flex-direction: column;align-items: center;background-color: white;padding-right: 0.2em;padding-left: 0.2em;position: relative;}#sk-container-id-14 div.sk-item {position: relative;z-index: 1;}#sk-container-id-14 div.sk-parallel {display: flex;align-items: stretch;justify-content: center;background-color: white;position: relative;}#sk-container-id-14 div.sk-item::before, #sk-container-id-14 div.sk-parallel-item::before {content: \"\";position: absolute;border-left: 1px solid gray;box-sizing: border-box;top: 0;bottom: 0;left: 50%;z-index: -1;}#sk-container-id-14 div.sk-parallel-item {display: flex;flex-direction: column;z-index: 1;position: relative;background-color: white;}#sk-container-id-14 div.sk-parallel-item:first-child::after {align-self: flex-end;width: 50%;}#sk-container-id-14 div.sk-parallel-item:last-child::after {align-self: flex-start;width: 50%;}#sk-container-id-14 div.sk-parallel-item:only-child::after {width: 0;}#sk-container-id-14 div.sk-dashed-wrapped {border: 1px dashed gray;margin: 0 0.4em 0.5em 0.4em;box-sizing: border-box;padding-bottom: 0.4em;background-color: white;}#sk-container-id-14 div.sk-label label {font-family: monospace;font-weight: bold;display: inline-block;line-height: 1.2em;}#sk-container-id-14 div.sk-label-container {text-align: center;}#sk-container-id-14 div.sk-container {/* jupyter's `normalize.less` sets `[hidden] { display: none; }` but bootstrap.min.css set `[hidden] { display: none !important; }` so we also need the `!important` here to be able to override the default hidden behavior on the sphinx rendered scikit-learn.org. See: https://github.com/scikit-learn/scikit-learn/issues/21755 */display: inline-block !important;position: relative;}#sk-container-id-14 div.sk-text-repr-fallback {display: none;}</style><div id=\"sk-container-id-14\" class=\"sk-top-container\"><div class=\"sk-text-repr-fallback\"><pre>GradientBoostingRegressor()</pre><b>In a Jupyter environment, please rerun this cell to show the HTML representation or trust the notebook. <br />On GitHub, the HTML representation is unable to render, please try loading this page with nbviewer.org.</b></div><div class=\"sk-container\" hidden><div class=\"sk-item\"><div class=\"sk-estimator sk-toggleable\"><input class=\"sk-toggleable__control sk-hidden--visually\" id=\"sk-estimator-id-28\" type=\"checkbox\" checked><label for=\"sk-estimator-id-28\" class=\"sk-toggleable__label sk-toggleable__label-arrow\">GradientBoostingRegressor</label><div class=\"sk-toggleable__content\"><pre>GradientBoostingRegressor()</pre></div></div></div></div></div>"
            ]
          },
          "metadata": {},
          "execution_count": 544
        }
      ]
    },
    {
      "cell_type": "code",
      "source": [
        "# Predict using Gradient Boosting Regressor\n",
        "y_pred_gb = gradient_boosting.predict(X_test)"
      ],
      "metadata": {
        "id": "Ip-lqI7SUFzo"
      },
      "execution_count": 545,
      "outputs": []
    },
    {
      "cell_type": "code",
      "source": [
        "# Calculate RMSE for Gradient Boosting Regressor\n",
        "mse_gb = mean_squared_error(y_test, y_pred_gb)\n",
        "rmse_gb = np.sqrt(mse_gb)\n",
        "print(f\"Gradient Boosting Regressor RMSE: {rmse_gb}\")"
      ],
      "metadata": {
        "colab": {
          "base_uri": "https://localhost:8080/"
        },
        "id": "l8IIiWznUZg0",
        "outputId": "d5265f80-abd2-4f47-d9e4-5c22c23891ad"
      },
      "execution_count": 546,
      "outputs": [
        {
          "output_type": "stream",
          "name": "stdout",
          "text": [
            "Gradient Boosting Regressor RMSE: 74603.80703810469\n"
          ]
        }
      ]
    },
    {
      "cell_type": "code",
      "source": [
        "# Performing cross-validation\n",
        "cv_scores_gb = cross_val_score(gradient_boosting, X_train, y_train, cv=5, scoring='neg_mean_squared_error')"
      ],
      "metadata": {
        "id": "4yWQ9Uc5YbLL"
      },
      "execution_count": 547,
      "outputs": []
    },
    {
      "cell_type": "code",
      "source": [
        "# Calculating RMSE for cross-validation scores\n",
        "rmse_scores_gb = np.sqrt(-cv_scores_gb)  # Calculate RMSE scores"
      ],
      "metadata": {
        "id": "Isi42zRjYbPh"
      },
      "execution_count": 548,
      "outputs": []
    },
    {
      "cell_type": "code",
      "source": [
        "# Print the RMSE scores for each fold\n",
        "print(\"RMSE scores for each fold:\", rmse_scores_gb)\n"
      ],
      "metadata": {
        "colab": {
          "base_uri": "https://localhost:8080/"
        },
        "id": "FDgWHXQmYeey",
        "outputId": "b7387885-91d8-4ce9-f970-fcb1c4e9f99b"
      },
      "execution_count": 549,
      "outputs": [
        {
          "output_type": "stream",
          "name": "stdout",
          "text": [
            "RMSE scores for each fold: [69096.36798934 71789.89800771 91273.509911   54695.56087431\n",
            " 81478.87393646]\n"
          ]
        }
      ]
    },
    {
      "cell_type": "code",
      "source": [
        "# Print the average RMSE score and its standard deviation\n",
        "print(f\"Average RMSE: {np.mean(rmse_scores_gb):.4f} (+/- {np.std(rmse_scores_gb):.4f})\")"
      ],
      "metadata": {
        "colab": {
          "base_uri": "https://localhost:8080/"
        },
        "id": "YWKmqW__Yehp",
        "outputId": "d766532a-993f-49df-98ac-735b7fd3633a"
      },
      "execution_count": 550,
      "outputs": [
        {
          "output_type": "stream",
          "name": "stdout",
          "text": [
            "Average RMSE: 73666.8421 (+/- 12291.0069)\n"
          ]
        }
      ]
    },
    {
      "cell_type": "code",
      "source": [
        "# Visualize Gradient Boosting Regressor predictions\n",
        "plt.figure(figsize=(8, 6))\n",
        "plt.scatter(y_test, y_pred_gb, alpha=0.5)\n",
        "plt.title('Gradient Boosting Regressor: Actual vs Predicted')\n",
        "plt.xlabel('Actual values')\n",
        "plt.ylabel('Predicted values')\n",
        "plt.show()"
      ],
      "metadata": {
        "colab": {
          "base_uri": "https://localhost:8080/",
          "height": 564
        },
        "id": "kHSMYjgUUZjl",
        "outputId": "c831ed77-d0cf-4e20-c9b3-9e2b0eba314d"
      },
      "execution_count": 551,
      "outputs": [
        {
          "output_type": "display_data",
          "data": {
            "text/plain": [
              "<Figure size 800x600 with 1 Axes>"
            ],
            "image/png": "[encoded data removed]"
          },
          "metadata": {}
        }
      ]
    },
    {
      "cell_type": "code",
      "source": [
        "# Initialize Support Vector Regressor (SVR)\n",
        "svr = SVR()"
      ],
      "metadata": {
        "id": "FMut8N0zUZmV"
      },
      "execution_count": 552,
      "outputs": []
    },
    {
      "cell_type": "code",
      "source": [
        "# Fit the SVR\n",
        "svr.fit(X_train, y_train)\n",
        "\n",
        "# Predict using SVR\n",
        "y_pred_svr = svr.predict(X_test)"
      ],
      "metadata": {
        "id": "x0hBXoWRUZo1"
      },
      "execution_count": 553,
      "outputs": []
    },
    {
      "cell_type": "code",
      "source": [
        "# Calculate RMSE for SVR\n",
        "mse_svr = mean_squared_error(y_test, y_pred_svr)\n",
        "rmse_svr = np.sqrt(mse_svr)\n",
        "print(f\"Support Vector Regressor RMSE: {rmse_svr}\")"
      ],
      "metadata": {
        "colab": {
          "base_uri": "https://localhost:8080/"
        },
        "id": "mB9eiHzVUZrC",
        "outputId": "2dc860df-662c-4178-b9eb-51c3248bc210"
      },
      "execution_count": 554,
      "outputs": [
        {
          "output_type": "stream",
          "name": "stdout",
          "text": [
            "Support Vector Regressor RMSE: 248263.6239936689\n"
          ]
        }
      ]
    },
    {
      "cell_type": "code",
      "source": [
        "# Performing cross-validation\n",
        "cv_scores_svr = cross_val_score(svr, X_train, y_train, cv=5, scoring='neg_mean_squared_error')"
      ],
      "metadata": {
        "id": "DdNu-B7OZAiJ"
      },
      "execution_count": 555,
      "outputs": []
    },
    {
      "cell_type": "code",
      "source": [
        "# Calculating RMSE for cross-validation scores\n",
        "rmse_scores_svr = np.sqrt(-cv_scores_svr)  # Calculate RMSE scores\n"
      ],
      "metadata": {
        "id": "Z0U1JTqQZAm0"
      },
      "execution_count": 556,
      "outputs": []
    },
    {
      "cell_type": "code",
      "source": [
        "# Print the RMSE scores for each fold\n",
        "print(\"RMSE scores for each fold:\", rmse_scores_svr)\n"
      ],
      "metadata": {
        "colab": {
          "base_uri": "https://localhost:8080/"
        },
        "id": "1lFNzeKGZAqo",
        "outputId": "587acf74-eb89-4cdc-8e3a-2c5d80abc2d2"
      },
      "execution_count": 557,
      "outputs": [
        {
          "output_type": "stream",
          "name": "stdout",
          "text": [
            "RMSE scores for each fold: [263727.42627139 251827.76757745 311810.98516958 241473.73043513\n",
            " 271924.95672081]\n"
          ]
        }
      ]
    },
    {
      "cell_type": "code",
      "source": [
        "# Print the average RMSE score and its standard deviation\n",
        "print(f\"Average RMSE: {np.mean(rmse_scores_svr):.4f} (+/- {np.std(rmse_scores_svr):.4f})\")"
      ],
      "metadata": {
        "colab": {
          "base_uri": "https://localhost:8080/"
        },
        "id": "wSLpiz-4ZG1u",
        "outputId": "d2239615-b78c-4ab2-d2e1-d4f880ec9f56"
      },
      "execution_count": 558,
      "outputs": [
        {
          "output_type": "stream",
          "name": "stdout",
          "text": [
            "Average RMSE: 268152.9732 (+/- 24158.3512)\n"
          ]
        }
      ]
    },
    {
      "cell_type": "code",
      "source": [
        "# Visualize SVR predictions\n",
        "plt.figure(figsize=(8, 6))\n",
        "plt.scatter(y_test, y_pred_svr, alpha=0.5)\n",
        "plt.title('Support Vector Regressor: Actual vs Predicted')\n",
        "plt.xlabel('Actual values')\n",
        "plt.ylabel('Predicted values')\n",
        "plt.show()"
      ],
      "metadata": {
        "colab": {
          "base_uri": "https://localhost:8080/",
          "height": 564
        },
        "id": "oAADVtYbUkI9",
        "outputId": "c88ed1ab-381a-4900-dd78-d81579afa51d"
      },
      "execution_count": 559,
      "outputs": [
        {
          "output_type": "display_data",
          "data": {
            "text/plain": [
              "<Figure size 800x600 with 1 Axes>"
            ],
            "image/png": "[encoded data removed]"
          },
          "metadata": {}
        }
      ]
    },
    {
      "cell_type": "code",
      "source": [
        "import matplotlib.pyplot as plt\n",
        "import numpy as np\n",
        "from sklearn.ensemble import GradientBoostingRegressor, RandomForestRegressor\n",
        "from sklearn.svm import SVR\n",
        "from sklearn.metrics import mean_squared_error"
      ],
      "metadata": {
        "id": "DtjuadpPUkOK"
      },
      "execution_count": 560,
      "outputs": []
    },
    {
      "cell_type": "code",
      "source": [
        "# Assuming best_model is the trained RandomForestRegressor model\n",
        "# Training and evaluation are already performed on X_train, y_train, X_test, y_test\n",
        "\n",
        "# Initialize Gradient Boosting Regressor\n",
        "gradient_boosting = GradientBoostingRegressor()\n",
        "gradient_boosting.fit(X_train, y_train)\n",
        "y_pred_gb = gradient_boosting.predict(X_test)\n",
        "rmse_gb = mean_squared_error(y_test, y_pred_gb, squared=False)"
      ],
      "metadata": {
        "id": "oi5iqaRkUmoa"
      },
      "execution_count": 561,
      "outputs": []
    },
    {
      "cell_type": "code",
      "source": [
        "# Initialize Support Vector Regressor (SVR)\n",
        "svr = SVR()\n",
        "svr.fit(X_train, y_train)\n",
        "y_pred_svr = svr.predict(X_test)\n",
        "rmse_svr = mean_squared_error(y_test, y_pred_svr, squared=False)"
      ],
      "metadata": {
        "id": "iob15lfTUmrt"
      },
      "execution_count": 562,
      "outputs": []
    },
    {
      "cell_type": "code",
      "source": [
        "# RandomForestRegressor predictions (already trained)\n",
        "y_pred_rf = best_model.predict(X_test)\n",
        "rmse_rf = mean_squared_error(y_test, y_pred_rf, squared=False)"
      ],
      "metadata": {
        "id": "q2kNrnEvUmwM"
      },
      "execution_count": 563,
      "outputs": []
    },
    {
      "cell_type": "code",
      "source": [
        "# Create a bar plot\n",
        "models = ['RandomForestRegressor', 'GradientBoostingRegressor', 'SupportVectorRegressor']\n",
        "rmse_values = [rmse_rf, rmse_gb, rmse_svr]"
      ],
      "metadata": {
        "id": "IoDjoyRxUm17"
      },
      "execution_count": 564,
      "outputs": []
    },
    {
      "cell_type": "code",
      "source": [
        "plt.figure(figsize=(8, 6))\n",
        "plt.bar(models, rmse_values, color=['blue', 'orange', 'green'])\n",
        "plt.title('Comparison of RMSE values')\n",
        "plt.xlabel('Models')\n",
        "plt.ylabel('RMSE')\n",
        "plt.ylim(0, max(rmse_values) * 1.2)  # Set ylim for better visualization\n",
        "plt.show()"
      ],
      "metadata": {
        "colab": {
          "base_uri": "https://localhost:8080/",
          "height": 564
        },
        "id": "rMaHYpNoUkQ9",
        "outputId": "7c3cfee0-6396-490f-e7aa-9d837306ca91"
      },
      "execution_count": 565,
      "outputs": [
        {
          "output_type": "display_data",
          "data": {
            "text/plain": [
              "<Figure size 800x600 with 1 Axes>"
            ],
            "image/png": "[encoded data removed]"
          },
          "metadata": {}
        }
      ]
    },
    {
      "cell_type": "code",
      "source": [
        "pip install praw"
      ],
      "metadata": {
        "id": "IhLvdUsPp9FP",
        "colab": {
          "base_uri": "https://localhost:8080/"
        },
        "outputId": "38a94f15-ba72-470f-af76-0e465aac4320"
      },
      "execution_count": 566,
      "outputs": [
        {
          "output_type": "stream",
          "name": "stdout",
          "text": [
            "Requirement already satisfied: praw in /usr/local/lib/python3.10/dist-packages (7.7.1)\n",
            "Requirement already satisfied: prawcore<3,>=2.1 in /usr/local/lib/python3.10/dist-packages (from praw) (2.4.0)\n",
            "Requirement already satisfied: update-checker>=0.18 in /usr/local/lib/python3.10/dist-packages (from praw) (0.18.0)\n",
            "Requirement already satisfied: websocket-client>=0.54.0 in /usr/local/lib/python3.10/dist-packages (from praw) (1.7.0)\n",
            "Requirement already satisfied: requests<3.0,>=2.6.0 in /usr/local/lib/python3.10/dist-packages (from prawcore<3,>=2.1->praw) (2.31.0)\n",
            "Requirement already satisfied: charset-normalizer<4,>=2 in /usr/local/lib/python3.10/dist-packages (from requests<3.0,>=2.6.0->prawcore<3,>=2.1->praw) (3.3.2)\n",
            "Requirement already satisfied: idna<4,>=2.5 in /usr/local/lib/python3.10/dist-packages (from requests<3.0,>=2.6.0->prawcore<3,>=2.1->praw) (3.6)\n",
            "Requirement already satisfied: urllib3<3,>=1.21.1 in /usr/local/lib/python3.10/dist-packages (from requests<3.0,>=2.6.0->prawcore<3,>=2.1->praw) (2.0.7)\n",
            "Requirement already satisfied: certifi>=2017.4.17 in /usr/local/lib/python3.10/dist-packages (from requests<3.0,>=2.6.0->prawcore<3,>=2.1->praw) (2023.11.17)\n"
          ]
        }
      ]
    },
    {
      "cell_type": "code",
      "source": [
        "import praw\n",
        "\n",
        "# Reddit API credentials (you need to create an app in Reddit to obtain these)\n",
        "client_id = 'grPUEiWuAjhA3Et8c6Pn_Q'\n",
        "client_secret = '62H9rNmzcWVjann8ZH3BCz2xYf-9mQ'\n",
        "user_agent = 'CASalah'\n",
        "\n",
        "# Initialize PRAW with your credentials\n",
        "reddit = praw.Reddit(client_id=client_id, client_secret=client_secret, user_agent=user_agent)\n",
        "\n",
        "# URL of the Reddit post\n",
        "post_url = 'https://www.reddit.com/r/Dublin/comments/12mbt0g/another_day_on_the_red_line_luas/'\n",
        "\n",
        "# Fetch Reddit post data\n",
        "try:\n",
        "    submission = reddit.submission(url=post_url)\n",
        "\n",
        "    # Print post title and content\n",
        "    print(f\"Post Title: {submission.title}\\n\")\n",
        "    print(f\"Post Content: {submission.selftext}\\n\")\n",
        "\n",
        "    # Print comments\n",
        "    print(\"Comments:\")\n",
        "    submission.comments.replace_more(limit=None)  # Retrieve all comments\n",
        "    for comment in submission.comments.list():\n",
        "        print(f\"- {comment.body}\\n\")\n",
        "except Exception as e:\n",
        "    print(f\"Error fetching Reddit post: {e}\")"
      ],
      "metadata": {
        "id": "Ci1PyPFHp9ID",
        "colab": {
          "base_uri": "https://localhost:8080/"
        },
        "outputId": "c7afa7f2-c7ec-47df-bafb-88a31bee98b5"
      },
      "execution_count": 567,
      "outputs": [
        {
          "output_type": "stream",
          "name": "stderr",
          "text": [
            "WARNING:praw:It appears that you are using PRAW in an asynchronous environment.\n",
            "It is strongly recommended to use Async PRAW: https://asyncpraw.readthedocs.io.\n",
            "See https://praw.readthedocs.io/en/latest/getting_started/multiple_instances.html#discord-bots-and-asynchronous-environments for more info.\n",
            "\n"
          ]
        },
        {
          "output_type": "stream",
          "name": "stdout",
          "text": [
            "Post Title: Another day on the Red Line LUAS…\n",
            "\n",
            "Post Content: This evening, as the tram was leaving Jervis, a guy was harassing another passenger who was seated behind him. The man got right up to the other passenger's ear and threatened him, saying, \"D’ye wanna get shanked in the neck?\" He was showboating to some boys in the seats next to him, who were lapping it up. I reported the incident by texting the anti-social behaviour line (51444).\n",
            "\n",
            "Later, when the harassed passenger got off and was replaced by another passenger, the man flicked his ear and verbally abused him, making further threats. He then showed off a blade to the boys. I got off the tram and called the guards with the details.\n",
            "\n",
            "Meanwhile, I noticed a woman across the tracks who was also being harassed by a man. She asked me for help, claiming that she didn't know him. I asked if everything was alright - he told me to \"f*** off away,\" saying it was “between him and his woman”. They kept fighting and the woman spoke to him with more familiarity while he continued to threaten me.\n",
            "\n",
            "I boarded the next tram and at Heuston, plain clothes guards got on and asked if there was an incident. I overheard them further down the tram and met them at the door, telling them it was on tram ahead (you’d think they’d have copped that the original incident would’ve been further down the line by then).\n",
            "\n",
            "Anyway, I'm sick and tired of this. But also of the lack of accountability all round. I've posted about this topic before, but more people need to use the services available to them. There are ways to intervene without compromising your own safety. And I know I probably sound like a self-righteous twat. I just hope that if I'm ever on the wrong end of a similar situation, I won't be met with stony silence.\n",
            "\n",
            "Comments:\n",
            "- I think it's gotten bad especially in the past few months. I get it a lot and I've never seen as much as I have recently. Yesterday morning I went in to town with my four month old and got the luas home. It was about 12.30 in the afternoon and a man was walking the carriages getting in everybody's face. I was baby wearing and he really got in my face and kept mocking / gesturing like he was trying to grab the baby. I was so scared and my heart was racing. On the one hand, I understand why everyone on there looked the other way because they were scared too, but on the other hand I've genuinely never felt so vulnerable in broad daylight like that. I got off at the next stop, made sure he didn't and walked home.\n",
            "\n",
            "- Red line is disgusting. Moved back to Dublin from a very deprived area of Manchester and it doesn’t even come close. I routinely see violence and sexual assault and almost always nobody ever helps. There’s a hammered scumbag that gets on at Jervis every day and spits in peoples faces.\n",
            "\n",
            "- **Update:** I received a call from An Garda Síochána telling me that the original perpetrator was arrested will be in court. Detective said I may be asked to give a statement. For what it's worth in relation to this thread, he said that so few people come forward and report things that it *really does help* when they do.\n",
            "\n",
            "- Not as bad obviously, but another thing I'm noticing in the evening is so much vaping on the LUAS (and Dublin Bus). Don't know when this became socially acceptable tbh. Trying to get home from work and being engulfed in raspberry scented plooms of some arsehole's second hand breath.\n",
            "\n",
            "- Last time I was on the green line a woman spat on a ticket inspector 3 times because she hadn't paid her ticket and they fined her and kicked her off.\n",
            "\n",
            "Absolute scum of the earth.\n",
            "\n",
            "- The amount of anti social behaviour and just sheer scumbaggery around dublin city centre is crazy tbh. Lived all over Europe and never seen anything like it. There's of course crime every but just the amount of nonsense scumbags are allowed to do in the city centre is mad and honestly wouldn't be allowed in very few other places. It really is ruining the city but as per usual the wankers running the place won't get off their holes and do something about it until a famous person or politicians family member is stabbed to death or something and they're forced to do something\n",
            "\n",
            "- Me and my friends had a glass bottle thrown at us at the James’s stop, some crackhead and his moth with paranoid delusions. We just arrived at the stop and had to run away with 20 seconds. Anyway we were a bit well on so we didn’t go to the guards about it but I later found out he was done for assaulting a couple at the Rialto stop.\n",
            "\n",
            "- So kind of transport police would be ideal for types of situations.\n",
            "\n",
            "- Of all the public transport companies operating in Ireland, Luas just have zero fucks about passengers. The whole thing was designed around having the least amount of staff and any hassle is someone else’s problem.\n",
            "\n",
            "- I witnessed a pretty violent assault in Smithfield the other night and reported it to Gardai that luckily crossed my path shortly afterwards. In fairness to them, they had just gotten out of their car to go into a shop but got straight back in and sped off to try and find those involved.\n",
            "\n",
            "- Why can't they have constant security on every tram with stun guns. This country needs proper security if we want civilization.\n",
            "\n",
            "- You are a good soul, sir\n",
            "\n",
            "- Fair play for doing something. I didn’t know there was an antisocial behaviour line you could contact.\n",
            "\n",
            "- Had a incedent a few months ago where a extremely drunk guy was swinging a knife around a full tram a few stops before jervis\n",
            "\n",
            "- Grey tracksuits everywhere, if I go anywhere I see grey tracksuits, it's the uniform for scumbags.\n",
            "\n",
            "Do their parents not realize by buying the grey tracksuit for the little unemployed scrote they're contributing to the grey scrote problem?\n",
            "\n",
            "- Need transport police for the Luas it’s just a free babysitting service for junkies\n",
            "\n",
            "- It's so odd cause I have never had any bad experiences from my commute at 7:30am and 5:30pm. I can only assume these are avoided times by trouble makers. It's an absolute shit show by all the stories I hear.\n",
            "\n",
            "- Dublin has turned into a right kip. Kids and teenagers running riot while all the adults look away. I lived there many years, enjoyed them all. then (2014)it had its problems but never felt unsafe. returned for an event a while back, Kids running riot abusing everyone in daylight. Half of Talbot St on crack and hop on luas to abuse everyone. The lunatics have taken over the asylum I'm sorry to say\n",
            "\n",
            "- I once tried using the service when a guy was harassing a woman and following her around the DART, but the message didn't go through cause I had no balance (which I never do, cause the 20€ allowance just covers what I normally need), and it's a bit disgraceful that you have to pay for this type of service.\n",
            "\n",
            "And nobody stood up to help the woman because how do you confront a grown ass guy on crack? \"Sir, please calm down?\"\n",
            "\n",
            "Ps: I take the red luas every morning to work, but on my way back I take the bus cause I can no longer handle the anxiety of having to go through Smithfield/Jervis/Abbey st every afternoon. 😢\n",
            "\n",
            "- This is exactly why I always drive into town.\n",
            "\n",
            "- The country needs to get far tougher on crime, it feels like it’s getting out of control.\n",
            "\n",
            "- This place is a shit hole with absolutely zero charm. Your only purpose when living on Ireland is to be a bank for others, after that put up with things and scum ruining your life.\n",
            "\n",
            "- Or gray, same sentiment applies it's just a different shade of scrote.\n",
            "\n",
            "- This is not a luas proble. \n",
            "\n",
            "This is a Dublin problem.\n",
            "\n",
            "- 🤖-Name-🤖\n",
            "\n",
            "- That’s terrible. We need to look out for one another more. All it takes is one or two people to speak up and outnumber the perpetrator.\n",
            "\n",
            "- [deleted]\n",
            "\n",
            "- Have to agree, very rarely see any issues on trams to even the roughest areas of Manchester. Moved there from Dublin 2 years ago and very refreshing to feel grand as a woman alone on the last tram/train of the night. City centre feels far, far safer too.. it’s mad the way Dublin has gone.\n",
            "\n",
            "- Well done.\n",
            "\n",
            "- Oh I report that shit too. Sue me.\n",
            "\n",
            "- There's an Irish Rail staff that vapes on the train from Hazelhatch into the city. It's insane!\n",
            "\n",
            "- today on the red line some fucking knobhead was smoking a real cig.\n",
            "\n",
            "- Totaly agree.. All European cities have crime and assholes but at least there is SOME internal logic to most of it.. Here.. It's just anti social behavior for anti social behavior sakebecuase no one including security and garda does anything to stop it, it's like they are testing how far they can go with it.. It's insane.. I never even heard the term anti social behavior until I came to Ireland but here it's so common that most people just shrug and go \"another day in Ireland\"\n",
            "\n",
            "In a country that loves to name and shame people for sexual crimes, mabye start doing it for anti social behavior as well.. Embarrass them.. In Norway if you pull shit like this random strangers will call you out, scold you like you are a 5 year old child and talk shit about your family for not teaching you better.. \n",
            "\n",
            "I've only seen it happen once here and it was when a guy pulled his dick out on o connel street to take a piss in broad daylight.. He was shamed for it and put his dick away really fucking fast.. Embarrassment hit harder in the feels than someone getting aggressive with them..\n",
            "\n",
            "I don't understand why the locals want to make their own town less pleasant to live in.. It's baffling\n",
            "\n",
            "- Nothing more to add. Lived in Amsterdam and worse areas of Paris (St Denis, Villejuif) and the situation is still worse in Dublin. The amount of scumbags and junkies here is much higher (per capita).\n",
            "\n",
            "- Was the crackhead a Tick? 🤭\n",
            "\n",
            "- Apparently Garda don’t want it https://www.rte.ie/news/2022/0817/1316190-public-transport/\n",
            "\n",
            "- What happened??\n",
            "\n",
            "- > guy was swinging a knife around a full tram\n",
            "\n",
            "wow! In most other cities, something like this would cause an anti-terrorist police unit response.\n",
            "\n",
            "- **Mod note**\n",
            "\n",
            "We sometimes receive messages in modmail about people being scammed on Reddit while selling or buying products, tickets or services.\n",
            "\n",
            "It is best not to assume good intent while buying or selling from Redditors. In case you were scammed on Reddit, the moderation team can't help you get your money/stuff back and we can't ban users from Reddit either. We can only ban them from /r/Dublin.\n",
            "\n",
            "Most people contacting you via private messages are scammers. Beware of any private message or chat message offering to buy or sell stuff.\n",
            "\n",
            "New accounts and shadowbanned accounts may be an indicator that someone is trying to scam you, however we have seen scams coming from years-old account as well. Do not assume an account is legit because they've been on Reddit for years and have plenty of karma.\n",
            "\n",
            "We recommend against selling or buying stuff on Reddit.\n",
            "\n",
            "Platforms like [Toutless](https://toutless.com/) for tickets, or [adverts](https://www.adverts.ie/) for stuff, are better suited, though they are not scam-free.\n",
            "\n",
            "Note that it is not allowed to use /r/Dublin to sell your stuff or advertise your business. If you must, pay for Reddit Ads. You will be banned.\n",
            "\n",
            "*I am a bot, and this action was performed automatically. Please [contact the moderators of this subreddit](/message/compose/?to=/r/Dublin) if you have any questions or concerns.*\n",
            "\n",
            "- I usually hear this from people who have their headphones in, and look out of the window for the whole ride. 😄\n",
            "\n",
            "- It’s both. I’ve seen rail security clean up unpleasant situations onboard in the past but there’s never enough of them.\n",
            "\n",
            "- I agree with you and would like to think I would stand up to any of these scumbags.\n",
            "\n",
            "Unfortunately, you just don’t know who is carrying a knife these days. A scumbag would easily draw the knife when confronted and stab you. It’s just not worth the risk sadly.\n",
            "\n",
            "- >The UK Transport police exist for this reason many travel on the trains... I seen a drug deal once at a station and when the train pulled up 2 police jumped off and had the dealer in the ground then the next train another 2\n",
            "\n",
            "I was in London last weekend was kinda expecting some roadmans in the Tube, but absolutely zero. Only slight disturbance were bunch football fans chanting and with beers after the game.\n",
            "\n",
            "- It's a relief to even visit a normal city for a few days, and not having to walk around looking over your shoulder in places that are supposed to be safe\n",
            "\n",
            "- The problem is the kind of person this post mentions.\n",
            "\n",
            "It's not worth the risk of calling somebody out if they are literally carrying a blade on board a tram, and accompanied by a few other lads that they will try to impress. I'd rather keep my head down than get stabbed on the LUAS.\n",
            "\n",
            "- Patethic isnt it?! The hundreds and thousands of us that travel by bus/tram/train daily and they aren't even \"considering\" it. Joke of a country.\n",
            "\n",
            "- I have to say the canal part with the swans is lovely in the mornings 😂\n",
            "\n",
            "- Nothing ever happens on the tube\n",
            "\n",
            "- And the problem is allowed to persist.  When more people - together - stand up, bullies learn to STFU.\n",
            "\n",
            "- I understood also, that trams and busses have more antisocial behaviour than the tube, guess it's the \"social control\" because the station staff and ticketing gates.\n",
            "\n",
            "My sample was quite small though and didn't obviously ride every line nor didn't I try night service.\n",
            "\n",
            "- Unrealistically idealistic, man. You aren't going to get 5 or 6 people to band together on a commute home to stand up to a group of lads on the LUAS - it just will not happen.\n",
            "\n",
            "This is a policing/security issue, imo. One that has been allowed to percolate for a while, these people know that once they get out of town on the LUAS they can do whatever they want.\n",
            "\n"
          ]
        }
      ]
    },
    {
      "cell_type": "code",
      "source": [
        "import praw\n",
        "from textblob import TextBlob\n",
        "import pandas as pd\n",
        "\n",
        "# Reddit API credentials\n",
        "client_id = 'grPUEiWuAjhA3Et8c6Pn_Q'\n",
        "client_secret = '62H9rNmzcWVjann8ZH3BCz2xYf-9mQ'\n",
        "user_agent = 'CASalah'\n",
        "\n",
        "# Initialize PRAW with your credentials\n",
        "reddit = praw.Reddit(\n",
        "    client_id=client_id,\n",
        "    client_secret=client_secret,\n",
        "    user_agent=user_agent,\n",
        ")\n",
        "\n",
        "# URL of the Reddit post\n",
        "post_url = 'https://www.reddit.com/r/Dublin/comments/12mbt0g/another_day_on_the_red_line_luas/'\n",
        "\n",
        "# Create empty lists to store data\n",
        "comments_list = []\n",
        "sentiment_polarity = []\n",
        "sentiment_subjectivity = []\n",
        "\n",
        "# Fetch Reddit post data\n",
        "try:\n",
        "    submission = reddit.submission(url=post_url)\n",
        "\n",
        "    # Perform sentiment analysis on post content\n",
        "    post_blob = TextBlob(submission.selftext)\n",
        "    post_sentiment = post_blob.sentiment\n",
        "    print(f\"Post Title: {submission.title}\")\n",
        "    print(f\"Post Sentiment - Polarity: {post_sentiment.polarity}, Subjectivity: {post_sentiment.subjectivity}\\n\")\n",
        "\n",
        "    # Append post sentiment to lists\n",
        "    comments_list.append(\"Post\")\n",
        "    sentiment_polarity.append(post_sentiment.polarity)\n",
        "    sentiment_subjectivity.append(post_sentiment.subjectivity)\n",
        "\n",
        "    # Fetch comments and perform sentiment analysis\n",
        "    submission.comments.replace_more(limit=None)  # Retrieve all comments\n",
        "    for comment in submission.comments.list():\n",
        "        comment_blob = TextBlob(comment.body)\n",
        "        comment_sentiment = comment_blob.sentiment\n",
        "\n",
        "        # Append comment sentiment to lists\n",
        "        comments_list.append(comment.body)\n",
        "        sentiment_polarity.append(comment_sentiment.polarity)\n",
        "        sentiment_subjectivity.append(comment_sentiment.subjectivity)\n",
        "\n",
        "except Exception as e:\n",
        "    print(f\"Error fetching Reddit post: {e}\")\n",
        "\n",
        "# Create a pandas DataFrame with sentiment analysis results\n",
        "data = {\n",
        "    'Text': comments_list,\n",
        "    'Polarity': sentiment_polarity,\n",
        "    'Subjectivity': sentiment_subjectivity\n",
        "}\n",
        "\n",
        "df = pd.DataFrame(data)\n",
        "\n",
        "# Display sentiment analysis results in tabular format\n",
        "print(df)"
      ],
      "metadata": {
        "colab": {
          "base_uri": "https://localhost:8080/"
        },
        "id": "pe7LFXleYoTn",
        "outputId": "81612831-fe19-4cb5-eb71-55583c668eaa"
      },
      "execution_count": 568,
      "outputs": [
        {
          "output_type": "stream",
          "name": "stderr",
          "text": [
            "WARNING:praw:It appears that you are using PRAW in an asynchronous environment.\n",
            "It is strongly recommended to use Async PRAW: https://asyncpraw.readthedocs.io.\n",
            "See https://praw.readthedocs.io/en/latest/getting_started/multiple_instances.html#discord-bots-and-asynchronous-environments for more info.\n",
            "\n"
          ]
        },
        {
          "output_type": "stream",
          "name": "stdout",
          "text": [
            "Post Title: Another day on the Red Line LUAS…\n",
            "Post Sentiment - Polarity: 0.008523119392684613, Subjectivity: 0.4718599033816425\n",
            "\n",
            "                                                 Text  Polarity  Subjectivity\n",
            "0                                                Post  0.008523      0.471860\n",
            "1   I think it's gotten bad especially in the past... -0.069167      0.387870\n",
            "2   Red line is disgusting. Moved back to Dublin f... -0.060000      0.426667\n",
            "3   **Update:** I received a call from An Garda Sí...  0.168750      0.287500\n",
            "4   Not as bad obviously, but another thing I'm no... -0.093333      0.286667\n",
            "5   Last time I was on the green line a woman spat... -0.075000      0.416667\n",
            "6   The amount of anti social behaviour and just s... -0.075152      0.524697\n",
            "7   Me and my friends had a glass bottle thrown at...  0.000000      0.000000\n",
            "8   So kind of transport police would be ideal for...  0.750000      0.950000\n",
            "9   Of all the public transport companies operatin... -0.033333      0.288889\n",
            "10  I witnessed a pretty violent assault in Smithf... -0.020238      0.558333\n",
            "11  Why can't they have constant security on every...  0.000000      0.216667\n",
            "12                           You are a good soul, sir  0.700000      0.600000\n",
            "13  Fair play for doing something. I didn’t know t...  0.700000      0.900000\n",
            "14  Had a incedent a few months ago where a extrem... -0.137500      0.437500\n",
            "15  Grey tracksuits everywhere, if I go anywhere I... -0.077500      0.180000\n",
            "16  Need transport police for the Luas it’s just a...  0.400000      0.800000\n",
            "17  It's so odd cause I have never had any bad exp... -0.177778      0.636111\n",
            "18  Dublin has turned into a right kip. Kids and t...  0.103175      0.483730\n",
            "19  I once tried using the service when a guy was ...  0.049074      0.298148\n",
            "20      This is exactly why I always drive into town.  0.250000      0.250000\n",
            "21  The country needs to get far tougher on crime,...  0.100000      1.000000\n",
            "22  This place is a shit hole with absolutely zero... -0.075000      0.775000\n",
            "23  Or gray, same sentiment applies it's just a di...  0.000000      0.362500\n",
            "24  This is not a luas proble. \\n\\nThis is a Dubli...  0.000000      0.000000\n",
            "25                                           🤖-Name-🤖  0.000000      0.000000\n",
            "26  That’s terrible. We need to look out for one a... -0.250000      0.750000\n",
            "27                                          [deleted]  0.000000      0.000000\n",
            "28  Have to agree, very rarely see any issues on t...  0.159286      0.866667\n",
            "29                                         Well done.  0.000000      0.000000\n",
            "30                 Oh I report that shit too. Sue me. -0.200000      0.800000\n",
            "31  There's an Irish Rail staff that vapes on the ... -0.500000      0.500000\n",
            "32  today on the red line some fucking knobhead wa... -0.133333      0.366667\n",
            "33  Totaly agree.. All European cities have crime ...  0.049956      0.470994\n",
            "34  Nothing more to add. Lived in Amsterdam and wo... -0.012500      0.550000\n",
            "35                        Was the crackhead a Tick? 🤭  0.000000      0.000000\n",
            "36  Apparently Garda don’t want it https://www.rte...  0.050000      0.350000\n",
            "37                                    What happened??  0.000000      0.000000\n",
            "38  > guy was swinging a knife around a full tram\\...  0.212500      0.606250\n",
            "39  **Mod note**\\n\\nWe sometimes receive messages ...  0.285124      0.418595\n",
            "40  I usually hear this from people who have their... -0.025000      0.325000\n",
            "41  It’s both. I’ve seen rail security clean up un... -0.133333      0.600000\n",
            "42  I agree with you and would like to think I wou... -0.179167      0.733333\n",
            "43  >The UK Transport police exist for this reason...  0.019048      0.433333\n",
            "44  It's a relief to even visit a normal city for ...  0.150000      0.416667\n",
            "45  The problem is the kind of person this post me... -0.006111      0.352778\n",
            "46  Patethic isnt it?! The hundreds and thousands ...  0.000000      0.000000\n",
            "47  I have to say the canal part with the swans is...  0.500000      0.750000\n",
            "48                   Nothing ever happens on the tube  0.000000      0.000000\n",
            "49  And the problem is allowed to persist.  When m...  0.500000      0.500000\n",
            "50  I understood also, that trams and busses have ...  0.070833      0.366667\n",
            "51  Unrealistically idealistic, man. You aren't go...  0.000000      0.000000\n"
          ]
        }
      ]
    },
    {
      "cell_type": "markdown",
      "source": [
        "The sentiment analysis findings for the Reddit post and comments are arranged neatly in a table. Each row in the table represents either the post or a comment. It shows the text, polarity score, and subjectivity score. The polarity score tells us how positive or negative the sentiment is, ranging from -1 (very negative) to 1 (very positive). Meanwhile, the subjectivity score indicates how much opinions or feelings are present in the text, from 0 (factual) to 1 (opinionated)."
      ],
      "metadata": {
        "id": "uaXsdZrgZLW0"
      }
    }
  ]
}